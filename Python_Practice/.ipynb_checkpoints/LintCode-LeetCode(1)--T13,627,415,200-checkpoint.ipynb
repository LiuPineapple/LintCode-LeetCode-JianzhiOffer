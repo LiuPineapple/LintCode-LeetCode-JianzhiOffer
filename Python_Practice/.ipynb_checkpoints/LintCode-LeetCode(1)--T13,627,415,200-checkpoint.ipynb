{
 "cells": [
  {
   "cell_type": "markdown",
   "metadata": {},
   "source": [
    "## T13_LintCode\n",
    "next数组代码还是没太懂"
   ]
  },
  {
   "cell_type": "markdown",
   "metadata": {},
   "source": [
    "#### 我的成功代码-1"
   ]
  },
  {
   "cell_type": "code",
   "execution_count": 15,
   "metadata": {},
   "outputs": [],
   "source": [
    "def strStr(self,source, target):\n",
    "    if source == '' and target == '':return 0#注意两个字符串中出现''的情况\n",
    "    elif target not in source: return -1\n",
    "    else:\n",
    "        for i in range(len(source)):\n",
    "            if target == source[i:i+len(target)]:\n",
    "                return i"
   ]
  },
  {
   "cell_type": "markdown",
   "metadata": {},
   "source": [
    "#### 九章答案的代码"
   ]
  },
  {
   "cell_type": "code",
   "execution_count": 14,
   "metadata": {},
   "outputs": [],
   "source": [
    "def strStr(self,source, target):\n",
    "    if source is None or target is None:\n",
    "        return -1\n",
    "    len_s = len(source)\n",
    "    len_t = len(target)\n",
    "    for i in range(len_s - len_t + 1):\n",
    "        j = 0\n",
    "        while (j < len_t):\n",
    "            if source[i + j] != target[j]:\n",
    "                break\n",
    "            j += 1\n",
    "        if j == len_t:\n",
    "            return i\n",
    "    return -1"
   ]
  },
  {
   "cell_type": "markdown",
   "metadata": {},
   "source": [
    "None是一种Python的数据类型，Python中不存在Null,空集合、字符串、列表并不是None"
   ]
  },
  {
   "cell_type": "markdown",
   "metadata": {},
   "source": [
    "无论是我的成功代码-1,还是答案的代码，都属于暴力匹配，复杂度为$O(n^2)$，如果使用KMP算法，可以将复杂度降为$O(m+n)$，其中，m和n分别为两个字符串的长度。\n",
    "KMP算法详见：https://blog.csdn.net/gao506440410/article/details/81812163"
   ]
  },
  {
   "cell_type": "markdown",
   "metadata": {},
   "source": [
    "#### 我的成功代码-2(使用KMP算法）"
   ]
  },
  {
   "cell_type": "code",
   "execution_count": 7,
   "metadata": {},
   "outputs": [],
   "source": [
    "#从别人博客上扒来计算next数组的方法\n",
    "def gen_pnext(p):\n",
    "    \"\"\"生成pnext表，用于KMP算法 \"\"\"\n",
    "    i, k, m = 0, -1, len(p)\n",
    "    pnext = [-1] * m #初始元素全设为-1\n",
    "    while i < m-1: #生成下一个pnext值\n",
    "        if k == -1 or p[i] == p[k]:\n",
    "            k,i = k+1, i+1\n",
    "            pnext[i] = k\n",
    "        else:\n",
    "            k = pnext[k] #退到跟短相同前缀\n",
    "    return pnext\n",
    "\n",
    "#———————————————— \n",
    "#版权声明：本文为CSDN博主「christian_gao」的原创文章，遵循CC 4.0 by-sa版权协议，转载请附上原文出处链接及本声明。\n",
    "#原文链接：https://blog.csdn.net/qq_23156731/article/details/79791459"
   ]
  },
  {
   "cell_type": "code",
   "execution_count": 13,
   "metadata": {},
   "outputs": [],
   "source": [
    "def strStr(self,source, target):\n",
    "    if source is None or target is None:\n",
    "        return -1\n",
    "    def gen_pnext(p):\n",
    "        i, k, m = 0, -1, len(p)\n",
    "        pnext = [-1] * m #初始元素全设为-1\n",
    "        while i < m-1: #生成下一个pnext值\n",
    "            if k == -1 or p[i] == p[k]:\n",
    "                k,i = k+1, i+1\n",
    "                pnext[i] = k\n",
    "            else:\n",
    "                k = pnext[k] #退到跟短相同前缀\n",
    "        return pnext\n",
    "    next = gen_pnext(target)\n",
    "    len_s = len(source)\n",
    "    len_t = len(target)\n",
    "    i = 0 \n",
    "    j = 0\n",
    "    while (i < len_s) and (j<len_t):\n",
    "        if source[i] == target[j] or j == -1:\n",
    "            j += 1\n",
    "            i += 1\n",
    "        else:\n",
    "            j = next[j]\n",
    "    if j == len_t:\n",
    "        return i-jj\n",
    "    return -1"
   ]
  },
  {
   "cell_type": "markdown",
   "metadata": {},
   "source": [
    "这段代码比之前的运行要快"
   ]
  },
  {
   "cell_type": "markdown",
   "metadata": {},
   "source": [
    "## T627_LintCode-LeetCode_T409"
   ]
  },
  {
   "cell_type": "markdown",
   "metadata": {},
   "source": [
    "#### 我的成功代码-1"
   ]
  },
  {
   "cell_type": "code",
   "execution_count": 7,
   "metadata": {},
   "outputs": [],
   "source": [
    "def longestPalindrome(self,s):\n",
    "    from collections import defaultdict\n",
    "    m = defaultdict(int)\n",
    "    r = 0\n",
    "    q = 0\n",
    "    for i in s:\n",
    "        m[i] +=1\n",
    "    for j in m:\n",
    "        if m[j] % 2 == 0:\n",
    "            r+=m[j]\n",
    "        else:\n",
    "            r+=m[j]-1\n",
    "            q+= 1\n",
    "    if q == 0:\n",
    "        return r\n",
    "    else:\n",
    "        return r+1"
   ]
  },
  {
   "cell_type": "markdown",
   "metadata": {},
   "source": [
    "执行速度较快，但内存占用较大"
   ]
  },
  {
   "cell_type": "markdown",
   "metadata": {},
   "source": [
    "#### 评论的代码-1"
   ]
  },
  {
   "cell_type": "code",
   "execution_count": 1,
   "metadata": {},
   "outputs": [],
   "source": [
    "def longestPalindrome(self,s):\n",
    "    return len(s) -max(0,sum([s.count(i)%2 for i in set(s)])-1)"
   ]
  },
  {
   "cell_type": "markdown",
   "metadata": {},
   "source": [
    "跟我的代码是相同思想，速度和内存占用也基本相同。，但是代码上要更简洁。"
   ]
  },
  {
   "cell_type": "markdown",
   "metadata": {},
   "source": [
    "- str.count()方法：https://www.runoob.com/python/att-string-count.html\n",
    "- set()可以用在字符串上"
   ]
  },
  {
   "cell_type": "markdown",
   "metadata": {},
   "source": [
    "暂时未找到节省内存的办法"
   ]
  },
  {
   "cell_type": "markdown",
   "metadata": {},
   "source": [
    "## T415_LintCode-LeetCode_T125\n",
    "如果遇到空字符串怎么解释呢？"
   ]
  },
  {
   "cell_type": "markdown",
   "metadata": {},
   "source": [
    "#### 评论的代码-1"
   ]
  },
  {
   "cell_type": "code",
   "execution_count": 3,
   "metadata": {},
   "outputs": [],
   "source": [
    "def isPalindrome(self,s: str) -> bool:\n",
    "    return (\"\".join(filter(str.isalnum, s)).lower()[::-1]) == (\"\".join(filter(str.isalnum, s)).lower())\n",
    "\n",
    "#作者：fu-te-jia-ma-ti-ni\n",
    "#链接：https://leetcode-cn.com/problems/two-sum/solution/python3-yi-xing-dai-ma-by-fu-te-jia-ma-ti-ni/\n",
    "#来源：力扣（LeetCode）\n",
    "#著作权归作者所有。商业转载请联系作者获得授权，非商业转载请注明出处。"
   ]
  },
  {
   "cell_type": "markdown",
   "metadata": {},
   "source": [
    "- str.isalnum()方法：https://www.runoob.com/python/att-string-isalnum.html\n",
    "- str.lower()方法: https://www.runoob.com/python/att-string-lower.html\n",
    "- str.filter()方法\n",
    "- [::-1] https://blog.csdn.net/mingyuli/article/details/81604795"
   ]
  },
  {
   "cell_type": "markdown",
   "metadata": {},
   "source": [
    "## T200_LintCode "
   ]
  },
  {
   "cell_type": "markdown",
   "metadata": {},
   "source": [
    "#### 我的成功代码"
   ]
  },
  {
   "cell_type": "code",
   "execution_count": 22,
   "metadata": {},
   "outputs": [],
   "source": [
    "def maximumGap(self,nums):\n",
    "    n = len(nums)\n",
    "    if n < 2:\n",
    "        return 0\n",
    "    nums = sorted(nums)\n",
    "    m = []\n",
    "    for i in range(n-1):\n",
    "        m.append(nums[i+1]-nums[i])\n",
    "    return sorted(m,reverse=True)[0]        "
   ]
  },
  {
   "cell_type": "markdown",
   "metadata": {},
   "source": [
    "- 空字典可以直接定位，但空数组不行，上面代码还可以改为："
   ]
  },
  {
   "cell_type": "code",
   "execution_count": 32,
   "metadata": {},
   "outputs": [],
   "source": [
    "def maximumGap(self,nums):\n",
    "    n = len(nums)\n",
    "    if n < 2:\n",
    "        return 0\n",
    "    nums = sorted(nums)\n",
    "    m = [0]*(n-1)\n",
    "    for i in range(n-1):\n",
    "        m[i]=(nums[i+1]-nums[i])\n",
    "    return sorted(m,reverse=True)[0] "
   ]
  },
  {
   "cell_type": "markdown",
   "metadata": {},
   "source": [
    "#### 九章答案的代码："
   ]
  },
  {
   "cell_type": "markdown",
   "metadata": {},
   "source": [
    "太复杂"
   ]
  },
  {
   "cell_type": "code",
   "execution_count": null,
   "metadata": {},
   "outputs": [],
   "source": []
  }
 ],
 "metadata": {
  "kernelspec": {
   "display_name": "Python 3",
   "language": "python",
   "name": "python3"
  },
  "language_info": {
   "codemirror_mode": {
    "name": "ipython",
    "version": 3
   },
   "file_extension": ".py",
   "mimetype": "text/x-python",
   "name": "python",
   "nbconvert_exporter": "python",
   "pygments_lexer": "ipython3",
   "version": "3.7.3"
  }
 },
 "nbformat": 4,
 "nbformat_minor": 2
}
