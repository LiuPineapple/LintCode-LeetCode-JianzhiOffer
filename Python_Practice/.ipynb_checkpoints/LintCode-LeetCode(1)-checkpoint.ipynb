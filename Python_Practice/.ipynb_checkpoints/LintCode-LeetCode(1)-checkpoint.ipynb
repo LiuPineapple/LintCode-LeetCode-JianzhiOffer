{
 "cells": [
  {
   "cell_type": "markdown",
   "metadata": {},
   "source": [
    "## T13_LintCode"
   ]
  },
  {
   "cell_type": "markdown",
   "metadata": {},
   "source": [
    "#### 我的成功代码-1"
   ]
  },
  {
   "cell_type": "code",
   "execution_count": 1,
   "metadata": {},
   "outputs": [],
   "source": [
    "def strStr(self,source, target):\n",
    "    if source == '' and target == '':return 0#注意两个字符串中出现''的情况\n",
    "    elif target not in source: return -1\n",
    "    else:\n",
    "        for i in range(len(source)):\n",
    "            if target == source[i:i+len(target)]:\n",
    "                return i"
   ]
  },
  {
   "cell_type": "markdown",
   "metadata": {},
   "source": [
    "#### 答案的代码"
   ]
  },
  {
   "cell_type": "code",
   "execution_count": 2,
   "metadata": {},
   "outputs": [],
   "source": [
    "def strStr(self, source, target):\n",
    "    if source is None or target is None:\n",
    "        return -1\n",
    "    len_s = len(source)\n",
    "    len_t = len(target)\n",
    "    for i in range(len_s - len_t + 1):\n",
    "        j = 0\n",
    "        while (j < len_t):\n",
    "            if source[i + j] != target[j]:\n",
    "                break\n",
    "            j += 1\n",
    "        if j == len_t:\n",
    "            return i\n",
    "    return -1"
   ]
  },
  {
   "cell_type": "markdown",
   "metadata": {},
   "source": [
    "无论是我的成功代码-1,还是答案的代码，都属于暴力匹配，复杂度为$O(n^2)$，如果使用KMP算法，可以将复杂度降为$O(m+n)$，其中，m和n分别为两个字符串的长度。\n",
    "KMP算法详见：https://blog.csdn.net/gao506440410/article/details/81812163"
   ]
  },
  {
   "cell_type": "markdown",
   "metadata": {},
   "source": [
    "#### 我的成功代码-2(使用KMP算法）"
   ]
  },
  {
   "cell_type": "code",
   "execution_count": 7,
   "metadata": {},
   "outputs": [],
   "source": [
    "#从别人博客上扒来计算next数组的方法\n",
    "def gen_pnext(p):\n",
    "    \"\"\"生成pnext表，用于KMP算法 \"\"\"\n",
    "    i, k, m = 0, -1, len(p)\n",
    "    pnext = [-1] * m #初始元素全设为-1\n",
    "    while i < m-1: #生成下一个pnext值\n",
    "        if k == -1 or p[i] == p[k]:\n",
    "            k,i = k+1, i+1\n",
    "            pnext[i] = k\n",
    "        else:\n",
    "            k = pnext[k] #退到跟短相同前缀\n",
    "    return pnext\n",
    "\n",
    " #———————————————— \n",
    "#版权声明：本文为CSDN博主「christian_gao」的原创文章，遵循CC 4.0 by-sa版权协议，转载请附上原文出处链接及本声明。\n",
    "#原文链接：https://blog.csdn.net/qq_23156731/article/details/79791459"
   ]
  },
  {
   "cell_type": "code",
   "execution_count": 26,
   "metadata": {},
   "outputs": [],
   "source": [
    "def strStr(self,source, target):\n",
    "    if source is None or target is None:\n",
    "        return -1\n",
    "    def gen_pnext(p):\n",
    "        i, k, m = 0, -1, len(p)\n",
    "        pnext = [-1] * m #初始元素全设为-1\n",
    "        while i < m-1: #生成下一个pnext值\n",
    "            if k == -1 or p[i] == p[k]:\n",
    "                k,i = k+1, i+1\n",
    "                pnext[i] = k\n",
    "            else:\n",
    "                k = pnext[k] #退到跟短相同前缀\n",
    "        return pnext\n",
    "    next = gen_pnext(target)\n",
    "    len_s = len(source)\n",
    "    len_t = len(target)\n",
    "    i = 0 \n",
    "    j = 0\n",
    "    while (i < len_s) and (j<len_t):\n",
    "        if source[i] == target[j] or j == -1:\n",
    "            j += 1\n",
    "            i += 1\n",
    "        else:\n",
    "            j = next[j]\n",
    "    if j == len_t:\n",
    "        return i-j\n",
    "    return -1"
   ]
  },
  {
   "cell_type": "markdown",
   "metadata": {},
   "source": [
    "这段代码比之前的运行要快"
   ]
  },
  {
   "cell_type": "code",
   "execution_count": null,
   "metadata": {},
   "outputs": [],
   "source": []
  }
 ],
 "metadata": {
  "kernelspec": {
   "display_name": "Python 3",
   "language": "python",
   "name": "python3"
  },
  "language_info": {
   "codemirror_mode": {
    "name": "ipython",
    "version": 3
   },
   "file_extension": ".py",
   "mimetype": "text/x-python",
   "name": "python",
   "nbconvert_exporter": "python",
   "pygments_lexer": "ipython3",
   "version": "3.7.3"
  }
 },
 "nbformat": 4,
 "nbformat_minor": 2
}
