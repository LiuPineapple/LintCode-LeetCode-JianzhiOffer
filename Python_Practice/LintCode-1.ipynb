{
 "cells": [
  {
   "cell_type": "markdown",
   "metadata": {},
   "source": [
    "### T13"
   ]
  },
  {
   "cell_type": "code",
   "execution_count": 1,
   "metadata": {},
   "outputs": [],
   "source": [
    "#我的成功代码\n",
    "def strStr(self,source, target):\n",
    "    if source == '' and target == '':return 0\n",
    "    elif target not in source: return -1\n",
    "    else:\n",
    "        for i in range(len(source)):\n",
    "            if target == source[i:i+len(target)]:\n",
    "                return i"
   ]
  },
  {
   "cell_type": "code",
   "execution_count": 2,
   "metadata": {},
   "outputs": [],
   "source": [
    "#答案的代码\n",
    "def strStr(self, source, target):\n",
    "    if source is None or target is None:\n",
    "        return -1\n",
    "    len_s = len(source)\n",
    "    len_t = len(target)\n",
    "    for i in range(len_s - len_t + 1):\n",
    "        j = 0\n",
    "        while (j < len_t):\n",
    "            if source[i + j] != target[j]:\n",
    "                break\n",
    "            j += 1\n",
    "        if j == len_t:\n",
    "            return i\n",
    "    return -1"
   ]
  },
  {
   "cell_type": "code",
   "execution_count": null,
   "metadata": {},
   "outputs": [],
   "source": []
  }
 ],
 "metadata": {
  "kernelspec": {
   "display_name": "Python 3",
   "language": "python",
   "name": "python3"
  },
  "language_info": {
   "codemirror_mode": {
    "name": "ipython",
    "version": 3
   },
   "file_extension": ".py",
   "mimetype": "text/x-python",
   "name": "python",
   "nbconvert_exporter": "python",
   "pygments_lexer": "ipython3",
   "version": "3.7.3"
  }
 },
 "nbformat": 4,
 "nbformat_minor": 2
}
