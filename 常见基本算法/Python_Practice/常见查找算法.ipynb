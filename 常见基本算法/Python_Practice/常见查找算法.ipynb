{
 "cells": [
  {
   "cell_type": "markdown",
   "metadata": {},
   "source": [
    "# 常见查找算法"
   ]
  },
  {
   "cell_type": "markdown",
   "metadata": {},
   "source": [
    "## 顺序查找"
   ]
  },
  {
   "cell_type": "markdown",
   "metadata": {},
   "source": [
    "顺序查找是按照序列原有顺序对数组进行遍历比较查询的基本查找算法\n",
    "\n",
    "复杂度：时间复杂度为O(n)，平均查找长度为(n+1)/2\n",
    "\n",
    "优点：算法简单，适应面广，对查找表的结构没有要求\n",
    "\n",
    "缺点：在n值比较大时查找长度较大，查找效率较低，没有应用到表的结构"
   ]
  },
  {
   "cell_type": "markdown",
   "metadata": {},
   "source": [
    "## 二分查找"
   ]
  },
  {
   "cell_type": "markdown",
   "metadata": {},
   "source": [
    "二分查找也称折半查找（Binary Search），它是一种效率较高的查找方法。但是，折半查找要求线性表必须采用顺序存储结构，而且表中元素按关键字有序排列\n",
    "\n",
    "基本思想：用给定值k先与中间结点的关键字比较，中间结点把线形表分成两个子表，若相等则查找成功；若不相等，再根据k与该中间结点关键字的比较结果确定下一步查找哪个子表，这样递归进行，直到查找到或查找结束发现表中没有这样的结点。\n",
    "\n",
    "复杂度：时间复杂度为O(logn)"
   ]
  },
  {
   "cell_type": "markdown",
   "metadata": {},
   "source": [
    "### 非递归实现"
   ]
  },
  {
   "cell_type": "code",
   "execution_count": 1,
   "metadata": {},
   "outputs": [],
   "source": [
    "# datalist是一个升序的列表,val为查找的值，返回bool值表示是否找到\n",
    "def bin_search(data_list, val):    \n",
    "    low = 0                         # 最小数下标    \n",
    "    high = len(data_list) - 1       # 最大数下标    \n",
    "    while low <= high:        \n",
    "        mid = (low + high) // 2     # 中间数下标        \n",
    "        if data_list[mid] == val:   # 如果中间数下标等于val, 返回            \n",
    "            return True        \n",
    "        elif data_list[mid] > val:  # 如果val在中间数左边, 移动high下标            \n",
    "            high = mid - 1        \n",
    "        else:                       # 如果val在中间数右边, 移动low下标            \n",
    "            low = mid + 1    \n",
    "    return False"
   ]
  },
  {
   "cell_type": "code",
   "execution_count": 9,
   "metadata": {},
   "outputs": [
    {
     "name": "stdout",
     "output_type": "stream",
     "text": [
      "False\n"
     ]
    }
   ],
   "source": [
    "ret = bin_search([], 3)\n",
    "print(ret)"
   ]
  },
  {
   "cell_type": "markdown",
   "metadata": {},
   "source": [
    "1. 二分查找的非递归实现一般使用while，条件为low<=high ，一定要小于等于不能是小于，否则可能会漏查\n",
    "2. 二分并不一定是严格二分，准确的说是二分后向下取整"
   ]
  },
  {
   "cell_type": "markdown",
   "metadata": {},
   "source": [
    "### 递归实现"
   ]
  },
  {
   "cell_type": "code",
   "execution_count": 12,
   "metadata": {},
   "outputs": [],
   "source": [
    "# datalist是一个升序的列表\n",
    "def bin_search(data_list, val): \n",
    "    if len(data_list)==0:\n",
    "        return False\n",
    "    low = 0                         # 最小数下标    \n",
    "    high = len(data_list) - 1       # 最大数下标          \n",
    "    mid = (low + high) // 2     # 中间数下标      \n",
    "    if data_list[mid] == val:   # 如果中间数下标等于val, 返回            \n",
    "        return True        \n",
    "    elif data_list[mid] > val:  # 如果val在中间数左边, 移动high下标            \n",
    "        return  bin_search(data_list[:mid],val)       \n",
    "    else:                       # 如果val在中间数右边, 移动low下标            \n",
    "        return  bin_search(data_list[mid+1:],val)"
   ]
  },
  {
   "cell_type": "code",
   "execution_count": 13,
   "metadata": {},
   "outputs": [
    {
     "name": "stdout",
     "output_type": "stream",
     "text": [
      "True\n"
     ]
    }
   ],
   "source": [
    "ret = bin_search([3,11], 11)\n",
    "print(ret)"
   ]
  },
  {
   "cell_type": "markdown",
   "metadata": {},
   "source": [
    "上面递归实现的代码能够成立依赖于一个很有意思的事情，看如下例子"
   ]
  },
  {
   "cell_type": "code",
   "execution_count": 6,
   "metadata": {},
   "outputs": [],
   "source": [
    "a = [3]"
   ]
  },
  {
   "cell_type": "code",
   "execution_count": 10,
   "metadata": {},
   "outputs": [
    {
     "ename": "IndexError",
     "evalue": "list index out of range",
     "output_type": "error",
     "traceback": [
      "\u001b[1;31m---------------------------------------------------------------------------\u001b[0m",
      "\u001b[1;31mIndexError\u001b[0m                                Traceback (most recent call last)",
      "\u001b[1;32m<ipython-input-10-8bc71255a22e>\u001b[0m in \u001b[0;36m<module>\u001b[1;34m\u001b[0m\n\u001b[1;32m----> 1\u001b[1;33m \u001b[0ma\u001b[0m\u001b[1;33m[\u001b[0m\u001b[1;36m1\u001b[0m\u001b[1;33m]\u001b[0m\u001b[1;33m\u001b[0m\u001b[1;33m\u001b[0m\u001b[0m\n\u001b[0m",
      "\u001b[1;31mIndexError\u001b[0m: list index out of range"
     ]
    }
   ],
   "source": [
    "a[1]"
   ]
  },
  {
   "cell_type": "code",
   "execution_count": 8,
   "metadata": {},
   "outputs": [
    {
     "data": {
      "text/plain": [
       "[]"
      ]
     },
     "execution_count": 8,
     "metadata": {},
     "output_type": "execute_result"
    }
   ],
   "source": [
    "a[1:]"
   ]
  },
  {
   "cell_type": "code",
   "execution_count": 11,
   "metadata": {},
   "outputs": [
    {
     "data": {
      "text/plain": [
       "[]"
      ]
     },
     "execution_count": 11,
     "metadata": {},
     "output_type": "execute_result"
    }
   ],
   "source": [
    "a[2:]"
   ]
  },
  {
   "cell_type": "markdown",
   "metadata": {},
   "source": [
    "可以看到，如果对一个列表做超出范围的索引会报错，但如果做超出范围的切片则不会报错，而是会返回一个空列表"
   ]
  },
  {
   "cell_type": "markdown",
   "metadata": {},
   "source": [
    "对比两种方法：\n",
    "1. 非递归用到while循环，要在最后补一个return False,而递归没有不用\n",
    "2. 递归需要判断传入数组的长度是否为0作为结束递归的条件之一，而非递归则不需要\n",
    "3. 剩下的代码非常类似,都用到了 if elif else"
   ]
  },
  {
   "cell_type": "code",
   "execution_count": null,
   "metadata": {},
   "outputs": [],
   "source": []
  }
 ],
 "metadata": {
  "kernelspec": {
   "display_name": "Python 3",
   "language": "python",
   "name": "python3"
  },
  "language_info": {
   "codemirror_mode": {
    "name": "ipython",
    "version": 3
   },
   "file_extension": ".py",
   "mimetype": "text/x-python",
   "name": "python",
   "nbconvert_exporter": "python",
   "pygments_lexer": "ipython3",
   "version": "3.7.3"
  }
 },
 "nbformat": 4,
 "nbformat_minor": 2
}
