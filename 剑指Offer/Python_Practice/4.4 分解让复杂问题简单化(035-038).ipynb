{
 "cells": [
  {
   "cell_type": "markdown",
   "metadata": {},
   "source": [
    "# 4.4 分解让复杂问题简单化(035-038)"
   ]
  },
  {
   "cell_type": "markdown",
   "metadata": {},
   "source": [
    "## 035-复杂链表的复制"
   ]
  },
  {
   "cell_type": "code",
   "execution_count": 4,
   "metadata": {},
   "outputs": [],
   "source": [
    "# -*- coding:utf-8 -*-\n",
    "#------------用空间换时间的做法----------------------------\n",
    "# class RandomListNode:\n",
    "#     def __init__(self, x):\n",
    "#         self.label = x\n",
    "#         self.next = None\n",
    "#         self.random = None\n",
    "class Solution():\n",
    "    # 返回 RandomListNode\n",
    "    def Clone(self, pHead):\n",
    "        # write code here\n",
    "        if pHead==None:\n",
    "            return None\n",
    "        pNode = pHead\n",
    "        Hash = {}\n",
    "        while pNode !=None:\n",
    "            cloneHead = RandomListNode(pNode.label)\n",
    "            Hash[pNode]=cloneHead\n",
    "            pNode = pNode.next\n",
    "        for node in Hash:\n",
    "            Hash[node].next = Hash[node.next]\n",
    "            Hash[node].random = Hash[node.random]\n",
    "        result = Hash[pHead]\n",
    "        return result"
   ]
  },
  {
   "cell_type": "markdown",
   "metadata": {},
   "source": [
    "##### Note\n",
    "上面的代码个人觉得没问题，不知道为啥牛客上无法通过"
   ]
  },
  {
   "cell_type": "code",
   "execution_count": 14,
   "metadata": {},
   "outputs": [],
   "source": [
    "# -*- coding:utf-8 -*-\n",
    "#--------------------剑指offer中的最优做法------------\n",
    "# class RandomListNode:\n",
    "#     def __init__(self, x):\n",
    "#         self.label = x\n",
    "#         self.next = None\n",
    "#         self.random = None\n",
    "class Solution():\n",
    "    # 返回 RandomListNode\n",
    "    def Clone(self, pHead):\n",
    "        # write code here\n",
    "        if pHead==None:\n",
    "            return None\n",
    "        #复制新节点在原节点后面\n",
    "        pNode = pHead\n",
    "        while pNode:\n",
    "            cloneNode = RandomListNode(pNode.label)\n",
    "            cloneNode.next = pNode.next\n",
    "            pNode.next = cloneNode\n",
    "            pNode = cloneNode.next\n",
    "        #加入随机指向\n",
    "        pNode = pHead\n",
    "        while pNode:\n",
    "            if pNode.random != None:\n",
    "                pNode.next.random = pNode.random.next\n",
    "            pNode = pNode.next.next\n",
    "        #拆分链表为两个\n",
    "        pNode = pHead\n",
    "        first = pHead.next\n",
    "        while pNode:\n",
    "            cloneNode = pNode.next\n",
    "            pNode.next = cloneNode.next\n",
    "            cloneNode.next = pNode.next.next if pNode.next != None else None\n",
    "            pNode = pNode.next\n",
    "        return first  "
   ]
  },
  {
   "cell_type": "markdown",
   "metadata": {},
   "source": [
    "## 036-二叉搜索树与双向链表"
   ]
  },
  {
   "cell_type": "code",
   "execution_count": 4,
   "metadata": {},
   "outputs": [],
   "source": [
    "# -*- coding:utf-8 -*-\n",
    "# class TreeNode:\n",
    "#     def __init__(self, x):\n",
    "#         self.val = x\n",
    "#         self.left = None\n",
    "#         self.right = None\n",
    "class Solution():\n",
    "    def Convert(self, pRootOfTree):\n",
    "        # write code here\n",
    "        first,_ = self.ConvertCore(pRootOfTree)\n",
    "        return first\n",
    "    def ConvertCore(self,pRootOfTree):\n",
    "        if pRootOfTree == None:\n",
    "            return None,None\n",
    "        if pRootOfTree.left == None and pRootOfTree.right == None:\n",
    "            return pRootOfTree,pRootOfTree\n",
    "        leftFirst,leftLast = self.ConvertCore(pRootOfTree.left)\n",
    "        rightFirst,rightLast = self.ConvertCore(pRootOfTree.right)\n",
    "        #first与last要么同时为None，要么都不为None\n",
    "        if leftFirst==None:\n",
    "            leftFirst=pRootOfTree\n",
    "#             leftFirst.left = None\n",
    "        else:\n",
    "            leftLast.right = pRootOfTree\n",
    "            pRootOfTree.left = leftLast\n",
    "        if rightFirst==None:\n",
    "            rightLast = pRootOfTree\n",
    "#             rightLast.right = None\n",
    "        else:\n",
    "            pRootOfTree.right = rightFirst\n",
    "            rightFirst.left = pRootOfTree\n",
    "        return leftFirst,rightLast"
   ]
  },
  {
   "cell_type": "markdown",
   "metadata": {},
   "source": [
    "## 037-序列化二叉树"
   ]
  },
  {
   "cell_type": "code",
   "execution_count": 4,
   "metadata": {},
   "outputs": [],
   "source": [
    "# -*- coding:utf-8 -*-\n",
    "class TreeNode:\n",
    "    def __init__(self, x):\n",
    "        self.val = x\n",
    "        self.left = None\n",
    "        self.right = None\n",
    "class Solution():\n",
    "    def Serialize(self, root):\n",
    "        # write code here\n",
    "        return '!'.join(self.SerializeCore(root))\n",
    "    \n",
    "    def SerializeCore(self,root):\n",
    "        series = []\n",
    "        if root==None:\n",
    "            return ['#']\n",
    "        series.append(str(root.val))\n",
    "        return series + self.SerializeCore(root.left)+self.SerializeCore(root.right)\n",
    "\n",
    "    def Deserialize(self, s):\n",
    "        # write code here\n",
    "        if s=='':\n",
    "            return None\n",
    "        s = s.split('!')\n",
    "        return self.DeserializeCore(s)\n",
    "    def DeserializeCore(self,s):\n",
    "        if s[0] != '#':\n",
    "            node = TreeNode(int(s.pop(0)))            \n",
    "            node.left=self.DeserializeCore(s)\n",
    "            node.right = self.DeserializeCore(s)\n",
    "            return node\n",
    "        else:\n",
    "            s.pop(0)\n",
    "            return None"
   ]
  },
  {
   "cell_type": "code",
   "execution_count": 2,
   "metadata": {},
   "outputs": [],
   "source": [
    "# -*- coding:utf-8 -*-\n",
    "class TreeNode:\n",
    "    def __init__(self, x):\n",
    "        self.val = x\n",
    "        self.left = None\n",
    "        self.right = None\n",
    "class Solution():\n",
    "    def Serialize(self, root):\n",
    "        # write code here\n",
    "        series = ''\n",
    "        if root==None:\n",
    "            return '#!'\n",
    "        series+=str(root.val)\n",
    "        series+='!'\n",
    "        return series + self.Serialize(root.left)+self.Serialize(root.right)\n",
    "\n",
    "    def Deserialize(self, s):\n",
    "        # write code here\n",
    "        if s=='':\n",
    "            return None\n",
    "        s = s.split('!')\n",
    "        return self.DeserializeCore(s)\n",
    "    def DeserializeCore(self,s):\n",
    "        if s[0] != '#':\n",
    "            node = TreeNode(int(s.pop(0)))            \n",
    "            node.left=self.DeserializeCore(s)\n",
    "            node.right = self.DeserializeCore(s)\n",
    "            return node\n",
    "        else:\n",
    "            s.pop(0)\n",
    "            return None"
   ]
  },
  {
   "cell_type": "markdown",
   "metadata": {},
   "source": [
    "##### Note\n",
    "上面两种做法并没有什么本质的区别，不过第一种做法更完善一些，可以使得字符串最后不会出现'!'"
   ]
  },
  {
   "cell_type": "code",
   "execution_count": null,
   "metadata": {},
   "outputs": [],
   "source": []
  }
 ],
 "metadata": {
  "kernelspec": {
   "display_name": "Python 3",
   "language": "python",
   "name": "python3"
  },
  "language_info": {
   "codemirror_mode": {
    "name": "ipython",
    "version": 3
   },
   "file_extension": ".py",
   "mimetype": "text/x-python",
   "name": "python",
   "nbconvert_exporter": "python",
   "pygments_lexer": "ipython3",
   "version": "3.7.3"
  }
 },
 "nbformat": 4,
 "nbformat_minor": 4
}
