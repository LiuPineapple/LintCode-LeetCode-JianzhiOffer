{
 "cells": [
  {
   "cell_type": "markdown",
   "metadata": {},
   "source": [
    "# 4.4 分解让复杂问题简单化(035-038)"
   ]
  },
  {
   "cell_type": "markdown",
   "metadata": {},
   "source": [
    "## 035-复杂链表的复制"
   ]
  },
  {
   "cell_type": "code",
   "execution_count": 4,
   "metadata": {},
   "outputs": [],
   "source": [
    "# -*- coding:utf-8 -*-\n",
    "#------------用空间换时间的做法----------------------------\n",
    "# class RandomListNode:\n",
    "#     def __init__(self, x):\n",
    "#         self.label = x\n",
    "#         self.next = None\n",
    "#         self.random = None\n",
    "class Solution():\n",
    "    # 返回 RandomListNode\n",
    "    def Clone(self, pHead):\n",
    "        # write code here\n",
    "        if pHead==None:\n",
    "            return None\n",
    "        pNode = pHead\n",
    "        Hash = {}\n",
    "        while pNode !=None:\n",
    "            cloneHead = RandomListNode(pNode.label)\n",
    "            Hash[pNode]=cloneHead\n",
    "            pNode = pNode.next\n",
    "        for node in Hash:\n",
    "            Hash[node].next = Hash[node.next]\n",
    "            Hash[node].random = Hash[node.random]\n",
    "        result = Hash[pHead]\n",
    "        return result"
   ]
  },
  {
   "cell_type": "markdown",
   "metadata": {},
   "source": [
    "##### Note\n",
    "上面的代码个人觉得没问题，不知道为啥牛客上无法通过"
   ]
  },
  {
   "cell_type": "code",
   "execution_count": 14,
   "metadata": {},
   "outputs": [],
   "source": [
    "# -*- coding:utf-8 -*-\n",
    "#--------------------剑指offer中的最优做法------------\n",
    "# class RandomListNode:\n",
    "#     def __init__(self, x):\n",
    "#         self.label = x\n",
    "#         self.next = None\n",
    "#         self.random = None\n",
    "class Solution():\n",
    "    # 返回 RandomListNode\n",
    "    def Clone(self, pHead):\n",
    "        # write code here\n",
    "        if pHead==None:\n",
    "            return None\n",
    "        #复制新节点在原节点后面\n",
    "        pNode = pHead\n",
    "        while pNode:\n",
    "            cloneNode = RandomListNode(pNode.label)\n",
    "            cloneNode.next = pNode.next\n",
    "            pNode.next = cloneNode\n",
    "            pNode = cloneNode.next\n",
    "        #加入随机指向\n",
    "        pNode = pHead\n",
    "        while pNode:\n",
    "            if pNode.random != None:\n",
    "                pNode.next.random = pNode.random.next\n",
    "            pNode = pNode.next.next\n",
    "        #拆分链表为两个\n",
    "        pNode = pHead\n",
    "        first = pHead.next\n",
    "        while pNode:\n",
    "            cloneNode = pNode.next\n",
    "            pNode.next = cloneNode.next\n",
    "            cloneNode.next = pNode.next.next if pNode.next != None else None\n",
    "            pNode = pNode.next\n",
    "        return first  "
   ]
  },
  {
   "cell_type": "code",
   "execution_count": null,
   "metadata": {},
   "outputs": [],
   "source": []
  }
 ],
 "metadata": {
  "kernelspec": {
   "display_name": "Python 3",
   "language": "python",
   "name": "python3"
  },
  "language_info": {
   "codemirror_mode": {
    "name": "ipython",
    "version": 3
   },
   "file_extension": ".py",
   "mimetype": "text/x-python",
   "name": "python",
   "nbconvert_exporter": "python",
   "pygments_lexer": "ipython3",
   "version": "3.7.3"
  }
 },
 "nbformat": 4,
 "nbformat_minor": 4
}
