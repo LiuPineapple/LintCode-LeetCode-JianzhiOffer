{
 "cells": [
  {
   "cell_type": "markdown",
   "metadata": {},
   "source": [
    "# 6.3 知识迁移能力(053-059)"
   ]
  },
  {
   "cell_type": "markdown",
   "metadata": {},
   "source": [
    "## 053-在排序数组中查找数字"
   ]
  },
  {
   "cell_type": "markdown",
   "metadata": {},
   "source": [
    "### 题目一：数字在排序数组中出现的次数"
   ]
  },
  {
   "cell_type": "code",
   "execution_count": 1,
   "metadata": {},
   "outputs": [],
   "source": [
    "# -*- coding:utf-8 -*-\n",
    "#二分查找\n",
    "class Solution:\n",
    "    def GetNumberOfK(self, data, k):\n",
    "        # write code here\n",
    "        if k not in data:\n",
    "            return 0\n",
    "        low = 0\n",
    "        high = len(data)-1\n",
    "        while low<=high:\n",
    "            mid = (low+high)//2\n",
    "            if data[mid] == k and (mid==0 or data[mid-1] != k):\n",
    "                break\n",
    "            elif data[mid] > k or data[mid] == k and data[mid-1] == k:\n",
    "                high = mid-1\n",
    "            else:\n",
    "                low = mid+1\n",
    "        first = mid\n",
    "        low = 0\n",
    "        high = len(data)-1\n",
    "        while low<=high:\n",
    "            mid = (low+high)//2\n",
    "            if data[mid] == k and (mid == len(data)-1 or data[mid+1] != k):\n",
    "                break\n",
    "            elif data[mid] < k or data[mid] == k and data[mid+1] == k:\n",
    "                low = mid+1\n",
    "            else:\n",
    "                high = mid-1\n",
    "        last = mid\n",
    "        return last-first+1"
   ]
  },
  {
   "cell_type": "code",
   "execution_count": 2,
   "metadata": {},
   "outputs": [],
   "source": [
    "# -*- coding:utf-8 -*-\n",
    "#二分查找\n",
    "class Solution:\n",
    "    def GetNumberOfK(self, data, k):\n",
    "        # write code here\n",
    "        if k not in data:\n",
    "            return 0\n",
    "        low = 0\n",
    "        high = len(data)-1\n",
    "        while low<=high:\n",
    "            mid = (low+high)//2\n",
    "            if data[mid] == k and (mid==0 or data[mid-1] != k):\n",
    "                break\n",
    "            elif data[mid] < k:\n",
    "                low = mid+1\n",
    "            else:\n",
    "                high = mid-1\n",
    "        first = mid\n",
    "        low = 0\n",
    "        high = len(data)-1\n",
    "        while low<=high:\n",
    "            mid = (low+high)//2\n",
    "            if data[mid] == k and (mid == len(data)-1 or data[mid+1] != k):\n",
    "                break\n",
    "            elif data[mid] >k:\n",
    "                high = mid-1\n",
    "            else:\n",
    "                low = mid+1\n",
    "        last = mid\n",
    "        return last-first+1"
   ]
  },
  {
   "cell_type": "markdown",
   "metadata": {},
   "source": [
    "##### Note\n",
    "1. 上面两段代码本质一样，后一个更简洁\n",
    "2. 其实就是把相等的情况又分成了两份"
   ]
  },
  {
   "cell_type": "markdown",
   "metadata": {},
   "source": [
    "### 题目二 0~n-1中缺失的数字"
   ]
  },
  {
   "cell_type": "markdown",
   "metadata": {},
   "source": [
    "牛客网上没有，在力扣上找到，为力扣面试题第53-2题"
   ]
  },
  {
   "cell_type": "code",
   "execution_count": 6,
   "metadata": {},
   "outputs": [],
   "source": [
    "class Solution:\n",
    "    def missingNumber(self, nums:list) -> int:\n",
    "        low = 0\n",
    "        high = len(nums)-1\n",
    "        while low<=high:\n",
    "            mid = (low+high)//2\n",
    "            if nums[mid] != mid and (mid==0 or nums[mid-1]==mid-1):\n",
    "                return mid\n",
    "            elif nums[mid] == mid:\n",
    "                low=mid+1\n",
    "            else:\n",
    "                high = mid-1\n",
    "        return len(nums)#缺失在最后一个的情况"
   ]
  },
  {
   "cell_type": "markdown",
   "metadata": {},
   "source": [
    "### 题目三牛客和力扣上都没找到，不做"
   ]
  },
  {
   "cell_type": "code",
   "execution_count": null,
   "metadata": {},
   "outputs": [],
   "source": []
  }
 ],
 "metadata": {
  "kernelspec": {
   "display_name": "Python 3",
   "language": "python",
   "name": "python3"
  },
  "language_info": {
   "codemirror_mode": {
    "name": "ipython",
    "version": 3
   },
   "file_extension": ".py",
   "mimetype": "text/x-python",
   "name": "python",
   "nbconvert_exporter": "python",
   "pygments_lexer": "ipython3",
   "version": "3.7.3"
  }
 },
 "nbformat": 4,
 "nbformat_minor": 4
}
