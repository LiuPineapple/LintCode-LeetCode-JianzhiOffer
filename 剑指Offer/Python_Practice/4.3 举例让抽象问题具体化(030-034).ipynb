{
 "cells": [
  {
   "cell_type": "markdown",
   "metadata": {},
   "source": [
    "# 4.3 举例让抽象问题具体化(030-034)"
   ]
  },
  {
   "cell_type": "markdown",
   "metadata": {},
   "source": [
    "## 030-包含min函数的栈"
   ]
  },
  {
   "cell_type": "code",
   "execution_count": 2,
   "metadata": {},
   "outputs": [],
   "source": [
    "# -*- coding:utf-8 -*-\n",
    "class Solution():\n",
    "    def __init__(self):\n",
    "        self.stack = []\n",
    "        self.minstack = []\n",
    "    def push(self, node):\n",
    "        # write code here\n",
    "        self.stack.append(node)\n",
    "        if self.minstack == []:\n",
    "            self.minstack.append(node)\n",
    "        else:\n",
    "            if self.minstack[-1] >node:\n",
    "                self.minstack.append(node)\n",
    "            else:\n",
    "                self.minstack.append(self.minstack[-1])     \n",
    "    def pop(self):\n",
    "        # write code here\n",
    "        if self.stack == []:\n",
    "            return None\n",
    "        else:\n",
    "            self.minstack.pop()\n",
    "            return self.stack.pop()\n",
    "    def top(self):\n",
    "        # write code here\n",
    "        if self.stack == []:\n",
    "            return None\n",
    "        else:\n",
    "            return self.stack[-1]\n",
    "    def min(self):\n",
    "        # write code here\n",
    "        if self.minstack == []:\n",
    "            return None\n",
    "        else:\n",
    "            return self.minstack[-1]"
   ]
  },
  {
   "cell_type": "markdown",
   "metadata": {},
   "source": [
    "## 031-栈的压入、弹出序列"
   ]
  },
  {
   "cell_type": "code",
   "execution_count": null,
   "metadata": {},
   "outputs": [],
   "source": [
    "# -*- coding:utf-8 -*-\n",
    "class Solution():\n",
    "    def IsPopOrder(self, pushV, popV):\n",
    "        # write code here\n",
    "        if len(pushV) != len(popV):\n",
    "            return False\n",
    "        if len(pushV) == 0 and len(popV) == 0:\n",
    "            return True\n",
    "        ls = []\n",
    "        for i in range(len(popV)):\n",
    "            if ls != [] and ls[-1]==popV[i]:\n",
    "                ls.pop()\n",
    "            else:\n",
    "                if popV[i] not in pushV:\n",
    "                    return False\n",
    "                else:\n",
    "                    ls.extend(pushV[:pushV.index(popV[i])+1])\n",
    "                    ls.pop()\n",
    "                    pushV = pushV[pushV.index(popV[i])+1:]\n",
    "        return True"
   ]
  },
  {
   "cell_type": "code",
   "execution_count": 5,
   "metadata": {},
   "outputs": [],
   "source": [
    "# -*- coding:utf-8 -*-\n",
    "class Solution():\n",
    "    def IsPopOrder(self, pushV, popV):\n",
    "        # write code here\n",
    "        if len(pushV)==0 and len(popV)==0:\n",
    "            return True\n",
    "        if len(pushV)==0 or len(popV)==0:\n",
    "            return False\n",
    "        ls = []\n",
    "        for i in range(len(popV)):\n",
    "            if ls != [] and popV[i]==ls[-1]:\n",
    "                ls.pop(-1)\n",
    "            else:\n",
    "                ifTrue = False\n",
    "                for j in range(len(pushV)):\n",
    "                    ls.append(pushV[j])\n",
    "                    if popV[i] == pushV[j]:\n",
    "                        ifTrue = True\n",
    "                        pushV = pushV[j+1:]\n",
    "                        ls.pop(-1)\n",
    "                        break\n",
    "                if not ifTrue:\n",
    "                    return False\n",
    "        return True                              "
   ]
  },
  {
   "cell_type": "markdown",
   "metadata": {},
   "source": [
    "##### Note\n",
    "1. range(n)里面有n个元素\n",
    "2. 如果是对range(0)做for循环的话，不会报错，也不会执行任何操作\n",
    "3. 上面两段代码的区别就是不同时期复习写的，本质思想是一样的，第一个代码利用了list的.index()方法和python的in运算符，更简洁一些。第二个代码的ifTrue的使用也比较巧妙，如果不想直接return的话，iftrue+break是一个小技巧。"
   ]
  },
  {
   "cell_type": "markdown",
   "metadata": {},
   "source": [
    "## 032-从上到下打印二叉树"
   ]
  },
  {
   "cell_type": "markdown",
   "metadata": {},
   "source": [
    "### 题目一：不分行从上到下打印二叉树"
   ]
  },
  {
   "cell_type": "code",
   "execution_count": 5,
   "metadata": {},
   "outputs": [],
   "source": [
    "# -*- coding:utf-8 -*-\n",
    "#------------------循环实现广度优先遍历--------------------\n",
    "# class TreeNode:\n",
    "#     def __init__(self, x):\n",
    "#         self.val = x\n",
    "#         self.left = None\n",
    "#         self.right = None\n",
    "class Solution():\n",
    "    # 返回从上到下每个节点值列表，例：[1,2,3]\n",
    "    def PrintFromTopToBottom(self, root):\n",
    "        # write code here\n",
    "        queue = []\n",
    "        result = []\n",
    "        if root != None:\n",
    "            queue.append(root)\n",
    "        while queue != []:\n",
    "            node = queue.pop(0)\n",
    "            result.append(node.val)\n",
    "            if node.left != None:\n",
    "                queue.append(node.left)\n",
    "            if node.right != None:\n",
    "                queue.append(node.right)\n",
    "        return result"
   ]
  },
  {
   "cell_type": "markdown",
   "metadata": {},
   "source": [
    "##### Note\n",
    "1. 使用list配合append方法和pop(0)可以实现队列的功效\n",
    "2. 使用list配合append方法和pop()/pop(-1)可以实现栈的功效\n",
    "3. 第一个list里是结点，第二个list里是数值，本身宽度优先遍历使用一个list就可以，本题之所以使用两个是因为要求使用列表输出。把每一个节点的值放进第二个列表的过程可以看作是对此节点的访问。即本题要求的访问操作是放入列表，其他访问操作还有打印，判断、赋值等"
   ]
  },
  {
   "cell_type": "markdown",
   "metadata": {},
   "source": [
    "### 题目二：分行从上到下打印二叉树"
   ]
  },
  {
   "cell_type": "code",
   "execution_count": 6,
   "metadata": {},
   "outputs": [],
   "source": [
    "# class TreeNode:\n",
    "#     def __init__(self, x):\n",
    "#         self.val = x\n",
    "#         self.left = None\n",
    "#         self.right = None\n",
    "class Solution():\n",
    "    # 返回二维列表[[1,2],[4,5]]\n",
    "    def Print(self, pRoot):\n",
    "        # write code here\n",
    "        queue = []\n",
    "        result = []\n",
    "        batchresult = []\n",
    "        thisLevel = 1\n",
    "        nextLevel = 0\n",
    "        if pRoot != None:\n",
    "            queue.append(pRoot)\n",
    "        while queue != []:\n",
    "            node = queue.pop(0)\n",
    "            batchresult.append(node.val)\n",
    "            if node.left != None:\n",
    "                queue.append(node.left)\n",
    "                nextLevel+=1\n",
    "            if node.right != None:\n",
    "                queue.append(node.right)\n",
    "                nextLevel+=1\n",
    "            thisLevel -= 1\n",
    "            if thisLevel == 0:\n",
    "                thisLevel = nextLevel\n",
    "                nextLevel = 0\n",
    "                result.append(batchresult)\n",
    "                batchresult = []\n",
    "        return result"
   ]
  },
  {
   "cell_type": "markdown",
   "metadata": {},
   "source": [
    "### 题目三：之字形打印二叉树"
   ]
  },
  {
   "cell_type": "code",
   "execution_count": 9,
   "metadata": {},
   "outputs": [],
   "source": [
    "# class TreeNode:\n",
    "#     def __init__(self, x):\n",
    "#         self.val = x\n",
    "#         self.left = None\n",
    "#         self.right = None\n",
    "class Solution():\n",
    "    # 返回二维列表[[1,2],[4,5]]\n",
    "    def Print(self, pRoot):\n",
    "        # write code here\n",
    "        queue = []\n",
    "        result = []\n",
    "        batchresult = []\n",
    "        thisLevel = 1\n",
    "        nextLevel = 0\n",
    "        Order = True\n",
    "        if pRoot != None:\n",
    "            queue.append(pRoot)\n",
    "        while queue != []:\n",
    "            node = queue.pop(0)\n",
    "            batchresult.append(node.val)\n",
    "            if node.left != None:\n",
    "                queue.append(node.left)\n",
    "                nextLevel+=1\n",
    "            if node.right != None:\n",
    "                queue.append(node.right)\n",
    "                nextLevel+=1\n",
    "            thisLevel -= 1\n",
    "            if thisLevel == 0:\n",
    "                thisLevel = nextLevel\n",
    "                nextLevel = 0\n",
    "                result.append(batchresult if Order else batchresult[::-1])\n",
    "                batchresult = []\n",
    "                Order = not Order\n",
    "        return result"
   ]
  },
  {
   "cell_type": "markdown",
   "metadata": {},
   "source": [
    "## 033-二叉搜索树的后序遍历序列"
   ]
  },
  {
   "cell_type": "code",
   "execution_count": 24,
   "metadata": {},
   "outputs": [],
   "source": [
    "# -*- coding:utf-8 -*-\n",
    "class Solution():\n",
    "    def VerifySquenceOfBST(self, sequence):\n",
    "        # write code here\n",
    "        if len(sequence)==0:\n",
    "            return False\n",
    "        root = sequence[-1]\n",
    "        i = 0\n",
    "        for i in range(len(sequence)):\n",
    "            if sequence[i]>=root:\n",
    "                break\n",
    "        j = i\n",
    "        for j in range(i,len(sequence)-1):\n",
    "            if sequence[j]<root:\n",
    "                return False\n",
    "        left = True\n",
    "        right = True\n",
    "        if i>0:\n",
    "            left = self.VerifySquenceOfBST(sequence[:i])\n",
    "        if i<len(sequence)-1:\n",
    "            right = self.VerifySquenceOfBST(sequence[i:len(sequence)-1])                                 \n",
    "        return left and right"
   ]
  },
  {
   "cell_type": "markdown",
   "metadata": {},
   "source": [
    "##### Note\n",
    "1. 注意上面代码中i和for循环的配合\n",
    "2. i也是函数作用域下的一个变量，for循环里面做的事情是先把迭代序列中的值赋值给i，然后再进行其他操作，如果迭代序列为空，for循环不执行任何操作，当然i也就没有被赋值"
   ]
  },
  {
   "cell_type": "markdown",
   "metadata": {},
   "source": [
    "## 034-二叉树中和为某一值的路径"
   ]
  },
  {
   "cell_type": "code",
   "execution_count": 10,
   "metadata": {},
   "outputs": [],
   "source": [
    "# -*- coding:utf-8 -*-\n",
    "# class TreeNode:\n",
    "#     def __init__(self, x):\n",
    "#         self.val = x\n",
    "#         self.left = None\n",
    "#         self.right = None\n",
    "class Solution():\n",
    "    # 返回二维列表，内部每个列表表示找到的路径\n",
    "    def __init__(self):\n",
    "        self.result = []\n",
    "    def FindPath(self, root, expectNumber):\n",
    "        # write code here\n",
    "        batchresult = []\n",
    "        sum = 0\n",
    "        self.FindPathCore(root,expectNumber,batchresult,sum)\n",
    "        return self.result\n",
    "    \n",
    "    def FindPathCore(self,root,expectNumber,batchresult,sum):\n",
    "        if root == None:\n",
    "            return\n",
    "        batchresult.append(root.val)\n",
    "        sum+=root.val\n",
    "        if root.left == None and root.right == None:\n",
    "            if sum==expectNumber:\n",
    "                self.result.append(batchresult)\n",
    "        else:\n",
    "            self.FindPathCore(root.left,expectNumber,batchresult[:],sum)\n",
    "            self.FindPathCore(root.right,expectNumber,batchresult[:],sum)  "
   ]
  },
  {
   "cell_type": "code",
   "execution_count": 12,
   "metadata": {},
   "outputs": [],
   "source": [
    "# -*- coding:utf-8 -*-\n",
    "# class TreeNode:\n",
    "#     def __init__(self, x):\n",
    "#         self.val = x\n",
    "#         self.left = None\n",
    "#         self.right = None\n",
    "class Solution(): \n",
    "    # 返回二维列表，内部每个列表表示找到的路径\n",
    "    def __init__(self):\n",
    "        self.result = []\n",
    "    def FindPath(self, root, expectNumber):\n",
    "        # write code here\n",
    "        batchresult = []\n",
    "        sum = 0\n",
    "        self.FindPathCore(root,expectNumber,batchresult,sum)\n",
    "        return self.result\n",
    "    \n",
    "    def FindPathCore(self,root,expectNumber,batchresult,sum):\n",
    "        if root == None:\n",
    "            return\n",
    "        batchresult.append(root.val)\n",
    "        sum+=root.val\n",
    "        if root.left == None and root.right == None:\n",
    "            if sum==expectNumber:\n",
    "                self.result.append(batchresult[:])\n",
    "            batchresult.pop()\n",
    "#             sum-=root.val\n",
    "#sum减不减都行\n",
    "        else:\n",
    "            self.FindPathCore(root.left,expectNumber,batchresult,sum)\n",
    "            self.FindPathCore(root.right,expectNumber,batchresult,sum)\n",
    "            batchresult.pop()\n",
    "#             sum-=root.val\n",
    "#sum减不减都行"
   ]
  },
  {
   "cell_type": "markdown",
   "metadata": {},
   "source": [
    "##### Note\n",
    "1. 上面两种解法本质相同，前者简洁一些\n",
    "2. list(ls),ls[:],ls.copy()都是产生一个列表的副本，不过后者python2并不支持，故牛客网用不了\n",
    "3. 复习时要通过这道题仔细理解递归的特性，和python的对象引用特性"
   ]
  },
  {
   "cell_type": "code",
   "execution_count": null,
   "metadata": {},
   "outputs": [],
   "source": []
  }
 ],
 "metadata": {
  "kernelspec": {
   "display_name": "Python 3",
   "language": "python",
   "name": "python3"
  },
  "language_info": {
   "codemirror_mode": {
    "name": "ipython",
    "version": 3
   },
   "file_extension": ".py",
   "mimetype": "text/x-python",
   "name": "python",
   "nbconvert_exporter": "python",
   "pygments_lexer": "ipython3",
   "version": "3.7.3"
  }
 },
 "nbformat": 4,
 "nbformat_minor": 4
}
