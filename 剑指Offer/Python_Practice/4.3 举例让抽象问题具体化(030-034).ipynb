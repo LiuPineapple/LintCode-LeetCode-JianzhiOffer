{
 "cells": [
  {
   "cell_type": "markdown",
   "metadata": {},
   "source": [
    "# 4.3 举例让抽象问题具体化(030-034)"
   ]
  },
  {
   "cell_type": "markdown",
   "metadata": {},
   "source": [
    "## 030-包含min函数的栈"
   ]
  },
  {
   "cell_type": "code",
   "execution_count": 3,
   "metadata": {},
   "outputs": [],
   "source": [
    "# -*- coding:utf-8 -*-\n",
    "class Solution():\n",
    "    def __init__(self):\n",
    "        self.stack = []\n",
    "        self.minstack = []\n",
    "    def push(self, node):\n",
    "        # write code here\n",
    "        self.stack.append(node)\n",
    "        if self.minstack == []:\n",
    "            self.minstack.append(node)\n",
    "        else:\n",
    "            if self.minstack[-1] >node:\n",
    "                self.minstack.append(node)\n",
    "            else:\n",
    "                self.minstack.append(self.minstack[-1])     \n",
    "    def pop(self):\n",
    "        # write code here\n",
    "        if self.stack == []:\n",
    "            return None\n",
    "        else:\n",
    "            self.minstack.pop(-1)\n",
    "            return self.stack.pop(-1)\n",
    "    def top(self):\n",
    "        # write code here\n",
    "        if self.stack == []:\n",
    "            return None\n",
    "        else:\n",
    "            return self.stack[-1]\n",
    "    def min(self):\n",
    "        # write code here\n",
    "        if self.minstack == []:\n",
    "            return None\n",
    "        else:\n",
    "            return self.minstack[-1]"
   ]
  },
  {
   "cell_type": "markdown",
   "metadata": {},
   "source": [
    "## 031-栈的压入、弹出序列"
   ]
  },
  {
   "cell_type": "code",
   "execution_count": 5,
   "metadata": {},
   "outputs": [],
   "source": [
    "# -*- coding:utf-8 -*-\n",
    "class Solution():\n",
    "    def IsPopOrder(self, pushV, popV):\n",
    "        # write code here\n",
    "        if len(pushV)==0 and len(popV)==0:\n",
    "            return True\n",
    "        if len(pushV)==0 or len(popV)==0:\n",
    "            return False\n",
    "        ls = []\n",
    "        for i in range(len(popV)):\n",
    "            if ls != [] and popV[i]==ls[-1]:\n",
    "                ls.pop(-1)\n",
    "            else:\n",
    "                ifTrue = False\n",
    "                for j in range(len(pushV)):\n",
    "                    ls.append(pushV[j])\n",
    "                    if popV[i] == pushV[j]:\n",
    "                        ifTrue = True\n",
    "                        pushV = pushV[j+1:]\n",
    "                        ls.pop(-1)\n",
    "                        break\n",
    "                if not ifTrue:\n",
    "                    return False\n",
    "        return True                              "
   ]
  },
  {
   "cell_type": "code",
   "execution_count": 6,
   "metadata": {},
   "outputs": [],
   "source": [
    "for i in range(0):\n",
    "    pirnt('s')"
   ]
  },
  {
   "cell_type": "markdown",
   "metadata": {},
   "source": [
    "##### Note\n",
    "1. range(n)里面有n个元素\n",
    "2. 如果是对range(0)做for循环的话，不会报错，也不会执行任何操作"
   ]
  },
  {
   "cell_type": "code",
   "execution_count": null,
   "metadata": {},
   "outputs": [],
   "source": []
  }
 ],
 "metadata": {
  "kernelspec": {
   "display_name": "Python 3",
   "language": "python",
   "name": "python3"
  },
  "language_info": {
   "codemirror_mode": {
    "name": "ipython",
    "version": 3
   },
   "file_extension": ".py",
   "mimetype": "text/x-python",
   "name": "python",
   "nbconvert_exporter": "python",
   "pygments_lexer": "ipython3",
   "version": "3.7.3"
  }
 },
 "nbformat": 4,
 "nbformat_minor": 4
}
