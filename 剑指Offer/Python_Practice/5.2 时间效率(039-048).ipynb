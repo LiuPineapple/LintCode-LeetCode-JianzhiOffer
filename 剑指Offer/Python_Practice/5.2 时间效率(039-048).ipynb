{
 "cells": [
  {
   "cell_type": "markdown",
   "metadata": {},
   "source": [
    "# 5.2 时间效率(039-048)"
   ]
  },
  {
   "cell_type": "markdown",
   "metadata": {},
   "source": [
    "## 039-数组中出现次数超过一半的数字"
   ]
  },
  {
   "cell_type": "code",
   "execution_count": 1,
   "metadata": {},
   "outputs": [],
   "source": [
    "# -*- coding:utf-8 -*-\n",
    "#------------第一种解法，借用快排中的partition函数-----------------\n",
    "class Solution:\n",
    "    def MoreThanHalfNum_Solution(self, numbers):\n",
    "        # write code here\n",
    "        if self.Check_Invalid(numbers):\n",
    "            return 0\n",
    "        start = 0\n",
    "        end = len(numbers)-1\n",
    "        index = self.partition(numbers,start,end)\n",
    "        middle = len(numbers)//2\n",
    "        while index != middle:\n",
    "            if index<middle:\n",
    "                start = index+1\n",
    "                index = self.partition(numbers,start,end)\n",
    "            else:\n",
    "                end = index-1\n",
    "                index = self.partition(numbers,start,end)\n",
    "        result = numbers[index]\n",
    "        if self.Check_morethan_Half(numbers,result):\n",
    "            return result\n",
    "        else:\n",
    "            return 0\n",
    "    \n",
    "    def partition(self,numbers,p,r):\n",
    "        import random\n",
    "        rand = random.randint(p,r)\n",
    "        numbers[rand],numbers[r] = numbers[r],numbers[rand]\n",
    "        pivot = numbers[r]\n",
    "        i = p-1\n",
    "        for j in range(p,r):\n",
    "            if numbers[j]<=pivot:\n",
    "                i+=1\n",
    "                numbers[i],numbers[j] = numbers[j],numbers[i]\n",
    "            numbers[i+1],numbers[r] = numbers[r],numbers[i+1]\n",
    "        return i+1\n",
    "\n",
    "    def Check_Invalid(self,numbers):\n",
    "        if len(numbers)==0:\n",
    "            return True\n",
    "        return False\n",
    "    def Check_morethan_Half(self,numbers,result):\n",
    "        count = 0\n",
    "        for i in range(len(numbers)):\n",
    "            if numbers[i]==result:\n",
    "                count+=1\n",
    "        if count*2>len(numbers):\n",
    "            return True\n",
    "        return False"
   ]
  },
  {
   "cell_type": "code",
   "execution_count": 1,
   "metadata": {},
   "outputs": [],
   "source": [
    "# -*- coding:utf-8 -*-\n",
    "#---------------第二种解法，根据数组特点-------------------------\n",
    "class Solution:\n",
    "    def MoreThanHalfNum_Solution(self, numbers):\n",
    "        # write code here\n",
    "        if self.Check_Invalid(numbers):\n",
    "            return 0\n",
    "        result = numbers[0]\n",
    "        times = 1\n",
    "        for i in range(1,len(numbers)):\n",
    "            if times == 0:\n",
    "                result = numbers[i]\n",
    "                times = 1\n",
    "            else:\n",
    "                if numbers[i]==result:\n",
    "                    times+=1\n",
    "                else:\n",
    "                    times-=1\n",
    "        if self.Check_morethan_Half(numbers,result):\n",
    "            return result\n",
    "        else:\n",
    "            return 0\n",
    "    def Check_Invalid(self,numbers):\n",
    "        if len(numbers)==0:\n",
    "            return True\n",
    "        return False\n",
    "    def Check_morethan_Half(self,numbers,result):\n",
    "        count = 0\n",
    "        for i in range(len(numbers)):\n",
    "            if numbers[i]==result:\n",
    "                count+=1\n",
    "        if count*2>len(numbers):\n",
    "            return True\n",
    "        return False"
   ]
  },
  {
   "cell_type": "markdown",
   "metadata": {},
   "source": [
    "##### Note\n",
    "1. python中if语句和逻辑运算符后面应该跟bool值，如果不是bool值也不会报错，这时候python会先调用bool()函数把后面的对象转换成bool值再进行判断\n",
    "2. 常见的bool()之后为False的对象有如下：None,[],0,{},''，其他值基本都为True\n",
    "3. 见如下讲解：\n",
    "\n",
    "https://blog.csdn.net/nima1994/article/details/84654134\n",
    "\n",
    "https://zhidao.baidu.com/question/454669324357290565.html\n",
    "4. python内置的len()函数其实是在调用对象的`__len__()`方法，bool函数其实是在调用对象的`__bool__()`方法：\n",
    "\n",
    "https://docs.python.org/3.7/reference/datamodel.html?highlight=bool#object.__bool__"
   ]
  },
  {
   "cell_type": "markdown",
   "metadata": {},
   "source": [
    "## 040-最小的k个数"
   ]
  },
  {
   "cell_type": "code",
   "execution_count": null,
   "metadata": {},
   "outputs": [],
   "source": [
    "# -*- coding:utf-8 -*-\n",
    "#-----------最简单的做法------------\n",
    "class Solution:\n",
    "    def GetLeastNumbers_Solution(self, tinput, k):\n",
    "        # write code here\n",
    "        if tinput is None:\n",
    "            return\n",
    "        n = len(tinput)\n",
    "        if k>n:\n",
    "            return []\n",
    "        return sorted(tinput)[:k]"
   ]
  },
  {
   "cell_type": "code",
   "execution_count": 37,
   "metadata": {},
   "outputs": [],
   "source": [
    "# -*- coding:utf-8 -*-\n",
    "#----------------剑指offer中第一种解法-----------------------\n",
    "class Solution:\n",
    "    def GetLeastNumbers_Solution(self, tinput, k):\n",
    "        # write code here\n",
    "        if tinput is None:\n",
    "            return\n",
    "        n = len(tinput)\n",
    "        if n < k:\n",
    "            return []\n",
    "        start = 0\n",
    "        end = n-1\n",
    "        index = self.partition(tinput,start,end)\n",
    "        k-=1#将k转化为索引\n",
    "        while index != k:\n",
    "            if index<=k:\n",
    "                start = index+1\n",
    "                index = self.partition(tinput,start,end)\n",
    "            else:\n",
    "                end = index-1\n",
    "                index = self.partition(tinput,start,end)\n",
    "        return sorted(tinput[:index+1])\n",
    "                \n",
    "    def partition(self,data,p,r):\n",
    "#         import random\n",
    "#         l = random.randint(p,r)\n",
    "#         data[l],data[r] = data[r],data[l]\n",
    "        i = p-1\n",
    "        pivot = data[r]\n",
    "        for j in range(p,r):\n",
    "            if data[j]<=pivot:\n",
    "                i+=1\n",
    "                data[i],data[j] = data[j],data[i]\n",
    "        data[i+1],data[r] = data[r],data[i+1]\n",
    "        return i+1"
   ]
  },
  {
   "cell_type": "code",
   "execution_count": 38,
   "metadata": {},
   "outputs": [
    {
     "data": {
      "text/plain": [
       "[1, 2, 3, 4, 5]"
      ]
     },
     "execution_count": 38,
     "metadata": {},
     "output_type": "execute_result"
    }
   ],
   "source": [
    "solve = Solution()\n",
    "a = [4,5,1,6,2,7,3,8]\n",
    "solve.GetLeastNumbers_Solution(a,5)"
   ]
  },
  {
   "cell_type": "markdown",
   "metadata": {},
   "source": [
    "##### Note\n",
    "1. 上面的第一种解法没有问题，但在牛客网上无法通过，不知为什么，看了看其他人使用这种思路的也都无法通过\n",
    "2. 时间复杂度也存疑，总觉得不是O(n)"
   ]
  },
  {
   "cell_type": "code",
   "execution_count": 2,
   "metadata": {},
   "outputs": [],
   "source": [
    "# -*- coding:utf-8 -*-\n",
    "#-------------------剑指offer中第二种解法-----------\n",
    "class Solution:\n",
    "    def GetLeastNumbers_Solution(self, tinput, k):\n",
    "        # write code here\n",
    "        if tinput is None:\n",
    "            return\n",
    "        n = len(tinput)\n",
    "        if n < k:\n",
    "            return []\n",
    "        if k==0:\n",
    "            return []\n",
    "        heap = self.built_max_heap(tinput[:k])\n",
    "        for i in range(k,len(tinput)):\n",
    "            if tinput[i]<heap[0]:\n",
    "                heap[0] = tinput[i]\n",
    "                self.heapify(heap,0,len(heap))\n",
    "        return sorted(heap)\n",
    "    #建立最大堆   \n",
    "    def built_max_heap(self,data):\n",
    "        n = len(data)//2\n",
    "        for i in range(n-1,-1,-1):\n",
    "            self.heapify(data,i,len(data))\n",
    "        return data\n",
    "       \n",
    "    def heapify(self,data,i,heap_size):#heap_size为堆中的元素数目\n",
    "        left = 2*i+1#可以用第0个节点做例子推导\n",
    "        right = 2*i+2\n",
    "        if left<heap_size  and data[i]<data[left]:\n",
    "            largest = left\n",
    "        else:\n",
    "            largest = i\n",
    "        if right<heap_size and data[right]>data[largest]:\n",
    "            largest = right\n",
    "        if largest !=i:\n",
    "            data[i],data[largest] = data[largest],data[i]\n",
    "            self.heapify(data,largest,heap_size)\n",
    "        return data"
   ]
  },
  {
   "cell_type": "markdown",
   "metadata": {},
   "source": [
    "## 041-数据流中的中位数"
   ]
  },
  {
   "cell_type": "code",
   "execution_count": 1,
   "metadata": {},
   "outputs": [],
   "source": [
    "# -*- coding:utf-8 -*-\n",
    "#---------------------最简单的方法，使用了快排，插入时间复杂度为O(nlgn)，取中位数时间复杂度为O(1)-----------------------------------\n",
    "class Solution:\n",
    "    def __init__(self):\n",
    "        self.data=[]\n",
    "    def Insert(self, num):\n",
    "        # write code here\n",
    "        self.data.append(num)\n",
    "        self.data.sort()\n",
    "    def GetMedian(self,data):\n",
    "        # write code here\n",
    "        length=len(self.data)\n",
    "        if length%2==0:\n",
    "            return (self.data[length//2]+self.data[length//2-1])/2.0#//优先级高于-\n",
    "        else:\n",
    "            return self.data[length//2]"
   ]
  },
  {
   "cell_type": "code",
   "execution_count": 38,
   "metadata": {},
   "outputs": [],
   "source": [
    "# -*- coding:utf-8 -*-\n",
    "#---------------------剑指offer上的解法，使用了python内置的堆函数,插入时间复杂度为O(lgn)，取中位数时间复杂度为O(1)-------------------------\n",
    "class Solution():\n",
    "    def __init__(self):\n",
    "        self.count = 0\n",
    "        self.max_heap = []\n",
    "        self.min_heap = []\n",
    "    def Insert(self, num):\n",
    "        # write code here\n",
    "        from heapq import heappush,heapreplace\n",
    "        if self.count==0:\n",
    "            self.max_heap.append(-num)\n",
    "        else:\n",
    "            if self.count %2==0:\n",
    "                temp = self.min_heap[0]\n",
    "                if num>temp:\n",
    "                    heappush(self.max_heap,-temp)\n",
    "                    heapreplace(self.min_heap,num)\n",
    "                else:\n",
    "                    heappush(self.max_heap,-num)\n",
    "            else:\n",
    "                temp = self.max_heap[0]\n",
    "                if -temp>num:\n",
    "                    heapreplace(self.max_heap,-num)\n",
    "                    heappush(self.min_heap,-temp)\n",
    "                else:\n",
    "                    heappush(self.min_heap,num)\n",
    "        self.count+=1                      \n",
    "    def GetMedian(self,data):\n",
    "        # write code here\n",
    "        n1 = len(self.max_heap)\n",
    "        n2 = len(self.min_heap)\n",
    "        if n1==n2:\n",
    "            return (self.min_heap[0]-self.max_heap[0])/2.0\n",
    "        else:\n",
    "            return -self.max_heap[0]"
   ]
  },
  {
   "cell_type": "markdown",
   "metadata": {},
   "source": [
    "##### Note:\n",
    "1. python没有专门内置堆的数据结构，只有堆函数借助列表来实现堆的操作，同时默认是最小堆，想构建最大堆的话，可以取相反数来实现，见如下链接：\n",
    "\n",
    "https://blog.csdn.net/jamfiy/article/details/88185512\n",
    "\n",
    "https://rookiefly.cn/detail/225\n",
    "2. 如果想在函数中使用模块，可以import module然后module.balabala，也可以from module import fun1,fun2，但是不可以from module import *\n",
    "3. 无论是哪种做法，在偶数时都要除以2.0而不是2，否则在牛客网上会出现整除的情况，这一点没想明白是为什么，或许是python版本差异"
   ]
  },
  {
   "cell_type": "markdown",
   "metadata": {},
   "source": [
    "## 042-连续子数组的最大和"
   ]
  },
  {
   "cell_type": "code",
   "execution_count": 1,
   "metadata": {},
   "outputs": [],
   "source": [
    "# -*- coding:utf-8 -*-\n",
    "#---------------剑指offer中的解法1----------------------\n",
    "class Solution():\n",
    "    def FindGreatestSumOfSubArray(self, array):\n",
    "        # write code here\n",
    "        cumsum = 0\n",
    "        largestsum = float('-inf')\n",
    "        for i in range(len(array)):\n",
    "            if cumsum<=0:\n",
    "                cumsum = array[i]\n",
    "            else:\n",
    "                cumsum+=array[i]\n",
    "            if cumsum>largestsum:\n",
    "                largestsum = cumsum\n",
    "        return largestsum"
   ]
  },
  {
   "cell_type": "markdown",
   "metadata": {},
   "source": [
    "##### Note\n",
    "补充：如何求一个数字的各个位数上的值"
   ]
  },
  {
   "cell_type": "code",
   "execution_count": 7,
   "metadata": {},
   "outputs": [],
   "source": [
    "def findNumber1(n):\n",
    "    if n==0:#需要单独对n等于0的情况做讨论\n",
    "        return [0]\n",
    "    result = []\n",
    "    while n:\n",
    "        result.append(n%10)\n",
    "        n//=10\n",
    "    return result"
   ]
  },
  {
   "cell_type": "code",
   "execution_count": 8,
   "metadata": {},
   "outputs": [],
   "source": [
    "def findNumber2(n):\n",
    "    result = []\n",
    "    n = str(n)\n",
    "    for i in n:\n",
    "        result.append(int(i))\n",
    "    return result"
   ]
  },
  {
   "cell_type": "code",
   "execution_count": 9,
   "metadata": {},
   "outputs": [
    {
     "data": {
      "text/plain": [
       "[0]"
      ]
     },
     "execution_count": 9,
     "metadata": {},
     "output_type": "execute_result"
    }
   ],
   "source": [
    "findNumber1(0)"
   ]
  },
  {
   "cell_type": "code",
   "execution_count": 11,
   "metadata": {},
   "outputs": [
    {
     "data": {
      "text/plain": [
       "[6, 8, 5, 1]"
      ]
     },
     "execution_count": 11,
     "metadata": {},
     "output_type": "execute_result"
    }
   ],
   "source": [
    "findNumber1(1586)"
   ]
  },
  {
   "cell_type": "code",
   "execution_count": 12,
   "metadata": {},
   "outputs": [
    {
     "data": {
      "text/plain": [
       "[3, 4, 4]"
      ]
     },
     "execution_count": 12,
     "metadata": {},
     "output_type": "execute_result"
    }
   ],
   "source": [
    "findNumber2(344)"
   ]
  },
  {
   "cell_type": "code",
   "execution_count": 13,
   "metadata": {},
   "outputs": [
    {
     "data": {
      "text/plain": [
       "[0]"
      ]
     },
     "execution_count": 13,
     "metadata": {},
     "output_type": "execute_result"
    }
   ],
   "source": [
    "findNumber2(0)"
   ]
  },
  {
   "cell_type": "markdown",
   "metadata": {},
   "source": [
    "## 043-1~n整数中1出现的次数"
   ]
  },
  {
   "cell_type": "code",
   "execution_count": 1,
   "metadata": {},
   "outputs": [],
   "source": [
    "# -*- coding:utf-8 -*-\n",
    "class Solution:\n",
    "    def NumberOf1Between1AndN_Solution(self, n):\n",
    "        # write code here\n",
    "        n = str(n)\n",
    "        return self.Core(n)\n",
    "    def Core(self,string):\n",
    "        count = 0\n",
    "        length = len(string)\n",
    "        if length==1:\n",
    "            return 1 if string != '0' else 0\n",
    "        first = string[0]\n",
    "        if first=='1':\n",
    "            count+=int(string[1:])+1\n",
    "        else:\n",
    "            count+=10**(length-1)\n",
    "        count+= int(first)*(length-1)*10**(length-2)\n",
    "        count += self.Core(str(int(string[1:])))\n",
    "        return count"
   ]
  },
  {
   "cell_type": "code",
   "execution_count": 18,
   "metadata": {},
   "outputs": [],
   "source": [
    "# -*- coding:utf-8 -*-\n",
    "class Solution():\n",
    "    def NumberOf1Between1AndN_Solution(self, n):\n",
    "        # write code here\n",
    "        str_n = str(n)\n",
    "        return self.Core(str_n)\n",
    "    def Core(self,string):\n",
    "        if int(string)==0:\n",
    "            return 0\n",
    "        n = len(string)\n",
    "        if n==1:\n",
    "            return 1\n",
    "        elif n==1 and string == '0':\n",
    "            return 0\n",
    "        else:\n",
    "            first = int(string[0])\n",
    "            count = 10**(n-1) if first>1 else int(string[1:])+1\n",
    "            count += first*(n-1)*10**(n-2)\n",
    "            count+= self.Core(str(int(string[1:])))\n",
    "            return count"
   ]
  },
  {
   "cell_type": "markdown",
   "metadata": {},
   "source": [
    "##### Note\n",
    "1. str(int(string[1:]))的目的是为了把数字字符串前面的0去掉\n",
    "2. 上面两段代码是不同时期复习写的，本质是一样的"
   ]
  },
  {
   "cell_type": "markdown",
   "metadata": {},
   "source": [
    "## 044-数字序列中某一位的数字"
   ]
  },
  {
   "cell_type": "markdown",
   "metadata": {},
   "source": [
    "##### Note\n",
    "牛客网上没有这道题，在力扣上找到，为力扣面试题44题"
   ]
  },
  {
   "cell_type": "code",
   "execution_count": 16,
   "metadata": {},
   "outputs": [],
   "source": [
    "#第一种方法\n",
    "class Solution:\n",
    "    def findNthDigit(self, n: int) -> int:\n",
    "        if n<0:\n",
    "            return -1\n",
    "        n=n+1#因为题目中是从0开始计数的，太别扭了\n",
    "        count = 0\n",
    "        number = 0\n",
    "        while True:\n",
    "            count+=len(str(number))\n",
    "            if count>=n:\n",
    "                break\n",
    "            number+=1\n",
    "        return int(str(number)[-(count-n+1)])"
   ]
  },
  {
   "cell_type": "code",
   "execution_count": 25,
   "metadata": {},
   "outputs": [],
   "source": [
    "#第二种方法\n",
    "class Solution:\n",
    "    def findNthDigit(self, n: int) -> int:\n",
    "        if n<0:\n",
    "            return -1\n",
    "        digit = 1\n",
    "        while True:\n",
    "            number = digit*self.count_of_digit(digit)\n",
    "            if n<number:\n",
    "                break\n",
    "            n-=number\n",
    "            digit+=1\n",
    "        first = self.first_number_of_digit(digit)\n",
    "        num = first+n//digit\n",
    "        return int(str(num)[n%digit])\n",
    "        \n",
    "    def count_of_digit(self,digit):\n",
    "        if digit==1:\n",
    "            return 10\n",
    "        else:\n",
    "            return 9*10**(digit-1)\n",
    "    def first_number_of_digit(self,digit):\n",
    "        if digit==1:\n",
    "            return 0\n",
    "        else:\n",
    "            return 10**(digit-1)"
   ]
  },
  {
   "cell_type": "code",
   "execution_count": 27,
   "metadata": {},
   "outputs": [
    {
     "data": {
      "text/plain": [
       "7"
      ]
     },
     "execution_count": 27,
     "metadata": {},
     "output_type": "execute_result"
    }
   ],
   "source": [
    "solve = Solution()\n",
    "solve.findNthDigit(1001)"
   ]
  },
  {
   "cell_type": "markdown",
   "metadata": {},
   "source": [
    "##### Note\n",
    "1. 第一种方法虽然正确，但复杂度太高，在力扣上无法通过\n",
    "2. 一般涉及到数字中某一位的问题的时候，转换成字符串会简单很多"
   ]
  },
  {
   "cell_type": "markdown",
   "metadata": {},
   "source": [
    "## 045-把数组排成最小的数"
   ]
  },
  {
   "cell_type": "code",
   "execution_count": 52,
   "metadata": {},
   "outputs": [],
   "source": [
    "# -*- coding:utf-8 -*-\n",
    "class Solution():\n",
    "    def PrintMinNumber(self, numbers):\n",
    "        # write code here\n",
    "        from functools import cmp_to_key\n",
    "        if not numbers:\n",
    "            return ''\n",
    "        numbers = map(str,numbers)\n",
    "        return ''.join(sorted(numbers,key = cmp_to_key(self.compare)))\n",
    "    def compare(self,a,b):\n",
    "        if a+b>b+a:\n",
    "            return 1#判断a比b大\n",
    "        elif a+b == b+a:\n",
    "            return 0#判断a比b小\n",
    "        else:\n",
    "            return -1      "
   ]
  },
  {
   "cell_type": "markdown",
   "metadata": {},
   "source": [
    "##### Note\n",
    "在.sort()方法和sorted()函数中，原本有着cmp参数，可以接收一个有两个参数的函数名，后来被废弃，作用可以看作是对序列中的值进行冒泡排序，不过重新定义了两个值的大小规则。如果在python3中想实现类似功能，要从functools模块导出cmp_to_key()函数，cmp_to_key()函数中的参数为一个有两个参数的比较函数名，对于这个比较函数来说，如果按照新的规则，第一个参数大于第二个参数，返回1，相等返回0，小于返回-1。如果序列中两个相邻元素比较返回1，那么就代表前一个更大，在默认reverse等于False的排序中，把前一个与后一个换位，见：\n",
    "\n",
    "https://docs.python.org/3.7/library/functions.html?highlight=sorted#sorted"
   ]
  },
  {
   "cell_type": "markdown",
   "metadata": {},
   "source": [
    "## 046-把数字翻译成字符串"
   ]
  },
  {
   "cell_type": "markdown",
   "metadata": {},
   "source": [
    "##### Note\n",
    "牛客网上没有这道题，在力扣上找到，为力扣面试题46题"
   ]
  },
  {
   "cell_type": "code",
   "execution_count": 28,
   "metadata": {},
   "outputs": [],
   "source": [
    "#动态规划，自底向上实现\n",
    "class Solution:\n",
    "    def translateNum(self, num: int) -> int:\n",
    "        num = list(str(num))\n",
    "        arr = [-1 for i in num]\n",
    "        arr.append(1)\n",
    "        arr[len(num)-1]=1\n",
    "        for i in range(len(num)-2,-1,-1):\n",
    "            arr[i] = arr[i+1]\n",
    "            if int(num[i]+num[i+1])<=25 and int(num[i]+num[i+1])>= 10:\n",
    "                arr[i]+=arr[i+2]\n",
    "        return arr[0]"
   ]
  }
 ],
 "metadata": {
  "kernelspec": {
   "display_name": "Python 3",
   "language": "python",
   "name": "python3"
  },
  "language_info": {
   "codemirror_mode": {
    "name": "ipython",
    "version": 3
   },
   "file_extension": ".py",
   "mimetype": "text/x-python",
   "name": "python",
   "nbconvert_exporter": "python",
   "pygments_lexer": "ipython3",
   "version": "3.7.3"
  }
 },
 "nbformat": 4,
 "nbformat_minor": 4
}
