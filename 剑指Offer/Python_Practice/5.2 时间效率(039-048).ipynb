{
 "cells": [
  {
   "cell_type": "markdown",
   "metadata": {},
   "source": [
    "# 5.2 时间效率(039-048)"
   ]
  },
  {
   "cell_type": "markdown",
   "metadata": {},
   "source": [
    "## 039-数组中出现次数超过一半的数字"
   ]
  },
  {
   "cell_type": "code",
   "execution_count": 1,
   "metadata": {},
   "outputs": [],
   "source": [
    "# -*- coding:utf-8 -*-\n",
    "#------------第一种解法，借用快排中的partition函数-----------------\n",
    "class Solution:\n",
    "    def MoreThanHalfNum_Solution(self, numbers):\n",
    "        # write code here\n",
    "        if self.Check_Invalid(numbers):\n",
    "            return 0\n",
    "        start = 0\n",
    "        end = len(numbers)-1\n",
    "        index = self.partition(numbers,start,end)\n",
    "        middle = len(numbers)//2\n",
    "        while index != middle:\n",
    "            if index<middle:\n",
    "                start = index+1\n",
    "                index = self.partition(numbers,start,end)\n",
    "            else:\n",
    "                end = index-1\n",
    "                index = self.partition(numbers,start,end)\n",
    "        result = numbers[index]\n",
    "        if self.Check_morethan_Half(numbers,result):\n",
    "            return result\n",
    "        else:\n",
    "            return 0\n",
    "    \n",
    "    def partition(self,numbers,p,r):\n",
    "        import random\n",
    "        rand = random.randint(p,r)\n",
    "        numbers[rand],numbers[r] = numbers[r],numbers[rand]\n",
    "        pivot = numbers[r]\n",
    "        i = p-1\n",
    "        for j in range(p,r):\n",
    "            if numbers[j]<=pivot:\n",
    "                i+=1\n",
    "                numbers[i],numbers[j] = numbers[j],numbers[i]\n",
    "            numbers[i+1],numbers[r] = numbers[r],numbers[i+1]\n",
    "        return i+1\n",
    "\n",
    "    def Check_Invalid(self,numbers):\n",
    "        if len(numbers)==0:\n",
    "            return True\n",
    "        return False\n",
    "    def Check_morethan_Half(self,numbers,result):\n",
    "        count = 0\n",
    "        for i in range(len(numbers)):\n",
    "            if numbers[i]==result:\n",
    "                count+=1\n",
    "        if count*2>len(numbers):\n",
    "            return True\n",
    "        return False"
   ]
  },
  {
   "cell_type": "code",
   "execution_count": 1,
   "metadata": {},
   "outputs": [],
   "source": [
    "# -*- coding:utf-8 -*-\n",
    "#---------------第二种解法，根据数组特点-------------------------\n",
    "class Solution:\n",
    "    def MoreThanHalfNum_Solution(self, numbers):\n",
    "        # write code here\n",
    "        if self.Check_Invalid(numbers):\n",
    "            return 0\n",
    "        result = numbers[0]\n",
    "        times = 1\n",
    "        for i in range(1,len(numbers)):\n",
    "            if times == 0:\n",
    "                result = numbers[i]\n",
    "                times = 1\n",
    "            else:\n",
    "                if numbers[i]==result:\n",
    "                    times+=1\n",
    "                else:\n",
    "                    times-=1\n",
    "        if self.Check_morethan_Half(numbers,result):\n",
    "            return result\n",
    "        else:\n",
    "            return 0\n",
    "    def Check_Invalid(self,numbers):\n",
    "        if len(numbers)==0:\n",
    "            return True\n",
    "        return False\n",
    "    def Check_morethan_Half(self,numbers,result):\n",
    "        count = 0\n",
    "        for i in range(len(numbers)):\n",
    "            if numbers[i]==result:\n",
    "                count+=1\n",
    "        if count*2>len(numbers):\n",
    "            return True\n",
    "        return False"
   ]
  },
  {
   "cell_type": "markdown",
   "metadata": {},
   "source": [
    "##### Note\n",
    "1. python中if语句后面应该跟bool值，如果不是bool值也不会报错，这时候python会先调用bool()函数把后面的对象转换成bool值再进行判断\n",
    "2. 常见的bool()之后为False的对象有如下：None,[],0,{},''，其他值基本都为True\n",
    "3. 见如下讲解：\n",
    "\n",
    "https://blog.csdn.net/nima1994/article/details/84654134\n",
    "\n",
    "https://zhidao.baidu.com/question/454669324357290565.html\n",
    "4. python内置的len()函数其实是在调用对象的`__len__()`方法，bool函数其实是在调用对象的`__bool__()`方法：\n",
    "\n",
    "https://docs.python.org/3.7/reference/datamodel.html?highlight=bool#object.__bool__"
   ]
  }
 ],
 "metadata": {
  "kernelspec": {
   "display_name": "Python 3",
   "language": "python",
   "name": "python3"
  },
  "language_info": {
   "codemirror_mode": {
    "name": "ipython",
    "version": 3
   },
   "file_extension": ".py",
   "mimetype": "text/x-python",
   "name": "python",
   "nbconvert_exporter": "python",
   "pygments_lexer": "ipython3",
   "version": "3.7.3"
  }
 },
 "nbformat": 4,
 "nbformat_minor": 4
}
