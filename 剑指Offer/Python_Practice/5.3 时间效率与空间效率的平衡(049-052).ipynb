{
 "cells": [
  {
   "cell_type": "markdown",
   "metadata": {},
   "source": [
    "# 5.3 时间效率与空间效率的平衡(049-052)"
   ]
  },
  {
   "cell_type": "markdown",
   "metadata": {},
   "source": [
    "## 049-丑数"
   ]
  },
  {
   "cell_type": "code",
   "execution_count": 1,
   "metadata": {},
   "outputs": [],
   "source": [
    "# -*- coding:utf-8 -*-\n",
    "class Solution:\n",
    "    def GetUglyNumber_Solution(self, index):\n",
    "        # write code here\n",
    "        if index<=0:\n",
    "            return 0\n",
    "        ls = [1]\n",
    "        t2 = 0\n",
    "        t3 = 0\n",
    "        t5 = 0\n",
    "        while len(ls)<index:\n",
    "            new = min(2*ls[t2],3*ls[t3],5*ls[t5])\n",
    "            ls.append(new)\n",
    "            while 2*ls[t2]<=new:\n",
    "                t2+=1\n",
    "            while 3*ls[t3]<=new:\n",
    "                t3+=1\n",
    "            while 5*ls[t5]<=new:\n",
    "                t5+=1\n",
    "        return ls[-1]"
   ]
  },
  {
   "cell_type": "code",
   "execution_count": null,
   "metadata": {},
   "outputs": [],
   "source": []
  }
 ],
 "metadata": {
  "kernelspec": {
   "display_name": "Python 3",
   "language": "python",
   "name": "python3"
  },
  "language_info": {
   "codemirror_mode": {
    "name": "ipython",
    "version": 3
   },
   "file_extension": ".py",
   "mimetype": "text/x-python",
   "name": "python",
   "nbconvert_exporter": "python",
   "pygments_lexer": "ipython3",
   "version": "3.7.3"
  }
 },
 "nbformat": 4,
 "nbformat_minor": 4
}
