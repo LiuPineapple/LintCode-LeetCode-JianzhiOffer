{
 "cells": [
  {
   "cell_type": "markdown",
   "metadata": {},
   "source": [
    "# 5.3 时间效率与空间效率的平衡(049-052)"
   ]
  },
  {
   "cell_type": "markdown",
   "metadata": {},
   "source": [
    "## 049-丑数"
   ]
  },
  {
   "cell_type": "code",
   "execution_count": 1,
   "metadata": {},
   "outputs": [],
   "source": [
    "# -*- coding:utf-8 -*-\n",
    "class Solution:\n",
    "    def GetUglyNumber_Solution(self, index):\n",
    "        # write code here\n",
    "        if index<=0:\n",
    "            return 0\n",
    "        ls = [1]\n",
    "        t2 = 0\n",
    "        t3 = 0\n",
    "        t5 = 0\n",
    "        while len(ls)<index:\n",
    "            new = min(2*ls[t2],3*ls[t3],5*ls[t5])\n",
    "            ls.append(new)\n",
    "            while 2*ls[t2]<=new:\n",
    "                t2+=1\n",
    "            while 3*ls[t3]<=new:\n",
    "                t3+=1\n",
    "            while 5*ls[t5]<=new:\n",
    "                t5+=1\n",
    "        return ls[-1]"
   ]
  },
  {
   "cell_type": "markdown",
   "metadata": {},
   "source": [
    "## 050-第一个只出现一次的字符"
   ]
  },
  {
   "cell_type": "markdown",
   "metadata": {},
   "source": [
    "### 题目一 字符串中第一个只出现一次的字符"
   ]
  },
  {
   "cell_type": "code",
   "execution_count": 1,
   "metadata": {},
   "outputs": [],
   "source": [
    "# -*- coding:utf-8 -*-\n",
    "class Solution:\n",
    "    def FirstNotRepeatingChar(self, s):\n",
    "        # write code here\n",
    "        from collections import defaultdict\n",
    "        hash = defaultdict(int)\n",
    "        for i in s:\n",
    "            hash[i]+=1\n",
    "        for i in hash:\n",
    "            if hash[i]==1:\n",
    "                return s.index(i)\n",
    "        return -1"
   ]
  },
  {
   "cell_type": "markdown",
   "metadata": {},
   "source": [
    "##### Note\n",
    "自己测试可以通过，但牛客网上无法通过，推测是由于python版本差异，改动如下"
   ]
  },
  {
   "cell_type": "code",
   "execution_count": 4,
   "metadata": {},
   "outputs": [],
   "source": [
    "# -*- coding:utf-8 -*-\n",
    "class Solution:\n",
    "    def FirstNotRepeatingChar(self, s):\n",
    "        # write code here\n",
    "        hash = {}\n",
    "        for i in s:\n",
    "            if i in hash:\n",
    "                hash[i]+=1\n",
    "            else:\n",
    "                hash[i]=1\n",
    "        for i in range(len(s)):\n",
    "            if hash[s[i]]==1:\n",
    "                return i\n",
    "        return -1"
   ]
  },
  {
   "cell_type": "markdown",
   "metadata": {},
   "source": [
    "### 题目二 字符流中第一个只出现一次的字符"
   ]
  },
  {
   "cell_type": "code",
   "execution_count": 5,
   "metadata": {},
   "outputs": [],
   "source": [
    "# -*- coding:utf-8 -*-\n",
    "class Solution:\n",
    "    # 返回对应char\n",
    "    def __init__(self):\n",
    "        self.s = ''\n",
    "        self.hash = {}\n",
    "    def FirstAppearingOnce(self):\n",
    "        # write code here\n",
    "        for i in range(len(self.s)):\n",
    "            if self.hash[self.s[i]]==1:\n",
    "                return self.s[i]\n",
    "        return '#'\n",
    "    def Insert(self, char):\n",
    "        # write code here\n",
    "        self.s+=char\n",
    "        if char in self.hash:\n",
    "            self.hash[char]+=1\n",
    "        else:\n",
    "            self.hash[char] = 1"
   ]
  },
  {
   "cell_type": "markdown",
   "metadata": {},
   "source": [
    "## 051-数组中的逆序对"
   ]
  },
  {
   "cell_type": "code",
   "execution_count": null,
   "metadata": {},
   "outputs": [],
   "source": [
    "# -*- coding:utf-8 -*-\n",
    "class Solution:\n",
    "    def InversePairs(self, data):\n",
    "        # write code here"
   ]
  }
 ],
 "metadata": {
  "kernelspec": {
   "display_name": "Python 3",
   "language": "python",
   "name": "python3"
  },
  "language_info": {
   "codemirror_mode": {
    "name": "ipython",
    "version": 3
   },
   "file_extension": ".py",
   "mimetype": "text/x-python",
   "name": "python",
   "nbconvert_exporter": "python",
   "pygments_lexer": "ipython3",
   "version": "3.7.3"
  }
 },
 "nbformat": 4,
 "nbformat_minor": 4
}
