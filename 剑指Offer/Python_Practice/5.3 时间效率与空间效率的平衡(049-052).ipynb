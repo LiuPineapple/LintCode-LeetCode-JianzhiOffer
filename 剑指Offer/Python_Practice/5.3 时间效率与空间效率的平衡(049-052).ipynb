{
 "cells": [
  {
   "cell_type": "markdown",
   "metadata": {},
   "source": [
    "# 5.3 时间效率与空间效率的平衡(049-052)"
   ]
  },
  {
   "cell_type": "markdown",
   "metadata": {},
   "source": [
    "## 049-丑数"
   ]
  },
  {
   "cell_type": "code",
   "execution_count": 1,
   "metadata": {},
   "outputs": [],
   "source": [
    "# -*- coding:utf-8 -*-\n",
    "class Solution:\n",
    "    def GetUglyNumber_Solution(self, index):\n",
    "        # write code here\n",
    "        if index<=0:\n",
    "            return 0\n",
    "        ls = [1]\n",
    "        t2 = 0\n",
    "        t3 = 0\n",
    "        t5 = 0\n",
    "        while len(ls)<index:\n",
    "            new = min(2*ls[t2],3*ls[t3],5*ls[t5])\n",
    "            ls.append(new)\n",
    "            while 2*ls[t2]<=new:\n",
    "                t2+=1\n",
    "            while 3*ls[t3]<=new:\n",
    "                t3+=1\n",
    "            while 5*ls[t5]<=new:\n",
    "                t5+=1\n",
    "        return ls[-1]"
   ]
  },
  {
   "cell_type": "markdown",
   "metadata": {},
   "source": [
    "## 050-第一个只出现一次的字符"
   ]
  },
  {
   "cell_type": "markdown",
   "metadata": {},
   "source": [
    "### 题目一 字符串中第一个只出现一次的字符"
   ]
  },
  {
   "cell_type": "code",
   "execution_count": 1,
   "metadata": {},
   "outputs": [],
   "source": [
    "# -*- coding:utf-8 -*-\n",
    "class Solution:\n",
    "    def FirstNotRepeatingChar(self, s):\n",
    "        # write code here\n",
    "        from collections import defaultdict\n",
    "        hash = defaultdict(int)\n",
    "        for i in s:\n",
    "            hash[i]+=1\n",
    "        for i in hash:\n",
    "            if hash[i]==1:\n",
    "                return s.index(i)\n",
    "        return -1"
   ]
  },
  {
   "cell_type": "markdown",
   "metadata": {},
   "source": [
    "##### Note\n",
    "自己测试可以通过，但牛客网上无法通过，推测是由于python版本差异，改动如下"
   ]
  },
  {
   "cell_type": "code",
   "execution_count": 4,
   "metadata": {},
   "outputs": [],
   "source": [
    "# -*- coding:utf-8 -*-\n",
    "class Solution:\n",
    "    def FirstNotRepeatingChar(self, s):\n",
    "        # write code here\n",
    "        hash = {}\n",
    "        for i in s:\n",
    "            if i in hash:\n",
    "                hash[i]+=1\n",
    "            else:\n",
    "                hash[i]=1\n",
    "        for i in range(len(s)):\n",
    "            if hash[s[i]]==1:\n",
    "                return i\n",
    "        return -1"
   ]
  },
  {
   "cell_type": "markdown",
   "metadata": {},
   "source": [
    "### 题目二 字符流中第一个只出现一次的字符"
   ]
  },
  {
   "cell_type": "code",
   "execution_count": 5,
   "metadata": {},
   "outputs": [],
   "source": [
    "# -*- coding:utf-8 -*-\n",
    "class Solution:\n",
    "    # 返回对应char\n",
    "    def __init__(self):\n",
    "        self.s = ''\n",
    "        self.hash = {}\n",
    "    def FirstAppearingOnce(self):\n",
    "        # write code here\n",
    "        for i in range(len(self.s)):\n",
    "            if self.hash[self.s[i]]==1:\n",
    "                return self.s[i]\n",
    "        return '#'\n",
    "    def Insert(self, char):\n",
    "        # write code here\n",
    "        self.s+=char\n",
    "        if char in self.hash:\n",
    "            self.hash[char]+=1\n",
    "        else:\n",
    "            self.hash[char] = 1"
   ]
  },
  {
   "cell_type": "markdown",
   "metadata": {},
   "source": [
    "## 051-数组中的逆序对"
   ]
  },
  {
   "cell_type": "code",
   "execution_count": 16,
   "metadata": {},
   "outputs": [],
   "source": [
    "# -*- coding:utf-8 -*-\n",
    "#利用归并排序\n",
    "class Solution:\n",
    "    def __init__(self):\n",
    "        self.count = 0\n",
    "    def InversePairs(self,data):\n",
    "        # write code here\n",
    "        if not data or len(data)==1:\n",
    "            return 0\n",
    "        self.merge_sort(data,0,len(data)-1)\n",
    "        return self.count%1000000007\n",
    "    \n",
    "    def merge_sort(self,data,p,r):\n",
    "        if p<r:\n",
    "            q = (p+r)//2\n",
    "            self.merge_sort(data,p,q)\n",
    "            self.merge_sort(data,q+1,r)\n",
    "            self.merge(data,p,q,r)\n",
    "            \n",
    "    def merge(self,data,p,q,r):\n",
    "        L = data[p:q+1]\n",
    "        R = data[q+1:r+1]\n",
    "        L.append(float('inf'))\n",
    "        R.append(float('inf'))\n",
    "        i = 0\n",
    "        j = 0\n",
    "        for k in range(p,r+1):\n",
    "            if L[i]<=R[j]:\n",
    "                data[k] = L[i]\n",
    "                i+=1\n",
    "            else:\n",
    "                data[k] = R[j]\n",
    "                j+=1\n",
    "                self.count+=len(L[i:])-1#减一是为了剪掉inf那一项"
   ]
  },
  {
   "cell_type": "markdown",
   "metadata": {},
   "source": [
    "##### Note\n",
    "1. 代码没有问题，但牛客网超时，这道题对于python太不友好了\n",
    "2. self.count也可以用全局变量global count代替"
   ]
  },
  {
   "cell_type": "markdown",
   "metadata": {},
   "source": [
    "## 052-两个链表第一个公共节点"
   ]
  },
  {
   "cell_type": "code",
   "execution_count": 22,
   "metadata": {},
   "outputs": [],
   "source": [
    "# -*- coding:utf-8 -*-\n",
    "# class ListNode:\n",
    "#     def __init__(self, x):\n",
    "#         self.val = x\n",
    "#         self.next = None\n",
    "class Solution:\n",
    "    def FindFirstCommonNode(self, pHead1, pHead2):\n",
    "        # write code here\n",
    "        len1 = 0\n",
    "        len2 = 0\n",
    "        pNode1 = pHead1\n",
    "        pNode2 = pHead2\n",
    "        while pNode1 is not None:\n",
    "            len1+=1\n",
    "            pNode1 = pNode1.next\n",
    "        while pNode2 is not None:\n",
    "            len2+=1\n",
    "            pNode2 = pNode2.next\n",
    "        return self.Core(pHead1,pHead2,len1,len2) if len1>=len2 else self.Core(pHead2,pHead1,len2,len1)\n",
    "    \n",
    "    def Core(self,pHead1,pHead2,len1,len2):#这里默认是链表1比较长\n",
    "        minus = len1-len2\n",
    "        for i in range(minus):\n",
    "            pHead1 = pHead1.next\n",
    "        while pHead1!= None and pHead2 != None:\n",
    "            if pHead1==pHead2:\n",
    "                return pHead1\n",
    "            pHead1 = pHead1.next\n",
    "            pHead2 = pHead2.next\n",
    "        return None"
   ]
  },
  {
   "cell_type": "code",
   "execution_count": null,
   "metadata": {},
   "outputs": [],
   "source": []
  }
 ],
 "metadata": {
  "kernelspec": {
   "display_name": "Python 3",
   "language": "python",
   "name": "python3"
  },
  "language_info": {
   "codemirror_mode": {
    "name": "ipython",
    "version": 3
   },
   "file_extension": ".py",
   "mimetype": "text/x-python",
   "name": "python",
   "nbconvert_exporter": "python",
   "pygments_lexer": "ipython3",
   "version": "3.7.3"
  }
 },
 "nbformat": 4,
 "nbformat_minor": 4
}
