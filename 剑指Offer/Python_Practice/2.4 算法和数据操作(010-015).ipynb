{
 "cells": [
  {
   "cell_type": "markdown",
   "metadata": {},
   "source": [
    "# 2.4 算法和数据操作(010-015)"
   ]
  },
  {
   "cell_type": "markdown",
   "metadata": {},
   "source": [
    "## 010-斐波那契数列"
   ]
  },
  {
   "cell_type": "markdown",
   "metadata": {},
   "source": [
    "### 题目一 求斐波那契数列的第n项"
   ]
  },
  {
   "cell_type": "code",
   "execution_count": 2,
   "metadata": {},
   "outputs": [],
   "source": [
    "# -*- coding:utf-8 -*-\n",
    "#---------------------------递归实现-------------------------------------\n",
    "class Solution():\n",
    "    def Fibonacci(self, n):\n",
    "        # write code here\n",
    "        if n <= 0:\n",
    "            return 0\n",
    "        elif n == 1:\n",
    "            return 1\n",
    "        else:\n",
    "            return self.Fibonacci(n-1)+self.Fibonacci(n-2)"
   ]
  },
  {
   "cell_type": "markdown",
   "metadata": {},
   "source": [
    "##### Note\n",
    "1. 上述递归实现Fibonacci，是经典实现方法，但是复杂度太大，在牛客网上无法通过\n",
    "2. 改进方法是使用动态规划，有两种方式，一种是把每一步的计算结果保存起来，计算前先查询之前是不是计算过了，避免重复计算，即带有备忘的自顶向下；另一种是利用循环，自底向上来实现"
   ]
  },
  {
   "cell_type": "code",
   "execution_count": 1,
   "metadata": {},
   "outputs": [],
   "source": [
    "# -*- coding:utf-8 -*-\n",
    "#------------------通过循环自底向上实现------------------------------------------\n",
    "class Solution():\n",
    "    def Fibonacci(self, n):\n",
    "        # write code here\n",
    "        if n == 0:\n",
    "            return 0\n",
    "        if n == 1:\n",
    "            return 1\n",
    "        arr = [-1 for i in range(n+1)]\n",
    "        arr[0] = 0\n",
    "        arr[1] = 1\n",
    "        for i in range(2,n+1):\n",
    "            arr[i] = arr[i-1]+arr[i-2]\n",
    "        return arr[n]"
   ]
  },
  {
   "cell_type": "code",
   "execution_count": 1,
   "metadata": {},
   "outputs": [],
   "source": [
    "# -*- coding:utf-8 -*-\n",
    "#--------------------------循环实现------------------------------------\n",
    "class Solution():\n",
    "    def Fibonacci(self, n):\n",
    "        # write code here\n",
    "        if n ==0:\n",
    "            return 0\n",
    "        if n==1:\n",
    "            return 1\n",
    "        result = 0\n",
    "        mini1 = 0\n",
    "        mini2 = 1\n",
    "        for i in range(2,n+1):\n",
    "            result = mini1+mini2\n",
    "            mini1= mini2\n",
    "            mini2 = result\n",
    "        return result"
   ]
  },
  {
   "cell_type": "markdown",
   "metadata": {},
   "source": [
    "##### Note\n",
    "上面两段代码的区别就是不同时期复习写的，本质思想是一样的，第一个代码更简洁一些"
   ]
  },
  {
   "cell_type": "code",
   "execution_count": 3,
   "metadata": {},
   "outputs": [],
   "source": [
    "# -*- coding:utf-8 -*-\n",
    "#--------------------------带有备忘的自顶向下实现-------------------------------\n",
    "class Solution():\n",
    "    def __init__(self):\n",
    "        self.arr = []\n",
    "        \n",
    "    def recurse(self,n):\n",
    "        if self.arr[n]>=0:\n",
    "            return self.arr[n]\n",
    "        else:\n",
    "            self.arr[n] = self.recurse(n-1)+self.recurse(n-2)\n",
    "            return self.arr[n]\n",
    "\n",
    "    def Fibonacci(self, n):\n",
    "        # write code here\n",
    "        if n==0:\n",
    "            return 0\n",
    "        if n==1:\n",
    "            return 1\n",
    "        self.arr = [-1 for i in range(n+1)]\n",
    "        self.arr[0] = 0\n",
    "        self.arr[1] = 1\n",
    "        return self.recurse(n)"
   ]
  },
  {
   "cell_type": "markdown",
   "metadata": {},
   "source": [
    "### 题目二 青蛙跳台阶问题"
   ]
  },
  {
   "cell_type": "code",
   "execution_count": 2,
   "metadata": {},
   "outputs": [],
   "source": [
    "# -*- coding:utf-8 -*-\n",
    "#--------------------------通过循环自底向上实现--------------------------\n",
    "class Solution:\n",
    "    def jumpFloor(self, number):\n",
    "        # write code here\n",
    "        if number==1:\n",
    "            return 1\n",
    "        if number ==2:\n",
    "            return 2\n",
    "        arr = [-1 for i in range(number)]\n",
    "        arr[0] = 1\n",
    "        arr[1] = 2\n",
    "        for i in range(2,number):\n",
    "            arr[i] = arr[i-1] + arr[i-2]\n",
    "        return arr[-1]"
   ]
  },
  {
   "cell_type": "code",
   "execution_count": 11,
   "metadata": {},
   "outputs": [],
   "source": [
    "# -*- coding:utf-8 -*-\n",
    "class Solution():\n",
    "    def jumpFloor(self, number):\n",
    "        # write code here\n",
    "        if number == 0:\n",
    "            return 0\n",
    "        elif number == 1:\n",
    "            return 1\n",
    "        elif number == 2:\n",
    "            return 2\n",
    "        else:\n",
    "            mini1 = 1\n",
    "            mini2 = 2\n",
    "            for i in range(3,number+1):\n",
    "                result = mini1+mini2\n",
    "                mini1 = mini2\n",
    "                mini2 = result\n",
    "            return result"
   ]
  },
  {
   "cell_type": "markdown",
   "metadata": {},
   "source": [
    "##### Note\n",
    "上面两段代码的区别就是不同时期复习写的，本质思想是一样的，第一个代码更简洁一些"
   ]
  },
  {
   "cell_type": "markdown",
   "metadata": {},
   "source": [
    "## 011-旋转数组的最小数字"
   ]
  },
  {
   "cell_type": "code",
   "execution_count": 2,
   "metadata": {},
   "outputs": [],
   "source": [
    "# -*- coding:utf-8 -*-\n",
    "#---------------------------------二分查找--------------------------------------------\n",
    "class Solution():\n",
    "    def minNumberInRotateArray(self, rotateArray):\n",
    "        # write code here\n",
    "        if len(rotateArray) == 0:\n",
    "            return 0\n",
    "        index1 = 0\n",
    "        index2 = len(rotateArray)-1\n",
    "        if rotateArray[index1]<rotateArray[index2]:\n",
    "            indexM = index1\n",
    "        else:\n",
    "            while index1<=index2:\n",
    "                if index1 == index2 -1:\n",
    "                    indexM = index2\n",
    "                    break\n",
    "                else:\n",
    "                    indexM = (index1+index2)//2\n",
    "                    if rotateArray[indexM]==rotateArray[index1] and rotateArray[index1]==rotateArray[index2]:\n",
    "                        return self.min_inorder(rotateArray[index1:index2+1])\n",
    "                    elif rotateArray[indexM]>=rotateArray[index1]:\n",
    "                        index1  = indexM\n",
    "                    else:\n",
    "                        index2 = indexM\n",
    "            return rotateArray[indexM]           \n",
    "                        \n",
    "    def min_inorder(self,rotateArray):\n",
    "        result = rotateArray[0]\n",
    "        for i in range(len(rotateArray)):\n",
    "            if result > rotateArray[i]:\n",
    "                result = rotateArray[i]\n",
    "        return result            "
   ]
  },
  {
   "cell_type": "code",
   "execution_count": 3,
   "metadata": {},
   "outputs": [],
   "source": [
    "# -*- coding:utf-8 -*-\n",
    "#---------------------------------二分查找--------------------------------------------\n",
    "class Solution():\n",
    "    def minNumberInRotateArray(self,rotateArray):\n",
    "        # write code here\n",
    "        if(len(rotateArray)==0):\n",
    "            return 0\n",
    "        index1 = 0\n",
    "        index2 = len(rotateArray)-1\n",
    "        indexM = index1\n",
    "        while rotateArray[index1]>=rotateArray[index2]:\n",
    "            if index2==index1+1:\n",
    "                indexM = index2\n",
    "                break\n",
    "            indexM = (index1+index2)//2\n",
    "            if (rotateArray[index1]==rotateArray[index2]) and (rotateArray[index1]==rotateArray[indexM]):\n",
    "                return self.min_inorder(rotateArray,index1,index2)\n",
    "            if rotateArray[index1]<=rotateArray[indexM]:\n",
    "                index1 = indexM\n",
    "            if rotateArray[index2]>=rotateArray[indexM]:\n",
    "                index2 = indexM\n",
    "        return rotateArray[indexM]\n",
    "\n",
    "        def min_inorder(self,rotateArray,index1,index2):\n",
    "            result = rotateArray[index1]\n",
    "            for i in range(index1,index2+1):\n",
    "                if result > rotateArray[i]:\n",
    "                    result = rotateArray[i]\n",
    "            return result"
   ]
  },
  {
   "cell_type": "markdown",
   "metadata": {},
   "source": [
    "##### Note\n",
    "1. 在C++中，指针是专有名词，但在算法课中（书中说的）指针其实是指索引\n",
    "2. break用来跳出循环，其实也可以直接写`return rotateArray[indexM]`，不过书中的风格是，就算分成多种情况，也尽量把答案赋给一个统一的变量，最后再return，值得学习"
   ]
  },
  {
   "cell_type": "markdown",
   "metadata": {},
   "source": [
    "##### Note\n",
    "要考虑正常情况和四种特殊情况（边界或特殊值）:\n",
    "1. 数组长度为0\n",
    "2. 数组长度为1\n",
    "3. 数组没有旋转，若第一个值大于最后一个值，则必然旋转了，若小于，则必然没有旋转。若等于，则可能旋转可能没旋转，若没旋转，则整个数组的值都是相同的，同样可以按照旋转了做，所以我们把大于和等于放在一类。\n",
    "4. 二分查找的两边和中间相等，此时只能使用顺序查找"
   ]
  },
  {
   "cell_type": "code",
   "execution_count": 3,
   "metadata": {},
   "outputs": [],
   "source": [
    "# -*- coding:utf-8 -*-\n",
    "#----------------------------------顺序查找-------------------------------------------\n",
    "class Solution:\n",
    "    def minNumberInRotateArray(self, rotateArray):\n",
    "        # write code here\n",
    "        if(len(rotateArray)==0):\n",
    "            return 0\n",
    "        result = rotateArray[0]\n",
    "        for i in rotateArray:\n",
    "            if result > i:\n",
    "                result = i\n",
    "        return result"
   ]
  },
  {
   "cell_type": "markdown",
   "metadata": {},
   "source": [
    "##### Note\n",
    "对于本题来说,这俩方法效率并没有相差很多，在考试的时候，如果没有特殊要求，建议直接顺序查找"
   ]
  },
  {
   "cell_type": "markdown",
   "metadata": {},
   "source": [
    "## 012-矩阵中的路径"
   ]
  },
  {
   "cell_type": "code",
   "execution_count": null,
   "metadata": {},
   "outputs": [],
   "source": [
    "# -*- coding:utf-8 -*-\n",
    "#-------------------------------回溯法第一种实现------------------------------------------\n",
    "class Solution():\n",
    "#     def __init__(self):\n",
    "#         self.pathlength=0\n",
    "#         self.visited = []\n",
    "    def hasPathCore(self,matrix,rows,cols,path,row,col,pathlength,visited):\n",
    "        if pathlength==len(path):\n",
    "            return True\n",
    "        haspath = False\n",
    "        if (row>=0 and col>=0 and row<rows\n",
    "            and col<cols and matrix[row*cols+col]==path[pathlength] and visited[row*cols+col] != True):\n",
    "            pathlength+=1\n",
    "            visited[row*cols+col]=True\n",
    "            haspath = (self.hasPathCore(matrix,rows,cols,path,row+1,col,pathlength,visited[:]) or\\\n",
    "                       self.hasPathCore(matrix,rows,cols,path,row-1,col,pathlength,visited[:]) or\\\n",
    "                       self.hasPathCore(matrix,rows,cols,path,row,col-1,pathlength,visited[:]) or\\\n",
    "                       self.hasPathCore(matrix,rows,cols,path,row,col+1,pathlength,visited[:]))\n",
    "#             if not haspath:\n",
    "#                 pathlength-=1\n",
    "#                 visited[row*cols+col]=False               \n",
    "        return haspath       \n",
    "    def hasPath(self, matrix, rows, cols, path):\n",
    "        # write code here\n",
    "        if len(matrix)==0 or rows==0 or cols ==0 or len(path)==0:\n",
    "            return False\n",
    "        visited = [False for i in range(rows*cols)]\n",
    "        pathlength = 0\n",
    "        for i in range(rows):\n",
    "            for j in range(cols):\n",
    "                if self.hasPathCore(matrix,rows,cols,path,i,j,pathlength,visited[:]):\n",
    "                    return True\n",
    "        return False   "
   ]
  },
  {
   "cell_type": "code",
   "execution_count": 1,
   "metadata": {},
   "outputs": [],
   "source": [
    "# -*- coding:utf-8 -*-\n",
    "#-------------------------------回溯法第二种实现------------------------------------------\n",
    "class Solution():\n",
    "#     def __init__(self):\n",
    "#         self.pathlength=0\n",
    "#         self.visited = []\n",
    "    def hasPathCore(self,matrix,rows,cols,path,row,col,pathlength,visited):\n",
    "        if pathlength==len(path):\n",
    "            return True\n",
    "        haspath = False\n",
    "        if (row>=0 and col>=0 and row<rows\n",
    "            and col<cols and matrix[row*cols+col]==path[pathlength] and visited[row*cols+col] != True):\n",
    "            pathlength+=1\n",
    "            visited[row*cols+col]=True\n",
    "            haspath = (self.hasPathCore(matrix,rows,cols,path,row+1,col,pathlength,visited) or\\\n",
    "                       self.hasPathCore(matrix,rows,cols,path,row-1,col,pathlength,visited) or\\\n",
    "                       self.hasPathCore(matrix,rows,cols,path,row,col-1,pathlength,visited) or\\\n",
    "                       self.hasPathCore(matrix,rows,cols,path,row,col+1,pathlength,visited))\n",
    "            if not haspath:\n",
    "#                 pathlength-=1\n",
    "                visited[row*cols+col]=False               \n",
    "        return haspath       \n",
    "    def hasPath(self, matrix, rows, cols, path):\n",
    "        # write code here\n",
    "        if len(matrix)==0 or rows==0 or cols ==0 or len(path)==0:\n",
    "            return False\n",
    "        visited = [False for i in range(rows*cols)]\n",
    "        pathlength = 0\n",
    "        for i in range(rows):\n",
    "            for j in range(cols):\n",
    "                if self.hasPathCore(matrix,rows,cols,path,i,j,pathlength,visited):\n",
    "                    return True\n",
    "        return False     "
   ]
  },
  {
   "cell_type": "code",
   "execution_count": 19,
   "metadata": {},
   "outputs": [],
   "source": [
    "# -*- coding:utf-8 -*-\n",
    "#-------------------------------回溯法第三种实现------------------------------------------\n",
    "class Solution():\n",
    "    def __init__(self):\n",
    "        self.pathlength=0\n",
    "        self.visited = []\n",
    "    def hasPathCore(self,matrix,rows,cols,path,row,col):\n",
    "        if self.pathlength==len(path):\n",
    "            return True\n",
    "        haspath = False\n",
    "        if (row>=0 and col>=0 and row<rows\n",
    "            and col<cols and matrix[row*cols+col]==path[self.pathlength] and self.visited[row*cols+col] != True):\n",
    "            self.pathlength+=1\n",
    "            self.visited[row*cols+col]=True\n",
    "            haspath = (self.hasPathCore(matrix,rows,cols,path,row+1,col) or self.hasPathCore(matrix,rows,cols,path,row-1,col)\n",
    "                       or self.hasPathCore(matrix,rows,cols,path,row,col-1) or self.hasPathCore(matrix,rows,cols,path,row,col+1))\n",
    "            if not haspath:\n",
    "                self.pathlength-=1\n",
    "                self.visited[row*cols+col]=False               \n",
    "        return haspath       \n",
    "    def hasPath(self, matrix, rows, cols, path):\n",
    "        # write code here\n",
    "        if len(matrix)==0 or rows==0 or cols ==0 or len(path)==0:\n",
    "            return False\n",
    "        self.visited = [False for i in range(rows*cols)]\n",
    "        for i in range(rows):\n",
    "            for j in range(cols):\n",
    "                if self.hasPathCore(matrix,rows,cols,path,i,j):\n",
    "                    return True\n",
    "        return False        "
   ]
  },
  {
   "cell_type": "code",
   "execution_count": 20,
   "metadata": {},
   "outputs": [],
   "source": [
    "matrix = \"ABCESFCSADEE\"\n",
    "rows = 3\n",
    "cols = 4\n",
    "path  = \"ABCB\""
   ]
  },
  {
   "cell_type": "code",
   "execution_count": 22,
   "metadata": {},
   "outputs": [
    {
     "data": {
      "text/plain": [
       "False"
      ]
     },
     "execution_count": 22,
     "metadata": {},
     "output_type": "execute_result"
    }
   ],
   "source": [
    "solve = Solution()\n",
    "solve.hasPath(matrix,rows,cols,path)"
   ]
  },
  {
   "cell_type": "markdown",
   "metadata": {},
   "source": [
    "##### Note\n",
    "1. 第一步有n^2种选择，往后每一步都有4种选择，所以单独把第一步拿出来\n",
    "2. 回溯法要注意加终结条件，判断是不是最后一个条件也满足了，这也是结束递归的条件\n",
    "3. 对于递归来说，很多结束递归的条件放在函数开头\n",
    "4. 回溯法写程序需要注意实现的地方：判断当前条件是否成立，不成立直接返回False，成立则递归后面的节点，若后面的节点都不成立要杀死原本激活的节点向上回溯，即同样返回False，递归函数的最前面要加终结条件。\n",
    "5. 深度优先搜索，回溯和杀死激活节点都通过递归完成了，一些随着步骤变化的量是否进行加变化和减变化要看你的回溯法实现方法"
   ]
  },
  {
   "cell_type": "markdown",
   "metadata": {},
   "source": [
    "##### Note\n",
    "python中的逻辑短路：\n",
    "https://blog.csdn.net/weixin_30337227/article/details/89885220"
   ]
  },
  {
   "cell_type": "markdown",
   "metadata": {},
   "source": [
    "##### Note\n",
    "1. 上面三种解法本质相同，前者简洁一些，空间消耗也会更大一些，因为会产生很多的列表在内存中\n",
    "2. list(ls),ls[:],ls.copy()都是产生一个列表的副本，不过后者python2并不支持，故牛客网用不了\n",
    "3. 复习时要通过这道题仔细理解递归的特性，python的对象引用特性和回溯法特点\n",
    "4. 回溯法实现的三种方法：第一，把会随着每一步变化的量设成参数传入递归函数，每次传入副本，这样只需要对变化的量做加变化不用做减变化，因为递归会帮我们完成减变化，代码简单但空间开销大。第二，把会随着每一步变化的量设成参数传入递归函数，每次传入原值，这样对变化的量中的可变对象既需要做加变化也需要做减变化，不变对象减不减都行。第三，把会随着每一步变化的量设成类属性，不用传入递归函数，这样对变化的量中无论可变对象还是不可变对象都既需要做加变化也需要做减变化。\n",
    "5. 不可变对象传入自身和传入副本是等价的"
   ]
  },
  {
   "cell_type": "markdown",
   "metadata": {},
   "source": [
    "## 013-机器人的运动范围"
   ]
  },
  {
   "cell_type": "code",
   "execution_count": 1,
   "metadata": {},
   "outputs": [],
   "source": [
    "# -*- coding:utf-8 -*-\n",
    "#----------------------------回溯法------------------------\n",
    "class Solution():\n",
    "    def __init__(self):\n",
    "        self.visited=[]\n",
    "    def movingCount(self, threshold, rows, cols):\n",
    "        if threshold<0 or rows<=0 or cols<=0:\n",
    "            return 0\n",
    "        self.visited = [False for i in range(rows*cols)]\n",
    "        count  = self.movingCountCore(threshold,rows,cols,0,0)\n",
    "        return count\n",
    "    def get_sum(self,number):\n",
    "        sum = 0\n",
    "        while number>0:\n",
    "            sum+=number%10\n",
    "            number = number//10\n",
    "        return sum\n",
    "    def movingCountCore(self, threshold, rows, cols,row,col):\n",
    "        count = 0\n",
    "        if row>=0 and row<rows and col>=0 and col<cols and self.visited[row*cols+col]==False\\\n",
    "               and self.get_sum(row)+self.get_sum(col)<=threshold:\n",
    "            self.visited[row * cols + col] = True\n",
    "            count = 1 + self.movingCountCore(threshold, rows, cols, row - 1, col) + \\\n",
    "            self.movingCountCore(threshold,rows, cols,row,col - 1) +\\\n",
    "            self.movingCountCore(threshold, rows, cols, row + 1, col) + \\\n",
    "            self.movingCountCore(threshold, rows, cols, row, col + 1)\n",
    "        return count       "
   ]
  },
  {
   "cell_type": "code",
   "execution_count": 36,
   "metadata": {},
   "outputs": [
    {
     "data": {
      "text/plain": [
       "21"
      ]
     },
     "execution_count": 36,
     "metadata": {},
     "output_type": "execute_result"
    }
   ],
   "source": [
    "solve = Solution()\n",
    "solve.movingCount(5,10,10)"
   ]
  },
  {
   "cell_type": "markdown",
   "metadata": {},
   "source": [
    "## 014-减绳子"
   ]
  },
  {
   "cell_type": "code",
   "execution_count": 6,
   "metadata": {},
   "outputs": [],
   "source": [
    "# -*- coding:utf-8 -*-\n",
    "#-----------------------------动态规划，自底向上实现----------------------------------------\n",
    "class Solution():\n",
    "    def cutRope(self, number):\n",
    "        # write code here\n",
    "        if number <=1:\n",
    "            return 0\n",
    "        elif number ==2:\n",
    "            return 1\n",
    "        elif number == 3:\n",
    "            return 2\n",
    "        else:\n",
    "            r = [-1 for i in range(number+1)]\n",
    "            r[0] = 0\n",
    "            r[1] = 1\n",
    "            r[2] = 2\n",
    "            r[3] = 3\n",
    "        for j in range(4,number+1):\n",
    "            q = -1\n",
    "            for i in range(1,j//2+1):\n",
    "                q = max(q,r[i]*r[j-i])\n",
    "            r[j] = q\n",
    "        return r[number]"
   ]
  },
  {
   "cell_type": "code",
   "execution_count": 7,
   "metadata": {},
   "outputs": [
    {
     "data": {
      "text/plain": [
       "4"
      ]
     },
     "execution_count": 7,
     "metadata": {},
     "output_type": "execute_result"
    }
   ],
   "source": [
    "sovle = Solution()\n",
    "sovle.cutRope(4)"
   ]
  },
  {
   "cell_type": "code",
   "execution_count": 8,
   "metadata": {},
   "outputs": [],
   "source": [
    "# -*- coding:utf-8 -*-\n",
    "#-----------------------------动态规划，带有备忘录的自顶向下实现----------------------------------------\n",
    "class Solution():\n",
    "    def __init__(self):\n",
    "        self.r = []\n",
    "    def cutRope(self, number):\n",
    "        # write code here\n",
    "        if number <=1:\n",
    "            return 0\n",
    "        elif number ==2:\n",
    "            return 1\n",
    "        elif number == 3:\n",
    "            return 2\n",
    "        else:\n",
    "            self.r = [-1 for i in range(number+1)]\n",
    "            self.r[0] = 0\n",
    "            self.r[1] = 1\n",
    "            self.r[2] = 2\n",
    "            self.r[3] = 3\n",
    "            return self.recurse(number)\n",
    "    def recurse(self,number):\n",
    "        if self.r[number]>=0:\n",
    "            return self.r[number]\n",
    "        else:\n",
    "            q = -1\n",
    "            for i in range(1,number//2 +1):\n",
    "                q = max(q,self.recurse(i)*self.recurse(number-i))\n",
    "            self.r[number] = q\n",
    "        return q"
   ]
  },
  {
   "cell_type": "code",
   "execution_count": 5,
   "metadata": {},
   "outputs": [],
   "source": [
    "# -*- coding:utf-8 -*-\n",
    "#-------------------------------贪婪算法-----------------------------------------\n",
    "class Solution:\n",
    "    def cutRope(self, number):\n",
    "        # write code here\n",
    "        if number <=1:\n",
    "            return 0\n",
    "        if number ==2:\n",
    "            return 1\n",
    "        if number ==3:\n",
    "            return 2\n",
    "        number_of_3 = number//3\n",
    "        if number - 3*number_of_3==1:\n",
    "            number_of_3-=1\n",
    "        number_of_2 = (number-3*number_of_3)//2\n",
    "        return 3**number_of_3*2**number_of_2"
   ]
  },
  {
   "cell_type": "code",
   "execution_count": 7,
   "metadata": {},
   "outputs": [],
   "source": [
    "sovle = Solution()"
   ]
  },
  {
   "cell_type": "code",
   "execution_count": 8,
   "metadata": {},
   "outputs": [
    {
     "data": {
      "text/plain": [
       "27"
      ]
     },
     "execution_count": 8,
     "metadata": {},
     "output_type": "execute_result"
    }
   ],
   "source": [
    "sovle.cutRope(9)"
   ]
  },
  {
   "cell_type": "markdown",
   "metadata": {},
   "source": [
    "##### Note\n",
    "在牛客网中，这一方法实现的时间和空间都比动态规划要差，很奇怪"
   ]
  },
  {
   "cell_type": "markdown",
   "metadata": {},
   "source": [
    "## 015-二进制中1的个数"
   ]
  },
  {
   "cell_type": "code",
   "execution_count": 1,
   "metadata": {},
   "outputs": [],
   "source": [
    "# -*- coding:utf-8 -*-\n",
    "#---------------------------对应书中的惊喜解法----------------\n",
    "class Solution():\n",
    "    def NumberOf1(self, n):\n",
    "        # write code here\n",
    "        count = 0\n",
    "        if n<0:\n",
    "            n = n& 0xffffffff\n",
    "        while n:\n",
    "            count += 1\n",
    "            n = n &(n-1)\n",
    "        return count"
   ]
  },
  {
   "cell_type": "code",
   "execution_count": 3,
   "metadata": {},
   "outputs": [],
   "source": [
    "solve = Solution()"
   ]
  },
  {
   "cell_type": "code",
   "execution_count": 4,
   "metadata": {},
   "outputs": [
    {
     "data": {
      "text/plain": [
       "32"
      ]
     },
     "execution_count": 4,
     "metadata": {},
     "output_type": "execute_result"
    }
   ],
   "source": [
    "solve.NumberOf1(-1)"
   ]
  },
  {
   "cell_type": "code",
   "execution_count": 29,
   "metadata": {},
   "outputs": [
    {
     "data": {
      "text/plain": [
       "False"
      ]
     },
     "execution_count": 29,
     "metadata": {},
     "output_type": "execute_result"
    }
   ],
   "source": [
    "-1 == -1&0xffffffff"
   ]
  },
  {
   "cell_type": "markdown",
   "metadata": {},
   "source": [
    "##### Note\n",
    "2. n = n & 0xffffffff，0x代表后面的是16进制数，在Python中，数的大小是可以无限扩大的，不会像Java或c++中，数超过32位会溢出，而是继续扩张，所以对于一个负数而言，进行了这个操作，实际上是提取了负数的后32位（在计算机中以补码形式存在），前面的任意位呢，则变成了0，比如说 -1，一开始是 111.....(n个1)...11111111，进行与运算之后，得到，00....(n个0)....111111111（32个1），变成了含32个1的正数，然后就不用担心负数陷入死循环。\n",
    "3. python的负数相当于前面有无限个1，所以必须要做限制位数的操作。c++ int 则为有限位（32位）\n",
    "4. C++中的第一种常规解法在这里不成立，因为python并没有限制数据类型，当a超出32位后还会继续左移而不是溢出变为0，即当int大于32位的时候，用更大的数long存储从而导致不能到0，或者可以理解为python中的整数是无穷位的\n",
    "5. python代码中的数默认为10进制，二进制前面要加0b,八进制加0o，16进制加0x"
   ]
  },
  {
   "cell_type": "code",
   "execution_count": 2,
   "metadata": {},
   "outputs": [],
   "source": [
    "# -*- coding:utf-8 -*-\n",
    "#----------------------对应书中第一种解法-----------------------------\n",
    "class Solution():\n",
    "    def NumberOf1(self, n):\n",
    "        # write code here\n",
    "        return sum([(n>>i)&1 for i in range(32)])"
   ]
  },
  {
   "cell_type": "code",
   "execution_count": 4,
   "metadata": {},
   "outputs": [
    {
     "data": {
      "text/plain": [
       "32"
      ]
     },
     "execution_count": 4,
     "metadata": {},
     "output_type": "execute_result"
    }
   ],
   "source": [
    "solve = Solution()\n",
    "solve.NumberOf1(-1)"
   ]
  },
  {
   "cell_type": "code",
   "execution_count": 11,
   "metadata": {},
   "outputs": [],
   "source": [
    "# -*- coding:utf-8 -*-\n",
    "#----------------------对应书中第二种解法-----------------------------\n",
    "class Solution():\n",
    "    def NumberOf1(self, n):\n",
    "        # write code here\n",
    "        return sum([(n&(1<<i) != 0) for i in range(32)])"
   ]
  },
  {
   "cell_type": "markdown",
   "metadata": {},
   "source": [
    "##### Note\n",
    "1. python中判断条件时，只要不是0，False,None，都认为是True\n",
    "2. 上面的解法都默认了数不会超过32位，忽略32位以上的数，即默认使用C++中的int类型。题目实际问的也是把数表示成32位二进制后有多少1"
   ]
  },
  {
   "cell_type": "code",
   "execution_count": null,
   "metadata": {},
   "outputs": [],
   "source": []
  }
 ],
 "metadata": {
  "kernelspec": {
   "display_name": "Python 3",
   "language": "python",
   "name": "python3"
  },
  "language_info": {
   "codemirror_mode": {
    "name": "ipython",
    "version": 3
   },
   "file_extension": ".py",
   "mimetype": "text/x-python",
   "name": "python",
   "nbconvert_exporter": "python",
   "pygments_lexer": "ipython3",
   "version": "3.7.3"
  }
 },
 "nbformat": 4,
 "nbformat_minor": 4
}
