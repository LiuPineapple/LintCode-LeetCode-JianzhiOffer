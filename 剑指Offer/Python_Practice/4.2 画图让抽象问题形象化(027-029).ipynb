{
 "cells": [
  {
   "cell_type": "markdown",
   "metadata": {},
   "source": [
    "# 4.2 画图让抽象问题形象化(027-029)"
   ]
  },
  {
   "cell_type": "markdown",
   "metadata": {},
   "source": [
    "## 027-二叉树的镜像"
   ]
  },
  {
   "cell_type": "code",
   "execution_count": 2,
   "metadata": {},
   "outputs": [],
   "source": [
    "# -*- coding:utf-8 -*-\n",
    "#----------------递归实现--------------------------\n",
    "# class TreeNode:\n",
    "#     def __init__(self, x):\n",
    "#         self.val = x\n",
    "#         self.left = None\n",
    "#         self.right = None\n",
    "class Solution():\n",
    "    # 返回镜像树的根节点\n",
    "    def Mirror(self, root):\n",
    "        # write code here\n",
    "        if root!=None:\n",
    "            temp = root.left\n",
    "            root.left = self.Mirror(root.right)\n",
    "            root.right = self.Mirror(temp)\n",
    "        return root"
   ]
  },
  {
   "cell_type": "markdown",
   "metadata": {},
   "source": [
    "##### Note\n",
    "凡是交换的，都要想到是否要使用临时值，否则可能会出问题"
   ]
  },
  {
   "cell_type": "markdown",
   "metadata": {},
   "source": [
    "## 028-对称的二叉树"
   ]
  },
  {
   "cell_type": "code",
   "execution_count": 3,
   "metadata": {},
   "outputs": [],
   "source": [
    "# -*- coding:utf-8 -*-\n",
    "# class TreeNode:\n",
    "#     def __init__(self, x):\n",
    "#         self.val = x\n",
    "#         self.left = None\n",
    "#         self.right = None\n",
    "class Solution():\n",
    "    def isSymmetrical(self, pRoot):\n",
    "        # write code here\n",
    "        return self.isSymmetricalTwo(pRoot,pRoot)\n",
    "    def isSymmetricalTwo(self,pRoot1,pRoot2):\n",
    "        if pRoot1 == None and pRoot2 == None:\n",
    "            return True\n",
    "        if pRoot1 == None or pRoot2 == None:\n",
    "            return False\n",
    "        if pRoot1.val != pRoot2.val:\n",
    "            return False\n",
    "        return self.isSymmetricalTwo(pRoot1.left,pRoot2.right) and self.isSymmetricalTwo(pRoot1.right,pRoot2.left)"
   ]
  },
  {
   "cell_type": "markdown",
   "metadata": {},
   "source": [
    "## 029-顺时针打印矩阵"
   ]
  },
  {
   "cell_type": "code",
   "execution_count": 1,
   "metadata": {},
   "outputs": [],
   "source": [
    "# -*- coding:utf-8 -*-\n",
    "class Solution():\n",
    "    # matrix类型为二维列表，需要返回列表\n",
    "    def printMatrix(self, matrix):\n",
    "        # write code here\n",
    "        if len(matrix)==0:\n",
    "            return []\n",
    "        rows = len(matrix)\n",
    "        if len(matrix[0])==0:\n",
    "            return []\n",
    "        columns = len(matrix[0])\n",
    "        start = 0\n",
    "        result = []\n",
    "        while rows>start*2 and columns>start*2:\n",
    "            result += self.printCircle(matrix,rows,columns,start)\n",
    "            start+=1\n",
    "        return result\n",
    "    def printCircle(self,matrix,rows,columns,start):\n",
    "        result = []\n",
    "        endX = rows-start-1\n",
    "        endY = columns - start -1\n",
    "        for i in range(endY-start+1):\n",
    "            result.append(matrix[start][start+i])\n",
    "        if start < endX:\n",
    "            for i in range(endX-start):\n",
    "                result.append(matrix[start+1+i][endY])\n",
    "        if start<endX and start < endY:\n",
    "            for i in range(endY-start):\n",
    "                result.append(matrix[endX][endY-1-i])\n",
    "        if start < endX-1 and start <endY:\n",
    "            for i in range(endX-start-1):\n",
    "                result.append(matrix[endX-1-i][start])\n",
    "        return result       "
   ]
  },
  {
   "cell_type": "markdown",
   "metadata": {},
   "source": [
    "#### Note\n",
    "这里要用while不要用if,即判断条件的时候要想好是用if还是while，做循环的时候要想好是用for还是用while"
   ]
  },
  {
   "cell_type": "code",
   "execution_count": null,
   "metadata": {},
   "outputs": [],
   "source": []
  }
 ],
 "metadata": {
  "kernelspec": {
   "display_name": "Python 3",
   "language": "python",
   "name": "python3"
  },
  "language_info": {
   "codemirror_mode": {
    "name": "ipython",
    "version": 3
   },
   "file_extension": ".py",
   "mimetype": "text/x-python",
   "name": "python",
   "nbconvert_exporter": "python",
   "pygments_lexer": "ipython3",
   "version": "3.7.3"
  }
 },
 "nbformat": 4,
 "nbformat_minor": 4
}
