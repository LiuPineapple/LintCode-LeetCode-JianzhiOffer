{
 "cells": [
  {
   "cell_type": "markdown",
   "metadata": {},
   "source": [
    "## 011 旋转数组中的最小数字"
   ]
  },
  {
   "cell_type": "markdown",
   "metadata": {},
   "source": [
    "- 二分查找"
   ]
  },
  {
   "cell_type": "code",
   "execution_count": 6,
   "metadata": {},
   "outputs": [],
   "source": [
    "def minNumberInRotateArray(rotateArray):\n",
    "    if(len(rotateArray)==0):\n",
    "        return 0\n",
    "    index1 = 0\n",
    "    index2 = len(rotateArray)-1\n",
    "    indexM = index1\n",
    "    while index2>=index1:\n",
    "        if index2==index1+1:\n",
    "            indexM = index2\n",
    "            break\n",
    "        indexM = (index1+index2)//2\n",
    "        if (rotateArray[index1]==rotateArray[index2])&(rotateArray[index1]==rotateArray[indexM]):\n",
    "            return min_inorder(rotateArray,index1,index2)\n",
    "        if rotateArray[index1]<=rotateArray[indexM]:\n",
    "            index1 = indexM\n",
    "        if rotateArray[index2]>=rotateArray[indexM]:\n",
    "            index2 = indexM\n",
    "    return rotateArray[indexM]\n",
    "\n",
    "    def min_inorder(rotateArray,index1,index2):\n",
    "        result = rotateArray[index1]\n",
    "        for i in range(index1,index2+1):\n",
    "            if result < rotateArray[i]:\n",
    "                result = rotateArray[i]\n",
    "        return result"
   ]
  },
  {
   "cell_type": "markdown",
   "metadata": {},
   "source": [
    "- 顺序查找"
   ]
  },
  {
   "cell_type": "code",
   "execution_count": 9,
   "metadata": {},
   "outputs": [],
   "source": [
    "def minNumberInRotateArray(rotateArray):\n",
    "        if(len(rotateArray)==0):\n",
    "            return 0\n",
    "        result = rotateArray[0]\n",
    "        for i in rotateArray:\n",
    "            if result > i:\n",
    "                result = i\n",
    "        return result"
   ]
  },
  {
   "cell_type": "markdown",
   "metadata": {},
   "source": [
    "对于Python来说,这俩效率并没有相差很多"
   ]
  },
  {
   "cell_type": "markdown",
   "metadata": {},
   "source": [
    "## 013 机器人的运动范围"
   ]
  },
  {
   "cell_type": "code",
   "execution_count": 35,
   "metadata": {},
   "outputs": [],
   "source": [
    "class Solution():\n",
    "    def __init__(self):\n",
    "        self.visited=[]\n",
    "    def movingCount(self, threshold, rows, cols):\n",
    "        if threshold<0 or rows<=0 or cols<=0:\n",
    "            return 0\n",
    "        self.visited = [False for i in range(rows*cols)]\n",
    "        count  = self.movingCountCore(threshold,rows,cols,0,0)\n",
    "        return count\n",
    "    def get_sum(self,number):\n",
    "        sum = 0\n",
    "        while number>0:\n",
    "            sum+=number%10\n",
    "            number = number//10\n",
    "        return sum\n",
    "    def movingCountCore(self, threshold, rows, cols,row,col):\n",
    "        count = 0\n",
    "        if row>=0 and row<rows and col>=0 and col<cols and self.visited[row*cols+col]==False\\\n",
    "               and self.get_sum(row)+self.get_sum(col)<=threshold:\n",
    "            self.visited[row * cols + col] = True\n",
    "            count = 1 + self.movingCountCore(threshold, rows, cols, row - 1, col) + \\\n",
    "            self.movingCountCore(threshold,rows, cols,row,col - 1) +\\\n",
    "            self.movingCountCore(threshold, rows, cols, row + 1, col) + \\\n",
    "            self.movingCountCore(threshold, rows, cols, row, col + 1)\n",
    "            return count\n",
    "        return 0"
   ]
  },
  {
   "cell_type": "code",
   "execution_count": 36,
   "metadata": {},
   "outputs": [
    {
     "data": {
      "text/plain": [
       "21"
      ]
     },
     "execution_count": 36,
     "metadata": {},
     "output_type": "execute_result"
    }
   ],
   "source": [
    "solve = Solution()\n",
    "solve.movingCount(5,10,10)"
   ]
  },
  {
   "cell_type": "code",
   "execution_count": null,
   "metadata": {},
   "outputs": [],
   "source": []
  }
 ],
 "metadata": {
  "kernelspec": {
   "display_name": "Python 3",
   "language": "python",
   "name": "python3"
  },
  "language_info": {
   "codemirror_mode": {
    "name": "ipython",
    "version": 3
   },
   "file_extension": ".py",
   "mimetype": "text/x-python",
   "name": "python",
   "nbconvert_exporter": "python",
   "pygments_lexer": "ipython3",
   "version": "3.7.3"
  }
 },
 "nbformat": 4,
 "nbformat_minor": 2
}
