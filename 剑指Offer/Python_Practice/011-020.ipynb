{
 "cells": [
  {
   "cell_type": "markdown",
   "metadata": {},
   "source": [
    "## 011 旋转数组中的最小数字"
   ]
  },
  {
   "cell_type": "markdown",
   "metadata": {},
   "source": [
    "- 二分查找"
   ]
  },
  {
   "cell_type": "code",
   "execution_count": 6,
   "metadata": {},
   "outputs": [],
   "source": [
    "def minNumberInRotateArray(rotateArray):\n",
    "    if(len(rotateArray)==0):\n",
    "        return 0\n",
    "    index1 = 0\n",
    "    index2 = len(rotateArray)-1\n",
    "    indexM = index1\n",
    "    while index2>=index1:\n",
    "        if index2==index1+1:\n",
    "            indexM = index2\n",
    "            break\n",
    "        indexM = (index1+index2)//2\n",
    "        if (rotateArray[index1]==rotateArray[index2])&(rotateArray[index1]==rotateArray[indexM]):\n",
    "            return min_inorder(rotateArray,index1,index2)\n",
    "        if rotateArray[index1]<=rotateArray[indexM]:\n",
    "            index1 = indexM\n",
    "        if rotateArray[index2]>=rotateArray[indexM]:\n",
    "            index2 = indexM\n",
    "    return rotateArray[indexM]\n",
    "\n",
    "    def min_inorder(rotateArray,index1,index2):\n",
    "        result = rotateArray[index1]\n",
    "        for i in range(index1,index2+1):\n",
    "            if result < rotateArray[i]:\n",
    "                result = rotateArray[i]\n",
    "        return result"
   ]
  },
  {
   "cell_type": "markdown",
   "metadata": {},
   "source": [
    "- 顺序查找"
   ]
  },
  {
   "cell_type": "code",
   "execution_count": 9,
   "metadata": {},
   "outputs": [],
   "source": [
    "def minNumberInRotateArray(rotateArray):\n",
    "        if(len(rotateArray)==0):\n",
    "            return 0\n",
    "        result = rotateArray[0]\n",
    "        for i in rotateArray:\n",
    "            if result > i:\n",
    "                result = i\n",
    "        return result"
   ]
  },
  {
   "cell_type": "markdown",
   "metadata": {},
   "source": [
    "对于Python来说,这俩效率并没有相差很多"
   ]
  },
  {
   "cell_type": "code",
   "execution_count": null,
   "metadata": {},
   "outputs": [],
   "source": []
  }
 ],
 "metadata": {
  "kernelspec": {
   "display_name": "Python 3",
   "language": "python",
   "name": "python3"
  },
  "language_info": {
   "codemirror_mode": {
    "name": "ipython",
    "version": 3
   },
   "file_extension": ".py",
   "mimetype": "text/x-python",
   "name": "python",
   "nbconvert_exporter": "python",
   "pygments_lexer": "ipython3",
   "version": "3.7.3"
  }
 },
 "nbformat": 4,
 "nbformat_minor": 2
}
