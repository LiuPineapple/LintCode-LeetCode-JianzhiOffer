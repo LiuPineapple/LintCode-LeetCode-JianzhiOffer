{
 "cells": [
  {
   "cell_type": "markdown",
   "metadata": {},
   "source": [
    "## 011-旋转数组中的最小数字"
   ]
  },
  {
   "cell_type": "markdown",
   "metadata": {},
   "source": [
    "- 二分查找"
   ]
  },
  {
   "cell_type": "code",
   "execution_count": 3,
   "metadata": {},
   "outputs": [],
   "source": [
    "class Solution():\n",
    "    def minNumberInRotateArray(self,rotateArray):\n",
    "        if(len(rotateArray)==0):\n",
    "            return 0\n",
    "        index1 = 0\n",
    "        index2 = len(rotateArray)-1\n",
    "        indexM = index1\n",
    "        while rotateArray[index1]>=rotateArray[index2]:\n",
    "            if index2==index1+1:\n",
    "                indexM = index2\n",
    "                break\n",
    "            indexM = (index1+index2)//2\n",
    "            if (rotateArray[index1]==rotateArray[index2])&(rotateArray[index1]==rotateArray[indexM]):\n",
    "                return self.min_inorder(rotateArray,index1,index2)\n",
    "            if rotateArray[index1]<=rotateArray[indexM]:\n",
    "                index1 = indexM\n",
    "            if rotateArray[index2]>=rotateArray[indexM]:\n",
    "                index2 = indexM\n",
    "        return rotateArray[indexM]\n",
    "\n",
    "        def min_inorder(self,rotateArray,index1,index2):\n",
    "            result = rotateArray[index1]\n",
    "            for i in range(index1,index2+1):\n",
    "                if result > rotateArray[i]:\n",
    "                    result = rotateArray[i]\n",
    "            return result"
   ]
  },
  {
   "cell_type": "markdown",
   "metadata": {},
   "source": [
    "时间复杂度为O(logn)"
   ]
  },
  {
   "cell_type": "markdown",
   "metadata": {},
   "source": [
    "要考虑正常情况和四种特殊情况（边界或特殊值）:\n",
    "- 数组长度为0\n",
    "- 数组长度为1\n",
    "- 数组没有旋转\n",
    "- 二分查找的两边和中间相等"
   ]
  },
  {
   "cell_type": "markdown",
   "metadata": {},
   "source": [
    "- 顺序查找"
   ]
  },
  {
   "cell_type": "code",
   "execution_count": 2,
   "metadata": {},
   "outputs": [],
   "source": [
    "class solution():\n",
    "    def minNumberInRotateArray(self,rotateArray):\n",
    "        if(len(rotateArray)==0):\n",
    "            return 0\n",
    "        result = rotateArray[0]\n",
    "        for i in rotateArray:\n",
    "            if result > i:\n",
    "                result = i\n",
    "        return result"
   ]
  },
  {
   "cell_type": "markdown",
   "metadata": {},
   "source": [
    "对于Python来说,这俩效率并没有相差很多"
   ]
  },
  {
   "cell_type": "markdown",
   "metadata": {},
   "source": [
    "## 012-矩阵中的路径"
   ]
  },
  {
   "cell_type": "code",
   "execution_count": 30,
   "metadata": {},
   "outputs": [],
   "source": [
    "class Solution():\n",
    "    def __init__(self):\n",
    "        self.pathlength = 0\n",
    "        self.visited=[]\n",
    "    def hasPathCore(self, matrix, rows, cols, path,row,col):\n",
    "        if self.pathlength==len(path):\n",
    "            return True\n",
    "        haspath = False\n",
    "        if row>=0 and col>=0 and row<rows and col<cols and (not self.visited[row*cols+col]) and matrix[row*cols+col]==path[self.pathlength]:\n",
    "            self.pathlength+=1\n",
    "            self.visited[row*cols+col]=True\n",
    "            haspath = self.hasPathCore(matrix, rows, cols, path,row-1,col) or self.hasPathCore(matrix, rows, cols, path,row,col-1)or self.hasPathCore(matrix, rows, cols, path,row+1,col) or self.hasPathCore(matrix, rows, cols, path,row,col+1)\n",
    "            if(not haspath):\n",
    "                self.pathlength-=1\n",
    "                self.visited[row*cols+col]=False;\n",
    "        return haspath      \n",
    "    def hasPath(self, matrix, rows, cols, path):\n",
    "        if len(matrix)==0 or len(path)==0 or rows<=0 or cols<=0:\n",
    "            return False;\n",
    "        self.visited = [False for i in range(rows*cols)]\n",
    "        for i in range(rows):\n",
    "            for j in range(cols):\n",
    "                if(self.hasPathCore(matrix,rows,cols,path,i,j)):\n",
    "                    return True\n",
    "        return False;     "
   ]
  },
  {
   "cell_type": "code",
   "execution_count": 31,
   "metadata": {},
   "outputs": [],
   "source": [
    "matrix = \"ABCESFCSADEE\"\n",
    "rows = 3\n",
    "cols = 4\n",
    "path  = \"ABCB\""
   ]
  },
  {
   "cell_type": "code",
   "execution_count": 32,
   "metadata": {},
   "outputs": [
    {
     "data": {
      "text/plain": [
       "False"
      ]
     },
     "execution_count": 32,
     "metadata": {},
     "output_type": "execute_result"
    }
   ],
   "source": [
    "not True"
   ]
  },
  {
   "cell_type": "code",
   "execution_count": 33,
   "metadata": {},
   "outputs": [
    {
     "data": {
      "text/plain": [
       "False"
      ]
     },
     "execution_count": 33,
     "metadata": {},
     "output_type": "execute_result"
    }
   ],
   "source": [
    "solve = Solution()\n",
    "solve.hasPath(matrix,rows,cols,path)"
   ]
  },
  {
   "cell_type": "markdown",
   "metadata": {},
   "source": [
    "要考虑正常情况和四种特殊情况（边界或特殊值）:\n",
    "- 矩阵或数组长度为0\n",
    "- 矩阵或数组长度为1"
   ]
  },
  {
   "cell_type": "markdown",
   "metadata": {},
   "source": [
    "## 013-机器人的运动范围"
   ]
  },
  {
   "cell_type": "code",
   "execution_count": 35,
   "metadata": {
    "collapsed": true
   },
   "outputs": [],
   "source": [
    "class Solution():\n",
    "    def __init__(self):\n",
    "        self.visited=[]\n",
    "    def movingCount(self, threshold, rows, cols):\n",
    "        if threshold<0 or rows<=0 or cols<=0:\n",
    "            return 0\n",
    "        self.visited = [False for i in range(rows*cols)]\n",
    "        count  = self.movingCountCore(threshold,rows,cols,0,0)\n",
    "        return count\n",
    "    def get_sum(self,number):\n",
    "        sum = 0\n",
    "        while number>0:\n",
    "            sum+=number%10\n",
    "            number = number//10\n",
    "        return sum\n",
    "    def movingCountCore(self, threshold, rows, cols,row,col):\n",
    "        count = 0\n",
    "        if row>=0 and row<rows and col>=0 and col<cols and self.visited[row*cols+col]==False\\\n",
    "               and self.get_sum(row)+self.get_sum(col)<=threshold:\n",
    "            self.visited[row * cols + col] = True\n",
    "            count = 1 + self.movingCountCore(threshold, rows, cols, row - 1, col) + \\\n",
    "            self.movingCountCore(threshold,rows, cols,row,col - 1) +\\\n",
    "            self.movingCountCore(threshold, rows, cols, row + 1, col) + \\\n",
    "            self.movingCountCore(threshold, rows, cols, row, col + 1)\n",
    "            return count\n",
    "        return 0"
   ]
  },
  {
   "cell_type": "code",
   "execution_count": 36,
   "metadata": {},
   "outputs": [
    {
     "data": {
      "text/plain": [
       "21"
      ]
     },
     "execution_count": 36,
     "metadata": {},
     "output_type": "execute_result"
    }
   ],
   "source": [
    "solve = Solution()\n",
    "solve.movingCount(5,10,10)"
   ]
  },
  {
   "cell_type": "markdown",
   "metadata": {},
   "source": [
    "## 014-减绳子"
   ]
  },
  {
   "cell_type": "markdown",
   "metadata": {},
   "source": [
    "- 动态规划"
   ]
  },
  {
   "cell_type": "code",
   "execution_count": 15,
   "metadata": {},
   "outputs": [],
   "source": [
    "class Solution():\n",
    "    def __init__(self):\n",
    "        self.products =[]\n",
    "    def cutRope(self, number):\n",
    "        if number <=1:\n",
    "            return 0\n",
    "        if number ==2:\n",
    "            return 1\n",
    "        if number ==3:\n",
    "            return 2\n",
    "        self.products = [0 for i in range(number+1)]\n",
    "        self.products[0]=0\n",
    "        self.products[1]=1\n",
    "        self.products[2]=2\n",
    "        self.products[3]=3\n",
    "        for i in range(4,number+1):\n",
    "            product =0\n",
    "            for j in range(1,i//2+1):\n",
    "                if product < self.products[j]*self.products[i-j]:\n",
    "                    product = self.products[j]*self.products[i-j]\n",
    "            self.products[i] = product\n",
    "        return self.products[number]\n"
   ]
  },
  {
   "cell_type": "code",
   "execution_count": 16,
   "metadata": {},
   "outputs": [
    {
     "data": {
      "text/plain": [
       "4"
      ]
     },
     "execution_count": 16,
     "metadata": {},
     "output_type": "execute_result"
    }
   ],
   "source": [
    "sovle = Solution()\n",
    "sovle.cutRope(4)"
   ]
  },
  {
   "cell_type": "markdown",
   "metadata": {},
   "source": [
    "自上而下递归太浪费时间，应该采取自下而上的循环"
   ]
  },
  {
   "cell_type": "markdown",
   "metadata": {},
   "source": [
    "动态规划的时间复杂度为O(n^2),空间复杂度为O(n)，但是神奇的是在牛客上竟然比下面的贪婪方法时间和空间开销都小"
   ]
  },
  {
   "cell_type": "markdown",
   "metadata": {},
   "source": [
    "- 贪婪方法"
   ]
  },
  {
   "cell_type": "code",
   "execution_count": 8,
   "metadata": {},
   "outputs": [],
   "source": [
    "class Solution():\n",
    "    def cutRope(self, number):\n",
    "        if number <=1:\n",
    "            return 0\n",
    "        if number ==2:\n",
    "            return 1\n",
    "        if number ==3:\n",
    "            return 2\n",
    "        number_of_3 = number//3\n",
    "        if number - 3*number_of_3==1:\n",
    "            number_of_3-=1\n",
    "        number_of_2 = (number-3*number_of_3)//2\n",
    "        return 3**number_of_3*2**number_of_2"
   ]
  },
  {
   "cell_type": "code",
   "execution_count": 9,
   "metadata": {},
   "outputs": [],
   "source": [
    "sovle = Solution()"
   ]
  },
  {
   "cell_type": "code",
   "execution_count": 10,
   "metadata": {},
   "outputs": [
    {
     "data": {
      "text/plain": [
       "4"
      ]
     },
     "execution_count": 10,
     "metadata": {},
     "output_type": "execute_result"
    }
   ],
   "source": [
    "sovle.cutRope(4)"
   ]
  },
  {
   "cell_type": "markdown",
   "metadata": {},
   "source": [
    "时间复杂度和空间复杂度为O(1)，贪婪算法一旦有效，就是一种高效算法"
   ]
  },
  {
   "cell_type": "markdown",
   "metadata": {},
   "source": [
    "## 015-二进制中1的个数"
   ]
  },
  {
   "cell_type": "markdown",
   "metadata": {},
   "source": [
    "C++中的第一种解法在这里不成立，因为python并没有限制数据类型，当a超出32位后还会继续左移而不是溢出变为0，即当int大于32位的时候，用更大的数long存储从而导致不能到0"
   ]
  },
  {
   "cell_type": "markdown",
   "metadata": {},
   "source": [
    "- 第一种方法(对应书中的第二种解法）"
   ]
  },
  {
   "cell_type": "code",
   "execution_count": 23,
   "metadata": {},
   "outputs": [],
   "source": [
    "class Solution():\n",
    "    def NumberOf1(self, n):\n",
    "        count = 0\n",
    "        if n<0:\n",
    "            n = n& 0xffffffff\n",
    "        while n:\n",
    "            count+=1\n",
    "            n = (n-1)&n\n",
    "        return count"
   ]
  },
  {
   "cell_type": "code",
   "execution_count": 24,
   "metadata": {},
   "outputs": [],
   "source": [
    "solve = Solution()"
   ]
  },
  {
   "cell_type": "code",
   "execution_count": 25,
   "metadata": {},
   "outputs": [
    {
     "data": {
      "text/plain": [
       "32"
      ]
     },
     "execution_count": 25,
     "metadata": {},
     "output_type": "execute_result"
    }
   ],
   "source": [
    "solve.NumberOf1(-1)"
   ]
  },
  {
   "cell_type": "code",
   "execution_count": 29,
   "metadata": {},
   "outputs": [
    {
     "data": {
      "text/plain": [
       "False"
      ]
     },
     "execution_count": 29,
     "metadata": {},
     "output_type": "execute_result"
    }
   ],
   "source": [
    "-1 == -1&0xffffffff"
   ]
  },
  {
   "cell_type": "markdown",
   "metadata": {},
   "source": [
    "【解释一下】n = n & 0xffffffff，在Python中，数的大小是可以无限扩大的，不会像Java或c++中，数超过32位会溢出，而是继续扩张，所以对于一个负数而言，进行了这个操作，实际上是提取了负数的后32位（在计算机中以补码形式存在），前面的任意位呢，则变成了0，比如说 -1，一开始是 111.....(n个1)...11111111，进行与运算之后，得到，00....(n个0)....111111111（32个1），变成了含32个1的正数，然后就不用担心负数陷入死循环。"
   ]
  },
  {
   "cell_type": "markdown",
   "metadata": {},
   "source": [
    "python的负数相当于前面有无限个1，所以必须要做限制位数的操作。c++ int 则为有限位（32位）"
   ]
  },
  {
   "cell_type": "markdown",
   "metadata": {},
   "source": [
    "- 讨论区看到的另一种好用的解法，剑指offer的书上并没有涉及"
   ]
  },
  {
   "cell_type": "code",
   "execution_count": 3,
   "metadata": {},
   "outputs": [],
   "source": [
    "class Solution():\n",
    "    def NumberOf1(self, n):\n",
    "        return sum([(n>>i)&1 for i in range(32)])"
   ]
  },
  {
   "cell_type": "code",
   "execution_count": 4,
   "metadata": {},
   "outputs": [
    {
     "data": {
      "text/plain": [
       "32"
      ]
     },
     "execution_count": 4,
     "metadata": {},
     "output_type": "execute_result"
    }
   ],
   "source": [
    "solve = Solution()\n",
    "solve.NumberOf1(-1)"
   ]
  },
  {
   "cell_type": "code",
   "execution_count": null,
   "metadata": {},
   "outputs": [],
   "source": []
  }
 ],
 "metadata": {
  "kernelspec": {
   "display_name": "Python 3",
   "language": "python",
   "name": "python3"
  },
  "language_info": {
   "codemirror_mode": {
    "name": "ipython",
    "version": 3
   },
   "file_extension": ".py",
   "mimetype": "text/x-python",
   "name": "python",
   "nbconvert_exporter": "python",
   "pygments_lexer": "ipython3",
   "version": "3.7.3"
  }
 },
 "nbformat": 4,
 "nbformat_minor": 4
}
