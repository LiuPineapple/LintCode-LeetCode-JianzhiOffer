{
 "cells": [
  {
   "cell_type": "markdown",
   "metadata": {},
   "source": [
    "## 010 斐波那契数列"
   ]
  },
  {
   "cell_type": "code",
   "execution_count": 1,
   "metadata": {},
   "outputs": [],
   "source": [
    "class Solution:\n",
    "    def Fibonacci(self, n):\n",
    "        if n ==0:\n",
    "            return 0\n",
    "        if n==1:\n",
    "            return 1\n",
    "        result = 0\n",
    "        mini1 = 0\n",
    "        mini2 = 1\n",
    "        for i in range(2,n+1):\n",
    "            result = mini1+mini2\n",
    "            mini1= mini2\n",
    "            mini2 = result\n",
    "        return result"
   ]
  },
  {
   "cell_type": "markdown",
   "metadata": {},
   "source": [
    "时间复杂度为n"
   ]
  },
  {
   "cell_type": "markdown",
   "metadata": {},
   "source": [
    "对于斐波那契数列来说，如果不考虑第0项的值，你可以已知第零项为0，第一项为1，然后向后相加，也可以已知第一项为1，第二项为1，向后相加，得到的数列都是相同的"
   ]
  },
  {
   "cell_type": "markdown",
   "metadata": {},
   "source": [
    "数学上，斐波那契数列通项公式的推导见：https://wenku.baidu.com/view/1a5338104431b90d6c85c74e.html"
   ]
  },
  {
   "cell_type": "markdown",
   "metadata": {},
   "source": [
    "扩展题，青蛙跳台阶，其实就是斐波那契数列问题，只不过初值不同，第一项为1，第二项为2，可以循环或者递归解决，同样可以用线性递推数列的特征方程解决，如果此题函数为g(n)，斐波那契数列题函数为f(n),那么g(n)=f(n+1)"
   ]
  },
  {
   "cell_type": "code",
   "execution_count": null,
   "metadata": {},
   "outputs": [],
   "source": []
  }
 ],
 "metadata": {
  "kernelspec": {
   "display_name": "Python 3",
   "language": "python",
   "name": "python3"
  },
  "language_info": {
   "codemirror_mode": {
    "name": "ipython",
    "version": 3
   },
   "file_extension": ".py",
   "mimetype": "text/x-python",
   "name": "python",
   "nbconvert_exporter": "python",
   "pygments_lexer": "ipython3",
   "version": "3.7.3"
  }
 },
 "nbformat": 4,
 "nbformat_minor": 2
}
