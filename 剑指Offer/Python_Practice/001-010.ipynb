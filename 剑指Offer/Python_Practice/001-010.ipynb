{
 "cells": [
  {
   "cell_type": "markdown",
   "metadata": {},
   "source": [
    "## 003-数组中重复的数字"
   ]
  },
  {
   "cell_type": "markdown",
   "metadata": {},
   "source": [
    "题目一"
   ]
  },
  {
   "cell_type": "code",
   "execution_count": 4,
   "metadata": {},
   "outputs": [],
   "source": [
    "class Solution():\n",
    "    # 这里要特别注意~找到任意重复的一个值并赋值到duplication[0]\n",
    "    # 函数返回True/False\n",
    "    def duplicate(self, numbers, duplication):\n",
    "        if len(numbers)<=0:\n",
    "            return False\n",
    "        for i in numbers:\n",
    "            if i<0 or i>=len(numbers):\n",
    "                return False;\n",
    "        for i in range(len(numbers)):\n",
    "            while numbers[i] !=i:\n",
    "                if numbers[i]==numbers[numbers[i]]:\n",
    "                    duplication[0]=numbers[i]\n",
    "                    return True\n",
    "                else:\n",
    "                    tempt = numbers[i]\n",
    "                    numbers[i] = numbers[tempt]\n",
    "                    numbers[tempt] = tempt\n",
    "        return False        "
   ]
  },
  {
   "cell_type": "markdown",
   "metadata": {},
   "source": [
    "虽然有两重循环，但对数组中的每一个数来说，最多只要移动两次，故时间复杂度为O(n)"
   ]
  },
  {
   "cell_type": "markdown",
   "metadata": {},
   "source": [
    "题目二"
   ]
  },
  {
   "cell_type": "markdown",
   "metadata": {},
   "source": [
    "## 010-斐波那契数列"
   ]
  },
  {
   "cell_type": "code",
   "execution_count": 1,
   "metadata": {},
   "outputs": [],
   "source": [
    "class Solution():\n",
    "    def Fibonacci(self, n):\n",
    "        if n ==0:\n",
    "            return 0\n",
    "        if n==1:\n",
    "            return 1\n",
    "        result = 0\n",
    "        mini1 = 0\n",
    "        mini2 = 1\n",
    "        for i in range(2,n+1):\n",
    "            result = mini1+mini2\n",
    "            mini1= mini2\n",
    "            mini2 = result\n",
    "        return result"
   ]
  },
  {
   "cell_type": "markdown",
   "metadata": {},
   "source": [
    "时间复杂度为n"
   ]
  },
  {
   "cell_type": "markdown",
   "metadata": {},
   "source": [
    "对于斐波那契数列来说，如果不考虑第0项的值，你可以已知第零项为0，第一项为1，然后向后相加，也可以已知第一项为1，第二项为1，向后相加，得到的数列都是相同的"
   ]
  },
  {
   "cell_type": "markdown",
   "metadata": {},
   "source": [
    "数学上，斐波那契数列通项公式的推导见：https://wenku.baidu.com/view/1a5338104431b90d6c85c74e.html"
   ]
  },
  {
   "cell_type": "markdown",
   "metadata": {},
   "source": [
    "扩展题，青蛙跳台阶，其实就是斐波那契数列问题，只不过初值不同，第一项为1，第二项为2，可以循环或者递归解决，同样可以用线性递推数列的特征方程解决，如果此题函数为g(n)，斐波那契数列题函数为f(n),那么g(n)=f(n+1)"
   ]
  },
  {
   "cell_type": "code",
   "execution_count": null,
   "metadata": {},
   "outputs": [],
   "source": []
  }
 ],
 "metadata": {
  "kernelspec": {
   "display_name": "Python 3",
   "language": "python",
   "name": "python3"
  },
  "language_info": {
   "codemirror_mode": {
    "name": "ipython",
    "version": 3
   },
   "file_extension": ".py",
   "mimetype": "text/x-python",
   "name": "python",
   "nbconvert_exporter": "python",
   "pygments_lexer": "ipython3",
   "version": "3.7.3"
  }
 },
 "nbformat": 4,
 "nbformat_minor": 2
}
