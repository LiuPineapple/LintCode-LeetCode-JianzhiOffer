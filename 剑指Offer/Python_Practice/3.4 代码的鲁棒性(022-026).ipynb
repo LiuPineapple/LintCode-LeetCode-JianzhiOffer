{
 "cells": [
  {
   "cell_type": "markdown",
   "metadata": {},
   "source": [
    "# 代码的鲁棒性(021-026)"
   ]
  },
  {
   "cell_type": "markdown",
   "metadata": {},
   "source": [
    "## 022-链表中倒数第k个节点"
   ]
  },
  {
   "cell_type": "code",
   "execution_count": 1,
   "metadata": {},
   "outputs": [],
   "source": [
    "# -*- coding:utf-8 -*-\n",
    "#-----------------------------剑指offer中的解法---------------------------\n",
    "# class ListNode:\n",
    "#     def __init__(self, x):\n",
    "#         self.val = x\n",
    "#         self.next = None\n",
    "class Solution():\n",
    "    def FindKthToTail(self, head, k):\n",
    "        # write code here\n",
    "        if head == None:\n",
    "            return None\n",
    "        if k==0:\n",
    "            return None\n",
    "        index=head\n",
    "        count = 1\n",
    "        while index.next != None:\n",
    "            count+=1\n",
    "            index = index.next\n",
    "        if count<k:\n",
    "            return None\n",
    "        First = head\n",
    "        for i in range(k-1):\n",
    "            First = First.next\n",
    "        Last = head\n",
    "        while First.next != None:\n",
    "            First= First.next\n",
    "            Last = Last.next\n",
    "        return Last"
   ]
  },
  {
   "cell_type": "code",
   "execution_count": 5,
   "metadata": {},
   "outputs": [],
   "source": [
    "# -*- coding:utf-8 -*-\n",
    "#--------------------适合python的解法------------------------\n",
    "# class ListNode:\n",
    "#     def __init__(self, x):\n",
    "#         self.val = x\n",
    "#         self.next = None\n",
    "\n",
    "class Solution():\n",
    "    def FindKthToTail(self, head, k):\n",
    "        # write code here\n",
    "        ls = []\n",
    "        while head != None:\n",
    "            ls.append(head)\n",
    "            head = head.next\n",
    "        if k == 0:\n",
    "            return None\n",
    "        try:\n",
    "            return ls[-k]\n",
    "        except:\n",
    "            return None"
   ]
  },
  {
   "cell_type": "markdown",
   "metadata": {},
   "source": [
    "##### Note\n",
    "在python列表中有如下操作需要注意"
   ]
  },
  {
   "cell_type": "code",
   "execution_count": 2,
   "metadata": {},
   "outputs": [],
   "source": [
    "l = [1,2,3]"
   ]
  },
  {
   "cell_type": "code",
   "execution_count": 3,
   "metadata": {},
   "outputs": [
    {
     "data": {
      "text/plain": [
       "1"
      ]
     },
     "execution_count": 3,
     "metadata": {},
     "output_type": "execute_result"
    }
   ],
   "source": [
    "l[-0]"
   ]
  },
  {
   "cell_type": "markdown",
   "metadata": {},
   "source": [
    "## 023-链表中环的入口节点"
   ]
  },
  {
   "cell_type": "code",
   "execution_count": 7,
   "metadata": {},
   "outputs": [],
   "source": [
    "# -*- coding:utf-8 -*-\n",
    "#-------------------------剑指offer中的解法--------------------\n",
    "# class ListNode:\n",
    "#     def __init__(self, x):\n",
    "#         self.val = x\n",
    "#         self.next = None\n",
    "class Solution():\n",
    "    def EntryNodeOfLoop(self, pHead):\n",
    "        # write code here\n",
    "        if pHead==None:\n",
    "            return None\n",
    "#判断是否有环\n",
    "        First = pHead\n",
    "        Last = pHead\n",
    "        ifLoop = False\n",
    "        while First.next != None and First.next.next != None:\n",
    "            First = First.next.next\n",
    "            Last = Last.next\n",
    "            if First.next == Last or First.next == Last.next:\n",
    "                ifLoop = True\n",
    "                break\n",
    "        if not ifLoop:\n",
    "            return None\n",
    "        else:\n",
    "#计算环里有多少节点\n",
    "            InLoop = First\n",
    "            count = 1\n",
    "            while InLoop.next != First:\n",
    "                count+=1\n",
    "                InLoop = InLoop.next\n",
    "#两个指针求入口\n",
    "            First = pHead\n",
    "            Last = pHead\n",
    "            for i in range(count):\n",
    "                First = First.next\n",
    "            while First != Last:\n",
    "                First = First.next\n",
    "                Last = Last.next\n",
    "            return First"
   ]
  },
  {
   "cell_type": "code",
   "execution_count": 8,
   "metadata": {},
   "outputs": [],
   "source": [
    "# -*- coding:utf-8 -*-\n",
    "#--------------简单解法----------------\n",
    "# class ListNode:\n",
    "#     def __init__(self, x):\n",
    "#         self.val = x\n",
    "#         self.next = None\n",
    "class Solution():\n",
    "    def EntryNodeOfLoop(self, pHead):\n",
    "        # write code here\n",
    "        if pHead == None or pHead.next == None:\n",
    "            return None\n",
    "        ls = []\n",
    "        while pHead.next != None and pHead.next not in ls:\n",
    "            ls.append(pHead)\n",
    "            pHead=pHead.next\n",
    "        return pHead.next       "
   ]
  },
  {
   "cell_type": "markdown",
   "metadata": {},
   "source": [
    "##### Note\n",
    "简单解法用了一个列表来储存节点，增加了空间开销"
   ]
  },
  {
   "cell_type": "markdown",
   "metadata": {},
   "source": [
    "## 024-反转链表"
   ]
  },
  {
   "cell_type": "code",
   "execution_count": 4,
   "metadata": {},
   "outputs": [],
   "source": [
    "# -*- coding:utf-8 -*-\n",
    "# class ListNode:\n",
    "#     def __init__(self, x):\n",
    "#         self.val = x\n",
    "#         self.next = None\n",
    "class Solution():\n",
    "    # 返回ListNode\n",
    "    def ReverseList(self, pHead):\n",
    "        # write code here\n",
    "        if pHead == None:\n",
    "            return None\n",
    "        pPrev = None\n",
    "        pNode = pHead\n",
    "        while pNode != None:\n",
    "            pNext = pNode.next\n",
    "            pNode.next=pPrev\n",
    "            pPrev = pNode\n",
    "            pNode = pNext\n",
    "        return pPrev"
   ]
  },
  {
   "cell_type": "markdown",
   "metadata": {},
   "source": [
    "## 025-合并两个排序的链表"
   ]
  },
  {
   "cell_type": "code",
   "execution_count": 1,
   "metadata": {},
   "outputs": [],
   "source": [
    "# -*- coding:utf-8 -*-\n",
    "# class ListNode:\n",
    "#     def __init__(self, x):\n",
    "#         self.val = x\n",
    "#         self.next = None\n",
    "class Solution():\n",
    "    # 返回合并后列表\n",
    "    def Merge(self, pHead1, pHead2):\n",
    "        # write code here\n",
    "        if pHead1==None:\n",
    "            return pHead2\n",
    "        elif pHead2==None:\n",
    "            return pHead1\n",
    "        else:\n",
    "            pFirst = None\n",
    "            if pHead1.val<pHead2.val:\n",
    "                pFirst = pHead1\n",
    "                pFirst.next = self.Merge(pHead1.next,pHead2)\n",
    "            else:\n",
    "                pFirst = pHead2\n",
    "                pFirst.next = self.Merge(pHead1,pHead2.next)\n",
    "            return pFirst               "
   ]
  },
  {
   "cell_type": "markdown",
   "metadata": {},
   "source": [
    "## 026-树的子结构"
   ]
  },
  {
   "cell_type": "code",
   "execution_count": 4,
   "metadata": {},
   "outputs": [],
   "source": [
    "# -*- coding:utf-8 -*-\n",
    "# class TreeNode:\n",
    "#     def __init__(self, x):\n",
    "#         self.val = x\n",
    "#         self.left = None\n",
    "#         self.right = None\n",
    "class Solution():\n",
    "    def HasSubtree(self, pRoot1, pRoot2):\n",
    "        # write code here\n",
    "        if pRoot2==None:\n",
    "            return False\n",
    "        if pRoot1==None:\n",
    "            return False\n",
    "        result = False\n",
    "        if pRoot1.val == pRoot2.val:\n",
    "            result = self.DoesHaveSubtree(pRoot1,pRoot2)\n",
    "        if not result:\n",
    "            result = self.HasSubtree(pRoot1.left,pRoot2)\n",
    "        if not result:\n",
    "            result = self.HasSubtree(pRoot1.right,pRoot2)\n",
    "        return result\n",
    "\n",
    "    def DoesHaveSubtree(self,pRoot1,pRoot2):\n",
    "        if pRoot2 == None:\n",
    "            return True\n",
    "        if pRoot1 == None:\n",
    "            return False\n",
    "        if pRoot1.val != pRoot2.val:\n",
    "            return False\n",
    "        else:\n",
    "            return self.DoesHaveSubtree(pRoot1.left,pRoot2.left) and self.DoesHaveSubtree(pRoot1.right,pRoot2.right)"
   ]
  },
  {
   "cell_type": "markdown",
   "metadata": {},
   "source": [
    "##### Note\n",
    "在这里我们假定了空树不是任何树的子结构"
   ]
  },
  {
   "cell_type": "code",
   "execution_count": null,
   "metadata": {},
   "outputs": [],
   "source": []
  }
 ],
 "metadata": {
  "kernelspec": {
   "display_name": "Python 3",
   "language": "python",
   "name": "python3"
  },
  "language_info": {
   "codemirror_mode": {
    "name": "ipython",
    "version": 3
   },
   "file_extension": ".py",
   "mimetype": "text/x-python",
   "name": "python",
   "nbconvert_exporter": "python",
   "pygments_lexer": "ipython3",
   "version": "3.7.3"
  }
 },
 "nbformat": 4,
 "nbformat_minor": 4
}
