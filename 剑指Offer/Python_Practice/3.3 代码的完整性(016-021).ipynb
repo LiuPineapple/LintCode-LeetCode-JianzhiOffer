{
 "cells": [
  {
   "cell_type": "markdown",
   "metadata": {},
   "source": [
    "# 3.3 代码的完整性(016-021)"
   ]
  },
  {
   "cell_type": "markdown",
   "metadata": {},
   "source": [
    "## 016-数值的整数次方"
   ]
  },
  {
   "cell_type": "code",
   "execution_count": 1,
   "metadata": {},
   "outputs": [],
   "source": [
    "# -*- coding:utf-8 -*-\n",
    "#---------------傻瓜方法----------------------------------\n",
    "class Solution():\n",
    "    def Power(self, base, exponent):\n",
    "        # write code here\n",
    "        return base**exponent"
   ]
  },
  {
   "cell_type": "code",
   "execution_count": 3,
   "metadata": {},
   "outputs": [],
   "source": [
    "# -*- coding:utf-8 -*-\n",
    "#--------------------------循环--------------------------\n",
    "class Solution:\n",
    "    def Power(self, base, exponent):\n",
    "        # write code here\n",
    "        if base == 0:\n",
    "            if exponent < 0:\n",
    "                return False\n",
    "            elif exponent == 0:\n",
    "                return 1\n",
    "            else:\n",
    "                return 0\n",
    "            return 0\n",
    "#         if exponent == 0:\n",
    "#             return 1\n",
    "        if exponent >=0:\n",
    "            return self.loop(base,exponent)\n",
    "        else:\n",
    "            return 1/self.loop(base,-exponent)\n",
    "    def loop(self,base,exponent):\n",
    "        result = 1\n",
    "        for i in range(exponent):\n",
    "            result *= base\n",
    "        return result"
   ]
  },
  {
   "cell_type": "code",
   "execution_count": 6,
   "metadata": {},
   "outputs": [],
   "source": [
    "# -*- coding:utf-8 -*-\n",
    "#--------------------------递归--------------------------\n",
    "class Solution():\n",
    "    def Power(self, base, exponent):\n",
    "        # write code here\n",
    "        if base == 0:\n",
    "            if exponent < 0:\n",
    "                return False\n",
    "            elif exponent == 0:\n",
    "                return 1\n",
    "            else:\n",
    "                return 0\n",
    "            return 0\n",
    "        if exponent == 0:\n",
    "            return 1\n",
    "        elif exponent >0:\n",
    "            return self.recurse(base,exponent)\n",
    "        else:\n",
    "            return 1/self.recurse(base,-exponent)\n",
    "    def recurse(self,base,exponent):\n",
    "        if exponent==1:\n",
    "            result = base\n",
    "        else:\n",
    "            result = self.recurse(base,exponent>>1)\n",
    "            result*=result\n",
    "            if exponent & 1 == 1:\n",
    "                result *= base\n",
    "        return result"
   ]
  },
  {
   "cell_type": "markdown",
   "metadata": {},
   "source": [
    "## 017-打印从1到最大的n位数"
   ]
  },
  {
   "cell_type": "markdown",
   "metadata": {},
   "source": [
    "牛客网上没有，不做"
   ]
  },
  {
   "cell_type": "markdown",
   "metadata": {},
   "source": [
    "## 018-删除链表的节点"
   ]
  },
  {
   "cell_type": "markdown",
   "metadata": {},
   "source": [
    "### 题目一 在O(1)时间内删除链表节点"
   ]
  },
  {
   "cell_type": "markdown",
   "metadata": {},
   "source": [
    "牛客网上没有，不做"
   ]
  },
  {
   "cell_type": "markdown",
   "metadata": {},
   "source": [
    "### 题目二 删除链表中重复的节点"
   ]
  },
  {
   "cell_type": "code",
   "execution_count": 4,
   "metadata": {},
   "outputs": [],
   "source": [
    "# -*- coding:utf-8 -*-\n",
    "# class ListNode:\n",
    "#     def __init__(self, x):\n",
    "#         self.val = x\n",
    "#         self.next = None\n",
    "class Solution():\n",
    "    def deleteDuplication(self, pHead):\n",
    "        # write code here\n",
    "        pFirst = ListNode(0)\n",
    "        pFirst.next = pHead\n",
    "        pNode1 = pFirst\n",
    "        pNode2 = pHead\n",
    "        while pNode2 != None and pNode2.next != None:\n",
    "            ifDelete = False\n",
    "            while pNode2.next != None and pNode2.val == pNode2.next.val:\n",
    "                ifDelete = True\n",
    "                pNode2 = pNode2.next\n",
    "            pNode2 = pNode2.next\n",
    "            if ifDelete:\n",
    "                pNode1.next = pNode2\n",
    "            else:\n",
    "                pNode1 = pNode1.next\n",
    "        return pFirst.next"
   ]
  },
  {
   "cell_type": "code",
   "execution_count": 1,
   "metadata": {},
   "outputs": [],
   "source": [
    "# -*- coding:utf-8 -*-\n",
    "# class ListNode:\n",
    "#     def __init__(self, x):\n",
    "#         self.val = x\n",
    "#         self.next = None\n",
    "class Solution():\n",
    "    def deleteDuplication(self, pHead):\n",
    "        # write code here\n",
    "        pNodeFirst = ListNode(0)\n",
    "        pNodeFirst.next = pHead\n",
    "        pNode1 = pNodeFirst\n",
    "        pNode2 = pHead\n",
    "        while pNode2 != None and pNode2.next != None:\n",
    "            ifDelete = False\n",
    "            while pNode2.val == pNode2.next.val:\n",
    "                ifDelete = True\n",
    "                pNode2 = pNode2.next\n",
    "                if pNode2.next == None:\n",
    "                    break\n",
    "            pNode2 = pNode2.next\n",
    "            if ifDelete:\n",
    "                pNode1.next = pNode2\n",
    "            else:\n",
    "                pNode1 = pNode1.next\n",
    "        return pNodeFirst.next"
   ]
  },
  {
   "cell_type": "code",
   "execution_count": 1,
   "metadata": {},
   "outputs": [
    {
     "name": "stdout",
     "output_type": "stream",
     "text": [
      "1\n"
     ]
    }
   ],
   "source": [
    "result = 1  \n",
    "exponent = 0\n",
    "for i in range(exponent):\n",
    "    result *= base\n",
    "print(result) "
   ]
  },
  {
   "cell_type": "code",
   "execution_count": 3,
   "metadata": {},
   "outputs": [
    {
     "data": {
      "text/plain": [
       "[]"
      ]
     },
     "execution_count": 3,
     "metadata": {},
     "output_type": "execute_result"
    }
   ],
   "source": [
    "list(range(0))"
   ]
  },
  {
   "cell_type": "markdown",
   "metadata": {},
   "source": [
    "##### Note:\n",
    "1. 上面两段代码的区别就是不同时期复习写的，本质思想是一样的，第一个代码更简洁一些\n",
    "2. 加入pFirst是为了应对重复值在最前面的情况。第一段代码两个while都加了一个判断None是为了应对重复值出现在最后面的情况"
   ]
  },
  {
   "cell_type": "markdown",
   "metadata": {},
   "source": [
    "## 019-正则表达式的匹配"
   ]
  },
  {
   "cell_type": "code",
   "execution_count": 9,
   "metadata": {},
   "outputs": [],
   "source": [
    "# -*- coding:utf-8 -*-\n",
    "class Solution():\n",
    "    # s, pattern都是字符串\n",
    "    def match(self, s, pattern):\n",
    "        # write code here\n",
    "        if s == '' and pattern =='':\n",
    "            return True\n",
    "        if s != '' and pattern == '':\n",
    "            return False\n",
    "        if s == '' and pattern != '':\n",
    "            if len(pattern) > 1 and pattern[1] == '*':\n",
    "                return self.match(s,pattern[2:])  \n",
    "            else:\n",
    "                return False            \n",
    "        index1 = 0\n",
    "        index2 = 0\n",
    "        if len(pattern)>1 and pattern[index2+1]=='*':\n",
    "            if s[index1] == pattern[index2] or pattern[index2 ]=='.':\n",
    "                return self.match(s[index1+1:],pattern[index2+2:]) or self.match(s[index1+1:],pattern[index2:]) or\\\n",
    "            self.match(s[index1:],pattern[index2+2:])\n",
    "            else:\n",
    "                return self.match(s[index1:],pattern[index2+2:])\n",
    "        else:\n",
    "            if s[index1] == pattern[index2] or pattern[index2 ]=='.':\n",
    "                return self.match(s[index1+1:],pattern[index2+1:])\n",
    "            else:\n",
    "                return False"
   ]
  },
  {
   "cell_type": "code",
   "execution_count": 31,
   "metadata": {},
   "outputs": [
    {
     "data": {
      "text/plain": [
       "False"
      ]
     },
     "execution_count": 31,
     "metadata": {},
     "output_type": "execute_result"
    }
   ],
   "source": [
    "solve = Solution()\n",
    "solve.match('a','.*')"
   ]
  },
  {
   "cell_type": "markdown",
   "metadata": {},
   "source": [
    "##### Note\n",
    "1. 两个字符串为0或者不为0，要考虑四种情况\n",
    "2. 写代码的时候不要刚开始就想着把多种情况合并，可以先写多一些慢慢聚合"
   ]
  },
  {
   "cell_type": "code",
   "execution_count": null,
   "metadata": {},
   "outputs": [],
   "source": []
  }
 ],
 "metadata": {
  "kernelspec": {
   "display_name": "Python 3",
   "language": "python",
   "name": "python3"
  },
  "language_info": {
   "codemirror_mode": {
    "name": "ipython",
    "version": 3
   },
   "file_extension": ".py",
   "mimetype": "text/x-python",
   "name": "python",
   "nbconvert_exporter": "python",
   "pygments_lexer": "ipython3",
   "version": "3.7.3"
  }
 },
 "nbformat": 4,
 "nbformat_minor": 4
}
