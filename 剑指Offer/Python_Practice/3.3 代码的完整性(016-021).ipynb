{
 "cells": [
  {
   "cell_type": "markdown",
   "metadata": {},
   "source": [
    "# 3.3 代码的完整性(016-021)"
   ]
  },
  {
   "cell_type": "markdown",
   "metadata": {},
   "source": [
    "## 016-数值的整数次方"
   ]
  },
  {
   "cell_type": "code",
   "execution_count": 1,
   "metadata": {},
   "outputs": [],
   "source": [
    "# -*- coding:utf-8 -*-\n",
    "#---------------傻瓜方法----------------------------------\n",
    "class Solution():\n",
    "    def Power(self, base, exponent):\n",
    "        # write code here\n",
    "        return base**exponent"
   ]
  },
  {
   "cell_type": "code",
   "execution_count": 3,
   "metadata": {},
   "outputs": [],
   "source": [
    "# -*- coding:utf-8 -*-\n",
    "#--------------------------循环--------------------------\n",
    "class Solution:\n",
    "    def Power(self, base, exponent):\n",
    "        # write code here\n",
    "        if base == 0:\n",
    "            if exponent < 0:\n",
    "                return False\n",
    "            elif exponent == 0:\n",
    "                return 1\n",
    "            else:\n",
    "                return 0\n",
    "            return 0\n",
    "        if exponent == 0:\n",
    "            return 1\n",
    "        elif exponent >0:\n",
    "            return self.loop(base,exponent)\n",
    "        else:\n",
    "            return 1/self.loop(base,-exponent)\n",
    "    def loop(self,base,exponent):\n",
    "        result = 1\n",
    "        for i in range(exponent):\n",
    "            result *= base\n",
    "        return result"
   ]
  },
  {
   "cell_type": "code",
   "execution_count": 6,
   "metadata": {},
   "outputs": [],
   "source": [
    "# -*- coding:utf-8 -*-\n",
    "#--------------------------递归--------------------------\n",
    "class Solution():\n",
    "    def Power(self, base, exponent):\n",
    "        # write code here\n",
    "        if base == 0:\n",
    "            if exponent < 0:\n",
    "                return False\n",
    "            elif exponent == 0:\n",
    "                return 1\n",
    "            else:\n",
    "                return 0\n",
    "            return 0\n",
    "        if exponent == 0:\n",
    "            return 1\n",
    "        elif exponent >0:\n",
    "            return self.recurse(base,exponent)\n",
    "        else:\n",
    "            return 1/self.recurse(base,-exponent)\n",
    "    def recurse(self,base,exponent):\n",
    "        if exponent==1:\n",
    "            result = base\n",
    "        else:\n",
    "            result = self.recurse(base,exponent>>1)\n",
    "            result*=result\n",
    "            if exponent & 1 == 1:\n",
    "                result *= base\n",
    "        return result"
   ]
  },
  {
   "cell_type": "markdown",
   "metadata": {},
   "source": [
    "## 017-打印从1到最大的n位数"
   ]
  },
  {
   "cell_type": "markdown",
   "metadata": {},
   "source": [
    "牛客网上没有，不做"
   ]
  },
  {
   "cell_type": "markdown",
   "metadata": {},
   "source": [
    "## 018-删除链表的节点"
   ]
  },
  {
   "cell_type": "markdown",
   "metadata": {},
   "source": [
    "### 题目一 在O(1)时间内删除链表节点"
   ]
  },
  {
   "cell_type": "markdown",
   "metadata": {},
   "source": [
    "牛客网上没有，不做"
   ]
  },
  {
   "cell_type": "markdown",
   "metadata": {},
   "source": [
    "### 题目二 删除链表中重复的节点"
   ]
  },
  {
   "cell_type": "code",
   "execution_count": 1,
   "metadata": {},
   "outputs": [],
   "source": [
    "# -*- coding:utf-8 -*-\n",
    "# class ListNode:\n",
    "#     def __init__(self, x):\n",
    "#         self.val = x\n",
    "#         self.next = None\n",
    "class Solution():\n",
    "    def deleteDuplication(self, pHead):\n",
    "        # write code here\n",
    "        pNodeFirst = ListNode(0)\n",
    "        pNodeFirst.next = pHead\n",
    "        pNode1 = pNodeFirst\n",
    "        pNode2 = pHead\n",
    "        while pNode2 != None and pNode2.next != None:\n",
    "            ifDelete = False\n",
    "            while pNode2.val == pNode2.next.val:\n",
    "                ifDelete = True\n",
    "                pNode2 = pNode2.next\n",
    "                if pNode2.next == None:\n",
    "                    break\n",
    "            pNode2 = pNode2.next\n",
    "            if ifDelete:\n",
    "                pNode1.next = pNode2\n",
    "            else:\n",
    "                pNode1 = pNode1.next\n",
    "        return pNodeFirst.next"
   ]
  },
  {
   "cell_type": "code",
   "execution_count": null,
   "metadata": {},
   "outputs": [],
   "source": []
  }
 ],
 "metadata": {
  "kernelspec": {
   "display_name": "Python 3",
   "language": "python",
   "name": "python3"
  },
  "language_info": {
   "codemirror_mode": {
    "name": "ipython",
    "version": 3
   },
   "file_extension": ".py",
   "mimetype": "text/x-python",
   "name": "python",
   "nbconvert_exporter": "python",
   "pygments_lexer": "ipython3",
   "version": "3.7.3"
  }
 },
 "nbformat": 4,
 "nbformat_minor": 4
}
