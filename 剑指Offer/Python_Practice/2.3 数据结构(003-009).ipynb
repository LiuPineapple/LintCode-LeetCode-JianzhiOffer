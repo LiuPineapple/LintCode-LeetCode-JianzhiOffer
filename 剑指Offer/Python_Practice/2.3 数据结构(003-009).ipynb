{
 "cells": [
  {
   "cell_type": "markdown",
   "metadata": {},
   "source": [
    "# 2.3 数据结构(003-009)"
   ]
  },
  {
   "cell_type": "markdown",
   "metadata": {},
   "source": [
    "## 003-数组中重复的数字"
   ]
  },
  {
   "cell_type": "markdown",
   "metadata": {},
   "source": [
    "### 题目一 找出数组中重复的数字"
   ]
  },
  {
   "cell_type": "code",
   "execution_count": 3,
   "metadata": {},
   "outputs": [],
   "source": [
    "# -*- coding:utf-8 -*-\n",
    "class Solution():\n",
    "    # 这里要特别注意~找到任意重复的一个值并赋值到duplication[0]\n",
    "    # 函数返回True/False\n",
    "    def duplicate(self, numbers, duplication):\n",
    "        if len(numbers)<=0:\n",
    "            return False\n",
    "        for i in numbers:\n",
    "            if i<0 or i>=len(numbers):\n",
    "                return False;\n",
    "        for i in range(len(numbers)):\n",
    "            while numbers[i] !=i:\n",
    "                if numbers[i]==numbers[numbers[i]]:\n",
    "                    duplication[0]=numbers[i]\n",
    "                    return True\n",
    "                else:\n",
    "                    tempt = numbers[i]\n",
    "                    numbers[i] = numbers[tempt]\n",
    "                    numbers[tempt] = tempt\n",
    "        return False        "
   ]
  },
  {
   "cell_type": "markdown",
   "metadata": {},
   "source": [
    "### 题目二 不修改数组找出重复的数字"
   ]
  },
  {
   "cell_type": "markdown",
   "metadata": {},
   "source": [
    "牛客网上没有，暂时不做"
   ]
  },
  {
   "cell_type": "markdown",
   "metadata": {},
   "source": [
    "## 004-二维数组中的查找"
   ]
  },
  {
   "cell_type": "code",
   "execution_count": null,
   "metadata": {},
   "outputs": [],
   "source": [
    "# -*- coding:utf-8 -*-\n",
    "class Solution():\n",
    "    # array 二维列表\n",
    "    def Find(self, target, array):\n",
    "        # write code here\n",
    "        rows = len(array)\n",
    "        if rows != 0:\n",
    "            columns = len(array[0])\n",
    "            if columns != 0:\n",
    "                row = 0\n",
    "                column = columns-1\n",
    "                while row<rows and column >=0:\n",
    "                    if array[row][column] == target:\n",
    "                        return True\n",
    "                    elif array[row][column] > target:\n",
    "                        column-=1\n",
    "                    else:\n",
    "                        row+=1\n",
    "        return False"
   ]
  },
  {
   "cell_type": "markdown",
   "metadata": {},
   "source": [
    "## 005-替换空格"
   ]
  },
  {
   "cell_type": "code",
   "execution_count": 23,
   "metadata": {},
   "outputs": [],
   "source": [
    "# -*- coding:utf-8 -*-\n",
    "#-------------------------书中的方法-------------------------------------\n",
    "class Solution():\n",
    "    # s 源字符串\n",
    "    def replaceSpace(self, s):\n",
    "        # write code here\n",
    "        slist = list(s)\n",
    "        count = 0\n",
    "        for i in slist:\n",
    "            if i == ' ':\n",
    "                count+=2\n",
    "        slist.extend([' ' for i in range(count)])\n",
    "        p1 = len(s)-1\n",
    "        p2 = len(slist)-1\n",
    "        while p1 != p2:\n",
    "            if slist[p1] != ' ':\n",
    "                slist[p2] = slist[p1]\n",
    "                p2-=1\n",
    "            else:\n",
    "                slist[p2] = '0'\n",
    "                slist[p2-1] = '2'\n",
    "                slist[p2-2] = '%'\n",
    "                p2-=3\n",
    "            p1-=1\n",
    "        return ''.join(slist)"
   ]
  },
  {
   "cell_type": "code",
   "execution_count": 24,
   "metadata": {},
   "outputs": [
    {
     "data": {
      "text/plain": [
       "'hello%20world'"
      ]
     },
     "execution_count": 24,
     "metadata": {},
     "output_type": "execute_result"
    }
   ],
   "source": [
    "solve = Solution()\n",
    "solve.replaceSpace('hello world')"
   ]
  },
  {
   "cell_type": "code",
   "execution_count": 5,
   "metadata": {},
   "outputs": [],
   "source": [
    "# -*- coding:utf-8 -*-\n",
    "#------------------------------------适合python的方法-----------------------------------------\n",
    "class Solution():\n",
    "    # s 源字符串\n",
    "    def replaceSpace(self, s):\n",
    "        # write code here\n",
    "        s = list(s)\n",
    "        new_s = []\n",
    "        for i in s:\n",
    "            if i != ' ':\n",
    "                new_s.append(i)\n",
    "            else:\n",
    "                new_s.extend(['%','2','0'])\n",
    "        return ''.join(new_s)"
   ]
  },
  {
   "cell_type": "markdown",
   "metadata": {},
   "source": [
    "##### Note\n",
    "1. 在python中，str是不可变对象，因此我们需要转化成list，这样的话，增加了额外的内存开销。\n",
    "2. 明显第二种做法更简洁\n",
    "3. list.append(i)在列表后面增加元素，list.extend(list)在列表后面拼接其他列表"
   ]
  },
  {
   "cell_type": "markdown",
   "metadata": {},
   "source": [
    "## 006-从尾到头打印链表"
   ]
  },
  {
   "cell_type": "code",
   "execution_count": 1,
   "metadata": {},
   "outputs": [],
   "source": [
    "# -*- coding:utf-8 -*-\n",
    "#--------------------------------------递归实现-----------------------------------------------\n",
    "# class ListNode:\n",
    "#     def __init__(self, x):\n",
    "#         self.val = x\n",
    "#         self.next = None\n",
    "\n",
    "class Solution():\n",
    "    # 返回从尾部到头部的列表值序列，例如[1,2,3]\n",
    "    def __init__(self):\n",
    "        self.relist = []\n",
    "        \n",
    "    def recurse(self,listNode):\n",
    "        if listNode.next != None:\n",
    "            self.recurse(listNode.next)\n",
    "        self.relist.append(listNode.val)\n",
    "        \n",
    "    def printListFromTailToHead(self, listNode):\n",
    "        # write code here\n",
    "        if listNode == None:\n",
    "            return []\n",
    "        else:\n",
    "            self.recurse(listNode)\n",
    "        return self.relist"
   ]
  },
  {
   "cell_type": "markdown",
   "metadata": {},
   "source": [
    "##### Note:\n",
    "1. 递归一定要有结束的条件才行，即满足某个条件时不再继续调用自身\n",
    "2. 遇到递归的复杂一些的题经常要写两个函数，一个作为主函数供调用，另一个作为递归核心不断调用自身\n",
    "3. 递归的时候不断重复相同名字的变量是很正常的，他们在不同的函数作用域下所以不用担心重名"
   ]
  },
  {
   "cell_type": "markdown",
   "metadata": {},
   "source": [
    "## 007-重建二叉树"
   ]
  },
  {
   "cell_type": "code",
   "execution_count": 1,
   "metadata": {},
   "outputs": [],
   "source": [
    "# -*- coding:utf-8 -*-\n",
    "#----------------------------------递归实现--------------------------------------------\n",
    "# class TreeNode:\n",
    "#     def __init__(self, x):\n",
    "#         self.val = x\n",
    "#         self.left = None\n",
    "#         self.right = None\n",
    "class Solution():\n",
    "    # 返回构造的TreeNode根节点\n",
    "    def recurse(self,pre,tin):\n",
    "        if len(pre)==0:\n",
    "            return None\n",
    "#         elif len(pre)==1:       \n",
    "        else:\n",
    "            head = pre[0]\n",
    "            ind = tin.index(head)\n",
    "            root = TreeNode(head)\n",
    "            root.left = self.recurse(pre[1:ind+1],tin[:ind])\n",
    "            root.right = self.recurse(pre[ind+1:],tin[ind+1:])\n",
    "            return root\n",
    "            \n",
    "    def reConstructBinaryTree(self, pre, tin):\n",
    "        # write code here\n",
    "        pre = list(pre)\n",
    "        tin = list(tin)\n",
    "        if len(pre) == len(tin) and len(tin) !=0:\n",
    "            return self.recurse(pre,tin)\n",
    "        else:\n",
    "            return None       "
   ]
  },
  {
   "cell_type": "markdown",
   "metadata": {},
   "source": [
    "##### Note:\n",
    "1. 把问题分成0的情况，1的情况，多个的情况，其中当出现0或1的情况时有确定输出，多个情况时递归，是递归的常用套路\n",
    "2. python中的集合对象是无法使用下标索引的，故要转换成list\n",
    "3. 上述代码能够实现，依赖于python中list的特性，即如果是索引超出范围会报错，但切片不会，切片完全超出范围会返回空列表，看下面例子"
   ]
  },
  {
   "cell_type": "code",
   "execution_count": 2,
   "metadata": {},
   "outputs": [],
   "source": [
    "a = [1,2]"
   ]
  },
  {
   "cell_type": "code",
   "execution_count": 3,
   "metadata": {},
   "outputs": [
    {
     "ename": "IndexError",
     "evalue": "list index out of range",
     "output_type": "error",
     "traceback": [
      "\u001b[1;31m---------------------------------------------------------------------------\u001b[0m",
      "\u001b[1;31mIndexError\u001b[0m                                Traceback (most recent call last)",
      "\u001b[1;32m<ipython-input-3-f75b6be7d8e3>\u001b[0m in \u001b[0;36m<module>\u001b[1;34m\u001b[0m\n\u001b[1;32m----> 1\u001b[1;33m \u001b[0ma\u001b[0m\u001b[1;33m[\u001b[0m\u001b[1;36m3\u001b[0m\u001b[1;33m]\u001b[0m\u001b[1;33m\u001b[0m\u001b[1;33m\u001b[0m\u001b[0m\n\u001b[0m",
      "\u001b[1;31mIndexError\u001b[0m: list index out of range"
     ]
    }
   ],
   "source": [
    "a[3]"
   ]
  },
  {
   "cell_type": "code",
   "execution_count": 4,
   "metadata": {},
   "outputs": [
    {
     "data": {
      "text/plain": [
       "[]"
      ]
     },
     "execution_count": 4,
     "metadata": {},
     "output_type": "execute_result"
    }
   ],
   "source": [
    "a[5:]"
   ]
  },
  {
   "cell_type": "code",
   "execution_count": 5,
   "metadata": {},
   "outputs": [
    {
     "data": {
      "text/plain": [
       "[2]"
      ]
     },
     "execution_count": 5,
     "metadata": {},
     "output_type": "execute_result"
    }
   ],
   "source": [
    "a[1:5]"
   ]
  },
  {
   "cell_type": "code",
   "execution_count": 32,
   "metadata": {},
   "outputs": [],
   "source": [
    "# -*- coding:utf-8 -*-\n",
    "# class TreeNode:\n",
    "#     def __init__(self, x):\n",
    "#         self.val = x\n",
    "#         self.left = None\n",
    "#         self.right = None\n",
    "class Solution():\n",
    "    # 返回构造的TreeNode根节点\n",
    "    def recurse(self,pre,tin):\n",
    "        pre = list(pre)\n",
    "        tin = list(tin)\n",
    "        head = TreeNode(pre[0])\n",
    "        if len(pre)==1:\n",
    "            return head\n",
    "        left_count = 0\n",
    "        for i in tin:\n",
    "            if i != head.val:\n",
    "                left_count+=1\n",
    "            else:\n",
    "                break\n",
    "        right_count = len(pre)-1-left_count\n",
    "        if left_count != 0:\n",
    "            head.left = self.recurse(pre[1:left_count+1],tin[:left_count])            \n",
    "        if right_count !=0:\n",
    "            head.right = self.recurse(pre[left_count+1:],tin[left_count+1:])\n",
    "        return head\n",
    "\n",
    "    def reConstructBinaryTree(self, pre, tin):\n",
    "        # write code here\n",
    "        if len(pre) == len(tin) and len(tin) !=0:\n",
    "            return self.recurse(pre,tin)\n",
    "        else:\n",
    "            return None"
   ]
  },
  {
   "cell_type": "markdown",
   "metadata": {},
   "source": [
    "##### Note:\n",
    "1. 上面两段代码的区别就是不同时期复习写的，本质思想是一样的，第一个代码更简洁一些\n",
    "2. 对于python来说，更简单的方法是直接使用list的index方法求出下标，而不是写循环去计算left_count"
   ]
  },
  {
   "cell_type": "markdown",
   "metadata": {},
   "source": [
    "## 008-二叉树的下一个节点"
   ]
  },
  {
   "cell_type": "code",
   "execution_count": 6,
   "metadata": {},
   "outputs": [],
   "source": [
    "# -*- coding:utf-8 -*-\n",
    "# class TreeLinkNode():\n",
    "#     def __init__(self, x):\n",
    "#         self.val = x\n",
    "#         self.left = None\n",
    "#         self.right = None\n",
    "#         self.next = None\n",
    "class Solution():\n",
    "    def GetNext(self, pNode):\n",
    "        # write code here\n",
    "        if pNode.right != None:\n",
    "            node = pNode.right\n",
    "            while node.left != None:\n",
    "                node = node.left\n",
    "            return node\n",
    "        else:\n",
    "            while pNode.next != None and pNode.next.right == pNode:\n",
    "                pNode = pNode.next\n",
    "            return pNode.next      "
   ]
  },
  {
   "cell_type": "code",
   "execution_count": 1,
   "metadata": {},
   "outputs": [],
   "source": [
    "# -*- coding:utf-8 -*-\n",
    "# class TreeLinkNode:\n",
    "#     def __init__(self, x):\n",
    "#         self.val = x\n",
    "#         self.left = None\n",
    "#         self.right = None\n",
    "#         self.next = None\n",
    "class Solution():\n",
    "    def GetNext(self, pNode):\n",
    "        # write code here\n",
    "        if pNode == None:\n",
    "            return None\n",
    "        if pNode.right != None:\n",
    "            pNext = pNode.right\n",
    "            while pNext.left != None:\n",
    "                pNext = pNext.left\n",
    "        else:\n",
    "            pParent = pNode.next\n",
    "            while pParent != None and pNode == pParent.right:\n",
    "                pNode = pParent\n",
    "                pParent = pNode.next\n",
    "            pNext = pParent\n",
    "        return pNext               "
   ]
  },
  {
   "cell_type": "markdown",
   "metadata": {},
   "source": [
    "##### Note:\n",
    "1. 上面两段代码的区别就是不同时期复习写的，本质思想是一样的，第一个代码更简洁一些\n",
    "2. 除了算法之外，在解题（用语言具体实现）的过程中可能会出现很多细节问题，需要做题时细心分析。\n",
    "3. for是已经大概知道循环次数做循环，while是已知循环条件做循环，if是只判断一次条件"
   ]
  },
  {
   "cell_type": "markdown",
   "metadata": {},
   "source": [
    "## 009-用两个栈实现队列"
   ]
  },
  {
   "cell_type": "code",
   "execution_count": 3,
   "metadata": {},
   "outputs": [],
   "source": [
    "# -*- coding:utf-8 -*-\n",
    "class Solution:\n",
    "    def __init__(self):\n",
    "        self.stack1 = []\n",
    "        self.stack2 = []\n",
    "    def push(self, node):\n",
    "        # write code here\n",
    "        self.stack1.append(node)\n",
    "    def pop(self):\n",
    "        # return xx\n",
    "        if self.stack2 == []:\n",
    "            while self.stack1 != []:\n",
    "                temp = self.stack1.pop()\n",
    "                self.stack2.append(temp)\n",
    "        return self.stack2.pop()"
   ]
  },
  {
   "cell_type": "markdown",
   "metadata": {},
   "source": [
    "##### Note:\n",
    "1. 使用python列表的pop和append方法可以把列表当成栈用,pop方法默认删除并返回列表最后一个元素。在这里，列表尾被当成栈顶\n",
    "2. 这道题的关键在于判断stack2是否为空\n"
   ]
  },
  {
   "cell_type": "code",
   "execution_count": null,
   "metadata": {},
   "outputs": [],
   "source": []
  }
 ],
 "metadata": {
  "kernelspec": {
   "display_name": "Python 3",
   "language": "python",
   "name": "python3"
  },
  "language_info": {
   "codemirror_mode": {
    "name": "ipython",
    "version": 3
   },
   "file_extension": ".py",
   "mimetype": "text/x-python",
   "name": "python",
   "nbconvert_exporter": "python",
   "pygments_lexer": "ipython3",
   "version": "3.7.3"
  }
 },
 "nbformat": 4,
 "nbformat_minor": 2
}
