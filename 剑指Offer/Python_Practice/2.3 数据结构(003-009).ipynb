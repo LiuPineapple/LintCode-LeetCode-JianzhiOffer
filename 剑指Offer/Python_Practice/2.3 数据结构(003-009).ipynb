{
 "cells": [
  {
   "cell_type": "markdown",
   "metadata": {},
   "source": [
    "# 2.3 数据结构(003-009)"
   ]
  },
  {
   "cell_type": "markdown",
   "metadata": {},
   "source": [
    "---\n",
    "##### Notes:\n",
    "1. 算法与数据结构内容非常多，我们并不需要记住所有的，只需要记住常用的，应对笔试即可\n",
    "2. 算法与数据结构都是抽象的，但是想要实现必须依赖不同的语言，每种语言都有各自的实现方式。对于数据结构来说，有的语言把一些数据结构内置给你写好了，有些需要你自己去创建。\n",
    "3. 算法的核心是能解决普通用例，通过机试的关键是能解决特殊用例\n",
    "\n",
    "---\n",
    "---\n",
    "##### Notes:\n",
    "数组：线性顺序表，是一种最简单的数据结构，占据一块连续的内存并按照顺序储存数据\n",
    "\n",
    "优点：\n",
    "1. 时间效率高，可以根据下标在O(1)时间读/写任何元素\n",
    "2. 无需为了表示元素中的逻辑关系额外增加储存空间\n",
    "\n",
    "缺点：\n",
    "1. 储存空间要预先静态分配，造成浪费，空间效率不高\n",
    "2. 插入和删除元素不方便，除了表尾外，其他位置插入和删除都要移动大量元素，效率较低\n",
    "\n",
    "为了解决数组空间效率不高的问题，人们又设计实现了多种动态数组\n",
    "\n",
    "---\n",
    ">什么是线性表？顺序表"
   ]
  },
  {
   "cell_type": "markdown",
   "metadata": {},
   "source": [
    "## 003-数组中重复的数字"
   ]
  },
  {
   "cell_type": "markdown",
   "metadata": {},
   "source": [
    "### 题目一"
   ]
  },
  {
   "cell_type": "code",
   "execution_count": 3,
   "metadata": {},
   "outputs": [],
   "source": [
    "# -*- coding:utf-8 -*-\n",
    "class Solution():\n",
    "    # 这里要特别注意~找到任意重复的一个值并赋值到duplication[0]\n",
    "    # 函数返回True/False\n",
    "    def duplicate(self, numbers, duplication):\n",
    "        if len(numbers)<=0:\n",
    "            return False\n",
    "        for i in numbers:\n",
    "            if i<0 or i>=len(numbers):\n",
    "                return False;\n",
    "        for i in range(len(numbers)):\n",
    "            while numbers[i] !=i:\n",
    "                if numbers[i]==numbers[numbers[i]]:\n",
    "                    duplication[0]=numbers[i]\n",
    "                    return True\n",
    "                else:\n",
    "                    tempt = numbers[i]\n",
    "                    numbers[i] = numbers[tempt]\n",
    "                    numbers[tempt] = tempt\n",
    "        return False        "
   ]
  },
  {
   "cell_type": "markdown",
   "metadata": {},
   "source": [
    "####  复杂度分析：\n",
    "虽然有两重循环，但对数组中的每一个数来说，最多只要移动两次，故时间复杂度为O(n)\n",
    "\n",
    "所有操作在输入数组上进行，没有开辟新的数组，故空间复杂度为O(1)\n",
    "\n",
    ">时间复杂度这里存疑"
   ]
  },
  {
   "cell_type": "markdown",
   "metadata": {},
   "source": [
    "### 题目二"
   ]
  },
  {
   "cell_type": "markdown",
   "metadata": {},
   "source": [
    "牛客网上没有，暂时不做"
   ]
  },
  {
   "cell_type": "markdown",
   "metadata": {},
   "source": [
    "## 004-二维数组中的查找"
   ]
  },
  {
   "cell_type": "code",
   "execution_count": 7,
   "metadata": {},
   "outputs": [],
   "source": [
    "# -*- coding:utf-8 -*-\n",
    "class Solution():\n",
    "    # array 二维列表\n",
    "    def Find(self, target, array):\n",
    "        # write code here\n",
    "        rows = len(array)\n",
    "        if rows != 0:\n",
    "            columns = len(array[0])\n",
    "            if columns != 0:\n",
    "                row = 0\n",
    "                column = columns-1\n",
    "                while row<rows and column>=0:\n",
    "                    search = arrray[row][column]\n",
    "                    if search == target:\n",
    "                        return True\n",
    "                    elif search>target:\n",
    "                        column = column-1\n",
    "                    else:\n",
    "                        row = row +1\n",
    "        return False"
   ]
  },
  {
   "cell_type": "markdown",
   "metadata": {},
   "source": [
    "---\n",
    "##### Notes:\n",
    "在上面的实现中，我们每次都选择右上角的数字，当然，我们也可以每次都选取左下角的数字\n",
    "\n",
    "---"
   ]
  },
  {
   "cell_type": "markdown",
   "metadata": {},
   "source": [
    "## 005-替换空格"
   ]
  },
  {
   "cell_type": "code",
   "execution_count": 5,
   "metadata": {},
   "outputs": [],
   "source": [
    "# -*- coding:utf-8 -*-\n",
    "class Solution():\n",
    "    # s 源字符串\n",
    "    def replaceSpace(self, s):\n",
    "        # write code here\n",
    "        s = list(s)\n",
    "        new_s = []\n",
    "        for i in s:\n",
    "            if i != ' ':\n",
    "                new_s.append(i)\n",
    "            else:\n",
    "                new_s.extend(['%','2','0'])\n",
    "        return ''.join(new_s)"
   ]
  },
  {
   "cell_type": "markdown",
   "metadata": {},
   "source": [
    "---\n",
    "##### Notes:\n",
    "链表：又叫单链接表，单链表\n",
    "\n",
    "链表是一种物理存储单元上非连续、非顺序的存储结构。链表由一系列结点（链表中每一个元素称为结点）组成，结点可以在运行时动态生成。每个结点包括两个部分：一个是存储数据元素的数据域，另一个是存储下一个结点地址的指针域，数据元素的逻辑顺序是通过链表中的指针链接次序实现的。\n",
    "\n",
    "优点：\n",
    "1. 空间效率高，没有闲置的内存\n",
    "2. 插入和删除元素可以达到O(1)复杂度\n",
    "\n",
    "缺点：\n",
    "1. 查找一个节点或者访问特定编号的节点则需要O(n)的时间\n",
    "2. 每个节点要设置指针来表示元素间的逻辑关系，增加了额外的存储开销\n",
    "\n",
    "---"
   ]
  },
  {
   "cell_type": "markdown",
   "metadata": {},
   "source": [
    "## 006-从尾到头打印链表"
   ]
  },
  {
   "cell_type": "code",
   "execution_count": 7,
   "metadata": {},
   "outputs": [],
   "source": [
    "# -*- coding:utf-8 -*-\n",
    "# class ListNode:\n",
    "#     def __init__(self, x):\n",
    "#         self.val = x\n",
    "#         self.next = None\n",
    "#---------------------递归实现----------------------\n",
    "class Solution():\n",
    "    # 返回从尾部到头部的列表值序列，例如[1,2,3]\n",
    "    def __init__(self):\n",
    "        self.arraylist = []\n",
    "    def recurse(self,listNode):        \n",
    "        if listNode != None:\n",
    "            if listNode.next != None:\n",
    "                self.recurse(listNode.next)\n",
    "            self.arraylist.append(listNode.val)\n",
    "    def printListFromTailToHead(self, listNode):\n",
    "        # write code here\n",
    "        self.recurse(listNode)\n",
    "        return self.arraylist"
   ]
  },
  {
   "cell_type": "markdown",
   "metadata": {},
   "source": [
    "---\n",
    "##### Notes:\n",
    "1. 递归在计算机中通过栈来实现，当链表过长时可能导致栈溢出(stack overflow哈哈)\n",
    "2. 递归一定要有结束的条件才行，即满足某个条件时不再继续调用自身\n",
    "\n",
    "---"
   ]
  },
  {
   "cell_type": "markdown",
   "metadata": {},
   "source": [
    "---\n",
    "##### Notes:\n",
    "树：定义及分类见算法与数据结构（傅清祥版）\n",
    "\n",
    "---\n",
    "---\n",
    "##### Notes:\n",
    "所谓遍历(Traversal)，是指沿着某条搜索路线，依次对树（或图）或集合中每个节点均做一次访问（只做一次）。\n",
    "\n",
    "访问结点所做的操作依赖于具体的应用问题， 具体的访问操作可能是检查节点的值、更新节点的值等。不同的遍历方式，其访问节点的顺序是不一样的。遍历是二叉树上最重要的运算之一，是二叉树上进行其它运算之基础。当然遍历的概念也适合于多元素集合的情况，如数组。\n",
    "\n",
    "---\n",
    "---\n",
    "##### Notes:\n",
    "1. 四种遍历方法的区别，见本书，算法与数据结构（傅清祥版），和以下博文：https://www.cnblogs.com/jpfss/p/11141956.html\n",
    "2. 前序、中序和后序遍历在算法与数据结构（傅清祥版）一书中都是采取递归的方法定义的，各自有递归和循环两种实现方式，递归比循环实现代码要简洁\n",
    "\n",
    "---"
   ]
  },
  {
   "cell_type": "markdown",
   "metadata": {},
   "source": [
    "## 007-重建二叉树"
   ]
  },
  {
   "cell_type": "code",
   "execution_count": 32,
   "metadata": {},
   "outputs": [],
   "source": [
    "# -*- coding:utf-8 -*-\n",
    "# class TreeNode:\n",
    "#     def __init__(self, x):\n",
    "#         self.val = x\n",
    "#         self.left = None\n",
    "#         self.right = None\n",
    "class Solution():\n",
    "    # 返回构造的TreeNode根节点\n",
    "    def recurse(self,pre,tin):\n",
    "        pre = list(pre)\n",
    "        tin = list(tin)\n",
    "        head = TreeNode(pre[0])\n",
    "        if len(pre)==1:\n",
    "            return head\n",
    "        left_count = 0\n",
    "        for i in tin:\n",
    "            if i != head.val:\n",
    "                left_count+=1\n",
    "            else:\n",
    "                break\n",
    "        right_count = len(pre)-1-left_count\n",
    "        if left_count != 0:\n",
    "            head.left = self.recurse(pre[1:left_count+1],tin[:left_count])            \n",
    "        if right_count !=0:\n",
    "            head.right = self.recurse(pre[left_count+1:],tin[left_count+1:])\n",
    "        return head\n",
    "\n",
    "    def reConstructBinaryTree(self, pre, tin):\n",
    "        # write code here\n",
    "        if len(pre) == len(tin) and len(tin) !=0:\n",
    "            return self.recurse(pre,tin)\n",
    "        else:\n",
    "            return None"
   ]
  },
  {
   "cell_type": "markdown",
   "metadata": {},
   "source": [
    "---\n",
    "##### Notes:\n",
    "1. 把问题分成0的情况，1的情况，多个的情况，其中当出现1的情况时有确定输出，多个情况时递归，是递归的常用套路\n",
    "2. python中的集合对象是无法使用下标索引的，故要转换成list\n",
    "3. 对于python来说，更简单的方法是直接使用list的index方法求出下标，而不是写循环去计算left_count\n",
    "\n",
    "---"
   ]
  },
  {
   "cell_type": "markdown",
   "metadata": {},
   "source": [
    "## 008-二叉树的下一个节点"
   ]
  },
  {
   "cell_type": "code",
   "execution_count": 1,
   "metadata": {},
   "outputs": [],
   "source": [
    "# -*- coding:utf-8 -*-\n",
    "# class TreeLinkNode:\n",
    "#     def __init__(self, x):\n",
    "#         self.val = x\n",
    "#         self.left = None\n",
    "#         self.right = None\n",
    "#         self.next = None\n",
    "class Solution():\n",
    "    def GetNext(self, pNode):\n",
    "        # write code here\n",
    "        if pNode == None:\n",
    "            return None\n",
    "        if pNode.right != None:\n",
    "            pNext = pNode.right\n",
    "            while pNext.left != None:\n",
    "                pNext = pNext.left\n",
    "        else:\n",
    "            pParent = pNode.next\n",
    "            while pParent != None and pNode == pParent.right:\n",
    "                pNode = pParent\n",
    "                pParent = pNode.next\n",
    "            pNext = pParent\n",
    "        return pNext               "
   ]
  },
  {
   "cell_type": "markdown",
   "metadata": {},
   "source": [
    "---\n",
    "##### Notes:\n",
    "除了算法之外，在解题（用语言具体实现）的过程中可能会出现很多细节问题，需要做题时细心分析。\n",
    "\n",
    "---"
   ]
  },
  {
   "cell_type": "markdown",
   "metadata": {},
   "source": [
    "---\n",
    "##### Notes:\n",
    "栈：一种特殊的表，又称为后进先出表（Last In First Out）简称LIFO表，最后被压入（push）的元素会最先被弹出（pop）\n",
    "\n",
    "只在表头进行插入和删除操作，成为栈顶，表尾称为栈底\n",
    "\n",
    "队列：一种特殊的表，又称为先进先出表（First In First Out）简称FIFO表\n",
    "\n",
    "只在表头进行删除操作，成为队头，只在表尾进行插入操作，称为队尾\n",
    "\n",
    "---"
   ]
  },
  {
   "cell_type": "markdown",
   "metadata": {},
   "source": [
    "## 009-用两个栈实现队列"
   ]
  },
  {
   "cell_type": "code",
   "execution_count": 3,
   "metadata": {},
   "outputs": [],
   "source": [
    "# -*- coding:utf-8 -*-\n",
    "class Solution:\n",
    "    def __init__(self):\n",
    "        self.stack1 = []\n",
    "        self.stack2 = []\n",
    "    def push(self, node):\n",
    "        # write code here\n",
    "        self.stack1.append(node)\n",
    "    def pop(self):\n",
    "        # return xx\n",
    "        if self.stack2 == []:\n",
    "            while self.stack1 != []:\n",
    "                temp = self.stack1.pop()\n",
    "                self.stack2.append(temp)\n",
    "        return self.stack2.pop()"
   ]
  },
  {
   "cell_type": "markdown",
   "metadata": {},
   "source": [
    "---\n",
    "##### Notes:\n",
    "1. 使用python列表的pop和append方法可以把列表当成栈用\n",
    "2. 这道题的关键在于判断stack2是否为空\n",
    "\n",
    "---"
   ]
  }
 ],
 "metadata": {
  "kernelspec": {
   "display_name": "Python 3",
   "language": "python",
   "name": "python3"
  },
  "language_info": {
   "codemirror_mode": {
    "name": "ipython",
    "version": 3
   },
   "file_extension": ".py",
   "mimetype": "text/x-python",
   "name": "python",
   "nbconvert_exporter": "python",
   "pygments_lexer": "ipython3",
   "version": "3.7.3"
  }
 },
 "nbformat": 4,
 "nbformat_minor": 2
}
